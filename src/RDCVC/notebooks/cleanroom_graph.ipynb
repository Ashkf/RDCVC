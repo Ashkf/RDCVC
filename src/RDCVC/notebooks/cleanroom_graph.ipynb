{
 "cells": [
  {
   "cell_type": "markdown",
   "metadata": {},
   "source": [
    "# 基于有向无环图的多区域洁净室渗透气流网络构建\n",
    "\n",
    "依据多区域洁净厂房静态运行时，房间压差、渗风等元素成对稳定存在且相互依赖的特点，构建一个加权的有向无环图（Directed Acyclic Graph，DAG）来描述多区域洁净室渗透气流网络，具体表述为：\n",
    "\n",
    "$$G = (V,E,W)$$\n",
    "\n",
    "其中，$V$ 是顶点集合，$E$ 是有向边集合，$W$ 是权重函数。\n",
    "\n",
    "$V$ 中每个顶点 $v_i$ 代表一个房间，其属性包括房间的编号、压差和洁净度等级。有向边集 $E$ 通过有向边 $e_{ij}$ 表示各房间的相邻关系及压差梯度导致的渗风方向，即从高压区 $v_i$ 指向低压区 $v_j$。渗风主要通过门窗缝隙在相邻房间之间传播，而边的有向性自然指示了渗风方向。权重函数 $W$ 将房间之间的有向边 $e_{ij}$ 映射至正实数权重 $w_{ij}$，以量化表示从高压区 $v_i$ 指向低压区 $v_j$ 的渗风强度，与房间之间的压差成正比。权重参考门缝渗风的函数关系设置为：\n",
    "\n",
    "$$w_{ij} = \\Delta p^{0.5}_{ij} = |p_{i} - p_{j}|^{0.5}$$\n",
    "\n",
    "以此，分别构建当前工况图 $G_c$ 与设计工况图 $G_d$。为了定量衡量多区域洁净厂房系统各房间压差控制效果与设计值的差异，需要将 $G_c$ 与 $G_d$ 进行比较。在考虑每个顶点的压差属性、边的方向和权重的基础上，提出有效压差梯度系数 $I_{DPGD}$ 以量化表示多区域洁净厂房系统各房间压差控制效果与设计值的差异。"
   ]
  },
  {
   "cell_type": "markdown",
   "metadata": {},
   "source": [
    "# 基于图的压差梯度差异性指标（Differential pressure gradient discrepancy，$I_{\\rm{DPGD}}$）"
   ]
  },
  {
   "cell_type": "markdown",
   "metadata": {},
   "source": [
    "## 指标设计目标\n",
    "\n",
    "$I_{\\rm{DPGD}}$ 应当能够反映多区域洁净室在不同工况下压差梯度的差异性。\n",
    "\n",
    "在进行风平衡和压差控制时，可以用来衡量当前压差梯度工况图 $G_c$ 与设计图 $G_d$ 之间的差异，以便于进一步分析压差控制的有效性。\n",
    "\n",
    "## 指标设计原则\n",
    "\n",
    "1. $I_{\\rm{DPGD}}$ 应当能够反映多区域洁净室在不同工况下压差梯度的差异性。当 $I_{\\rm{DPGD}} > 0$ 时，表示存在差异；当 $I_{\\rm{DPGD}} < 0$ 时，表示逆压差梯度（高洁净度房间压差低于低洁净度房间），应该是错误工况； 当 $I_{\\rm{DPGD}} = 0$ 时，表示完全一致，各房间压差较设计值绝对误差均为 0（特殊情况）。\n",
    "2. $I_{\\rm{DPGD}}$ 的变化应与节点压差属性的绝对误差同步，且洁净度越高的房间影响越大。\n",
    "3. $I_{\\rm{DPGD}}$ 的变化应与边权重属性的绝对误差同步，且洁净度越高的房间影响越大。\n",
    "4. $I_{\\rm{DPGD}}$ 的变化应与逆压差梯度（高洁净度房间压差低于低洁净度房间）的发生同步，当逆压差梯度发生时，对应节点间边的方向相反（权重固定为正实数），此时应当有 $I_{\\rm{DPGD}} < 0$。"
   ]
  },
  {
   "cell_type": "markdown",
   "metadata": {},
   "source": [
    "## 模型"
   ]
  },
  {
   "cell_type": "code",
   "execution_count": 1,
   "metadata": {},
   "outputs": [],
   "source": [
    "import networkx as nx\n",
    "from pydantic import BaseModel, field_validator, model_validator\n",
    "from typing_extensions import Self\n",
    "\n",
    "\n",
    "class CleanroomData(BaseModel):\n",
    "    \"\"\"多区域洁净室压差与渗透方向数据\n",
    "\n",
    "    Raises:\n",
    "        ValueError: rooms 和 room_pressures 应该等长\n",
    "        ValueError: room_relations 中的元素必须是 rooms 中的元素\n",
    "        ValueError: room_relations 中不应该出现双向关系\n",
    "\n",
    "    Returns:\n",
    "        CleanroomData: 多区域洁净室压差与渗透方向数据\n",
    "    \"\"\"\n",
    "\n",
    "    rooms: list[str]  # [room_name, ...]\n",
    "    room_pressures: list[float]  # [pressure, ...]\n",
    "    room_relations: list[tuple[str, str]]  # [(rom1, rom2), ...], rom1 -> rom2\n",
    "\n",
    "    @model_validator(mode=\"after\")\n",
    "    def check_rooms_len(self) -> Self:\n",
    "        if len(self.rooms) != len(self.room_pressures):\n",
    "            raise ValueError(\"rooms 和 room_pressures 应该等长\")\n",
    "        return self\n",
    "\n",
    "    @model_validator(mode=\"after\")\n",
    "    def check_room_relations(self) -> Self:\n",
    "        if not all(\n",
    "            set(relation) <= set(self.rooms) for relation in self.room_relations\n",
    "        ):\n",
    "            raise ValueError(\"room_relations 中的元素必须是 rooms 中的元素\")\n",
    "        return self\n",
    "\n",
    "    @field_validator(\"room_relations\")\n",
    "    @classmethod\n",
    "    def check_room_relations_reverse(cls, v):\n",
    "        for relation in v:\n",
    "            if relation[::-1] in v:\n",
    "                raise ValueError(\"room_relations 中不应该出现双向关系\")\n",
    "        return v\n",
    "\n",
    "\n",
    "def cal_ew_press(node1, node2):\n",
    "    r\"\"\"计算两个节点之间的等效权重，若两个节点的压力差为负，则返回负值，否则返回正值。\n",
    "    $$w_{ij} = \\Delta p^{0.5}_{ij} = |p_{i} - p_{j}|^{0.5}$$\n",
    "    \"\"\"\n",
    "    press_err = node1[\"pressure\"] - node2[\"pressure\"]\n",
    "\n",
    "    if press_err < 0:\n",
    "        rlt = -((-press_err) ** 0.5)\n",
    "    else:\n",
    "        rlt = press_err**0.5\n",
    "\n",
    "    return rlt\n",
    "\n",
    "\n",
    "def create_cleanroom_graph(\n",
    "    data: CleanroomData,\n",
    "    cal_edge_weight: callable,\n",
    ") -> nx.DiGraph:\n",
    "    \"\"\"创建洁净室压差与渗透气流网络图\n",
    "\n",
    "    该函数接受一个 CleanroomData 实例，返回一个有向图。\n",
    "    图中的节点代表洁净室，边代表洁净室之间的压差关系。\n",
    "    需要传入一个计算边权重的函数，该函数接受两个节点，返回边权重。\n",
    "    边权重固定为正值，若计算出的边权重为负值，则将边的方向反转。\n",
    "\n",
    "    Args:\n",
    "        data (CleanroomData): 包含洁净室压差与渗透方向数据的实例\n",
    "        cal_edge_weight (callable): 计算边权重的函数\n",
    "\n",
    "    Returns:\n",
    "        nx.DiGraph: 洁净室压差与渗透气流网络图\n",
    "    \"\"\"\n",
    "    G = nx.DiGraph()\n",
    "    G.add_nodes_from(\n",
    "        [\n",
    "            (room, {\"pressure\": pressure})\n",
    "            for room, pressure in zip(\n",
    "                data.rooms, data.room_pressures, strict=True\n",
    "            )\n",
    "        ]\n",
    "    )\n",
    "    for relation in data.room_relations:\n",
    "        n1, n2 = relation\n",
    "        weight = cal_edge_weight(G.nodes[n1], G.nodes[n2])\n",
    "\n",
    "        if weight < 0:\n",
    "            n1, n2 = n2, n1\n",
    "            weight = -weight\n",
    "\n",
    "            # 同时原地修改 data 中的 room_relations\n",
    "            data.room_relations[data.room_relations.index(relation)] = (n1, n2)\n",
    "\n",
    "        G.add_edge(n1, n2, weight=weight, nodes=(n1, n2))\n",
    "\n",
    "    return G"
   ]
  },
  {
   "cell_type": "markdown",
   "metadata": {},
   "source": [
    "## 图定义\n",
    "\n",
    "### G_d 设计工况图"
   ]
  },
  {
   "cell_type": "code",
   "execution_count": 2,
   "metadata": {},
   "outputs": [
    {
     "name": "stdout",
     "output_type": "stream",
     "text": [
      "[('a', 'O', {'weight': 3.1622776601683795, 'nodes': ('a', 'O')}), ('b', 'a', {'weight': 2.23606797749979, 'nodes': ('b', 'a')}), ('c', 'b', {'weight': 3.1622776601683795, 'nodes': ('c', 'b')}), ('c', 'O', {'weight': 5.0, 'nodes': ('c', 'O')}), ('d', 'c', {'weight': 2.23606797749979, 'nodes': ('d', 'c')}), ('e', 'c', {'weight': 3.1622776601683795, 'nodes': ('e', 'c')}), ('e', 'd', {'weight': 2.23606797749979, 'nodes': ('e', 'd')}), ('f', 'c', {'weight': 2.23606797749979, 'nodes': ('f', 'c')})]\n"
     ]
    },
    {
     "data": {
      "image/png": "[encoded data removed]",
      "text/plain": [
       "<Figure size 640x480 with 1 Axes>"
      ]
     },
     "metadata": {},
     "output_type": "display_data"
    }
   ],
   "source": [
    "design_data = CleanroomData(\n",
    "    rooms=[\"a\", \"b\", \"c\", \"d\", \"e\", \"f\", \"O\"],\n",
    "    room_pressures=[10, 15, 25, 30, 35, 30, 0],\n",
    "    room_relations=[\n",
    "        (\"b\", \"a\"),  # b -> a\n",
    "        (\"c\", \"b\"),\n",
    "        (\"d\", \"c\"),\n",
    "        (\"e\", \"c\"),\n",
    "        (\"f\", \"c\"),\n",
    "        (\"e\", \"d\"),\n",
    "        (\"a\", \"O\"),\n",
    "        (\"c\", \"O\"),\n",
    "    ],\n",
    ")\n",
    "G_d = create_cleanroom_graph(design_data, cal_ew_press)\n",
    "print(G_d.edges(data=True))\n",
    "nx.draw(G_d, with_labels=True)"
   ]
  },
  {
   "cell_type": "markdown",
   "metadata": {},
   "source": [
    "### G_c 当前工况图"
   ]
  },
  {
   "cell_type": "code",
   "execution_count": 3,
   "metadata": {},
   "outputs": [
    {
     "name": "stdout",
     "output_type": "stream",
     "text": [
      "[('b', 'a'), ('c', 'b'), ('d', 'c'), ('e', 'c'), ('f', 'c'), ('e', 'd'), ('a', 'O'), ('c', 'O')]\n",
      "[('a', 'O', {'weight': 2.8284271247461903, 'nodes': ('a', 'O')}), ('b', 'a', {'weight': 3.03315017762062, 'nodes': ('b', 'a')}), ('c', 'b', {'weight': 1.949358868961793, 'nodes': ('c', 'b')}), ('c', 'O', {'weight': 4.58257569495584, 'nodes': ('c', 'O')}), ('d', 'c', {'weight': 1.4142135623730951, 'nodes': ('d', 'c')}), ('e', 'c', {'weight': 4.242640687119285, 'nodes': ('e', 'c')}), ('e', 'd', {'weight': 4.0, 'nodes': ('e', 'd')}), ('f', 'c', {'weight': 2.23606797749979, 'nodes': ('f', 'c')})]\n",
      "[('b', 'a'), ('c', 'b'), ('d', 'c'), ('e', 'c'), ('f', 'c'), ('e', 'd'), ('a', 'O'), ('c', 'O')]\n"
     ]
    },
    {
     "data": {
      "image/png": "[encoded data removed]",
      "text/plain": [
       "<Figure size 640x480 with 1 Axes>"
      ]
     },
     "metadata": {},
     "output_type": "display_data"
    }
   ],
   "source": [
    "# 一组自定义的当前工况数据\n",
    "custom_data = CleanroomData(\n",
    "    rooms=[\"a\", \"b\", \"c\", \"d\", \"e\", \"f\", \"O\"],\n",
    "    room_pressures=[8, 17.2, 21, 23, 39, 26, 0],\n",
    "    room_relations=[\n",
    "        (\"b\", \"a\"),  # b -> a\n",
    "        (\"c\", \"b\"),\n",
    "        (\"d\", \"c\"),\n",
    "        (\"e\", \"c\"),\n",
    "        (\"f\", \"c\"),\n",
    "        (\"e\", \"d\"),\n",
    "        (\"a\", \"O\"),\n",
    "        (\"c\", \"O\"),\n",
    "    ],\n",
    ")\n",
    "print(custom_data.room_relations)\n",
    "G_c = create_cleanroom_graph(custom_data, cal_ew_press)\n",
    "print(G_c.edges(data=True))\n",
    "print(custom_data.room_relations)\n",
    "nx.draw(G_c, with_labels=True)"
   ]
  },
  {
   "cell_type": "markdown",
   "metadata": {},
   "source": [
    "## API 测试"
   ]
  },
  {
   "cell_type": "code",
   "execution_count": 4,
   "metadata": {},
   "outputs": [
    {
     "data": {
      "text/plain": [
       "networkx.classes.reportviews.OutEdgeDataView"
      ]
     },
     "execution_count": 4,
     "metadata": {},
     "output_type": "execute_result"
    }
   ],
   "source": [
    "type(G_c.edges(data=True))"
   ]
  },
  {
   "cell_type": "markdown",
   "metadata": {},
   "source": [
    "### 邻接矩阵"
   ]
  },
  {
   "cell_type": "code",
   "execution_count": 5,
   "metadata": {},
   "outputs": [
    {
     "data": {
      "text/plain": [
       "['b', 'O']"
      ]
     },
     "execution_count": 5,
     "metadata": {},
     "output_type": "execute_result"
    }
   ],
   "source": [
    "list(G_d.neighbors(\"c\"))"
   ]
  },
  {
   "cell_type": "code",
   "execution_count": 6,
   "metadata": {},
   "outputs": [
    {
     "data": {
      "text/plain": [
       "AtlasView({'O': {'weight': 3.1622776601683795, 'nodes': ('a', 'O')}})"
      ]
     },
     "execution_count": 6,
     "metadata": {},
     "output_type": "execute_result"
    }
   ],
   "source": [
    "G_d[\"a\"]"
   ]
  },
  {
   "cell_type": "code",
   "execution_count": 7,
   "metadata": {},
   "outputs": [
    {
     "data": {
      "text/plain": [
       "NodeDataView({'a': {'pressure': 10.0}, 'b': {'pressure': 15.0}, 'c': {'pressure': 25.0}, 'd': {'pressure': 30.0}, 'e': {'pressure': 35.0}, 'f': {'pressure': 30.0}, 'O': {'pressure': 0.0}})"
      ]
     },
     "execution_count": 7,
     "metadata": {},
     "output_type": "execute_result"
    }
   ],
   "source": [
    "G_d.nodes.data()"
   ]
  },
  {
   "cell_type": "markdown",
   "metadata": {},
   "source": [
    "### 边"
   ]
  },
  {
   "cell_type": "code",
   "execution_count": 8,
   "metadata": {},
   "outputs": [
    {
     "data": {
      "text/plain": [
       "{'weight': 2.23606797749979, 'nodes': ('b', 'a')}"
      ]
     },
     "execution_count": 8,
     "metadata": {},
     "output_type": "execute_result"
    }
   ],
   "source": [
    "G_d[\"b\"][\"a\"]"
   ]
  },
  {
   "cell_type": "code",
   "execution_count": 9,
   "metadata": {},
   "outputs": [
    {
     "data": {
      "text/plain": [
       "{'weight': 2.23606797749979, 'nodes': ('b', 'a')}"
      ]
     },
     "execution_count": 9,
     "metadata": {},
     "output_type": "execute_result"
    }
   ],
   "source": [
    "G_d.edges[\"b\", \"a\"]"
   ]
  },
  {
   "cell_type": "code",
   "execution_count": 10,
   "metadata": {},
   "outputs": [
    {
     "data": {
      "image/png": "[encoded data removed]",
      "text/plain": [
       "<Figure size 640x480 with 1 Axes>"
      ]
     },
     "metadata": {},
     "output_type": "display_data"
    }
   ],
   "source": [
    "nx.draw(G_d, with_labels=True)"
   ]
  },
  {
   "cell_type": "code",
   "execution_count": 11,
   "metadata": {},
   "outputs": [
    {
     "name": "stdout",
     "output_type": "stream",
     "text": [
      "8\n",
      "7\n"
     ]
    }
   ],
   "source": [
    "print(G_d.number_of_edges())\n",
    "print(G_d.number_of_nodes())"
   ]
  },
  {
   "cell_type": "markdown",
   "metadata": {},
   "source": [
    "## 压差梯度差异性指标计算\n",
    "\n",
    "基于图编辑距离（Graph Edit Distance，GED）的思想，设计压差梯度差异性指标 $I_{\\rm{DPGD}}$ 的计算方法。\n",
    "\n",
    "GED 是一种用于计算两个图之间的相似性的方法，其基本思想是通过一系列的图编辑操作将一个图转换为另一个图，从而计算两个图之间的相似性。GED 的计算方法主要包括两个方面：顶点的插入、删除和替换操作，以及边的插入、删除和替换操作。\n",
    "\n",
    "在计算 $I_{\\rm{DPGD}}$ 时，考虑到多区域洁净室系统的特点，主要关注顶点的压差属性、边的方向和权重，这主要涉及到顶点的替换和边的替换操作，需要设计相应的代价。"
   ]
  },
  {
   "cell_type": "markdown",
   "metadata": {},
   "source": [
    "### 顶点的替换代价\n",
    "\n",
    "顶点的替换代价主要考虑 $G_c$ 相对于 $G_d$ 顶点压差属性的绝对误差和洁净度等级的影响，即：\n",
    "1. 偏差：顶点压差属性的绝对误差越大，替换代价越高；\n",
    "2. 洁净度：洁净度等级越高（设计压差越大），替换代价越高。\n",
    "\n",
    "具体表述为：\n",
    "\n",
    "$$C_{\\mathrm{vertice}}\\left(p_{i}^{c}, p_{i}^{d}\\right)=k_{\\mathrm{vertice}} \\cdot\\frac{p_{i}^{d}\\cdot\\left|p_{i}^{c}-p_{i}^{d}\\right|}{\\overline{p^d}^2}$$\n",
    "\n",
    "其中，$p_i^c$ 是当前工况图中节点 $i$ 的压差；$p_i^d$ 是设计工况图中节点 $i$ 的设计压差；$\\bar{p^d}$ 是设计压差的平均值；$k_{\\text {vertice}}$ 是节点替换操作的基础代价系数。"
   ]
  },
  {
   "cell_type": "code",
   "execution_count": 12,
   "metadata": {},
   "outputs": [],
   "source": [
    "from functools import partial\n",
    "\n",
    "import numpy as np\n",
    "\n",
    "\n",
    "def _node_subst_cost(node_d, node_c, p_d_mean, k_vertice=1, T=1):\n",
    "    r\"\"\"返回节点替换的开销。\n",
    "    以节点属性字典为输入，返回一个正数作为替换开销。\n",
    "\n",
    "    $$C_{\\mathrm{vertice}}\\left(p_{i}^{c}, p_{i}^{d}\\right) \\\\\n",
    "      =k_{\\mathrm{vertice}} \\cdot\\left(\\frac{p_{i}^{d}\\cdot \\\\\n",
    "      \\left|p_{i}^{c}-p_{i}^{d}\\right|}{\\overline{p^d}^2}\\right)^{T}$$\n",
    "\n",
    "    node_subst_cost(G1.nodes[n1], G2.nodes[n2]) -> float\n",
    "    \"\"\"\n",
    "    p_d = node_d[\"pressure\"]\n",
    "    p_c = node_c[\"pressure\"]\n",
    "    cost = k_vertice * (p_d * abs(p_c - p_d)) / p_d_mean**2\n",
    "    return cost\n",
    "\n",
    "\n",
    "node_subst_cost = partial(\n",
    "    _node_subst_cost,\n",
    "    p_d_mean=np.mean(design_data.room_pressures),\n",
    "    k_vertice=1,\n",
    "    T=1,\n",
    ")"
   ]
  },
  {
   "cell_type": "markdown",
   "metadata": {},
   "source": [
    "### 边的替换代价\n",
    "\n",
    "边的替换代价主要考虑 $G_c$ 相对于 $G_d$ 边权重属性的绝对误差和逆压差梯度的影响，即：\n",
    "\n",
    "1. 偏差：边权重属性的绝对误差越大，替换代价越高；\n",
    "2. 洁净度：边连接的两个顶点洁净度等级（最高设计压差）越高，替换代价越高；\n",
    "\n",
    "具体表述为：\n",
    "\n",
    "$$C_{\\mathrm{edge} }\\left(w_{i j}^{c}, w_{i j}^{d}\\right)=k_{\\mathrm{edge} } \\cdot\\frac{\\max{(p_i^{d},p_j^{d})} \\cdot \\left|w_{i j}^{c}-w_{i j}^{d}\\right|}{\\overline{w^{d}}^3}$$\n",
    "\n",
    "其中，$w_{ij}^c$ 是当前工况图中边 $e_{ij}$ 的权重；$w_{ij}^d$ 是设计工况图中边 $e_{ij}$ 的设计权重；$\\bar{w^d}$ 是设计权重的平均值；$k_{\\text {edge}}$ 是边替换操作的基础代价系数。\n",
    "\n",
    "边的替换代价与顶点的替换代价类似，但更侧重于相邻节点的相对压差，对于压差梯度控制具有更强的指导意义，所以在计算 $I_{\\rm{DPGD}}$ 时，边的替换代价应当占据更大的权重，即 $k_{\\text {edge}} > k_{\\text {vertice}}$。"
   ]
  },
  {
   "cell_type": "code",
   "execution_count": 13,
   "metadata": {},
   "outputs": [],
   "source": [
    "def _edge_subst_cost(edge_d, edge_c, w_d_mean, k_edge=2, T=1):\n",
    "    r\"\"\"返回边替换的开销。忽略边的方向。\n",
    "    以边属性字典为输入，返回一个正数作为替换开销。\n",
    "\n",
    "    $$C_{\\mathrm{edge} }\\left(w_{i j}^{c}, w_{i j}^{d}\\right) \\\\\n",
    "    =k_{\\mathrm{edge} } \\cdot\\left(\\frac{\\max{(p_i^{d},p_j^{d})} \\\\\n",
    "    \\cdot \\left|w_{i j}^{c}-w_{i j}^{d}\\right|}{\\overline{w^{d}}^3}\\right)^{T}$$\n",
    "\n",
    "    edge_subst_cost(G1.edges[e1], G2.edges[e2]) -> float\n",
    "    \"\"\"\n",
    "\n",
    "    w_d = edge_d[\"weight\"]\n",
    "    w_c = edge_c[\"weight\"]\n",
    "    n1, n2 = edge_d[\"nodes\"]\n",
    "    p_i_d, p_j_d = G_d.nodes[n1][\"pressure\"], G_d.nodes[n2][\"pressure\"]\n",
    "    cost = k_edge * (max(p_i_d, p_j_d) * abs(w_c - w_d)) / w_d_mean**3\n",
    "    return cost\n",
    "\n",
    "\n",
    "edge_subst_cost = partial(\n",
    "    _edge_subst_cost,\n",
    "    w_d_mean=np.mean([edge[\"weight\"] for _, _, edge in G_d.edges(data=True)]),\n",
    "    k_edge=2,\n",
    "    T=1,\n",
    ")"
   ]
  },
  {
   "cell_type": "markdown",
   "metadata": {},
   "source": [
    "###  $I_{\\rm{DPGD}}$ 的计算"
   ]
  },
  {
   "cell_type": "code",
   "execution_count": 14,
   "metadata": {},
   "outputs": [],
   "source": [
    "def count_reversed_edges(G1, G2) -> int:\n",
    "    \"\"\"计算两个工况图中逆压差梯度的边数。\"\"\"\n",
    "    edges_G1 = set(G1.edges())\n",
    "    edges_G2 = set(G2.edges())\n",
    "    reversed_count = 0\n",
    "    for u, v in edges_G1:\n",
    "        if (v, u) in edges_G2:\n",
    "            reversed_count += 1\n",
    "\n",
    "    return reversed_count\n",
    "\n",
    "\n",
    "def DPGD(\n",
    "    G_d,\n",
    "    G_c,\n",
    "    node_subst_cost=node_subst_cost,\n",
    "    edge_subst_cost=edge_subst_cost,\n",
    "    timeout=5,\n",
    ") -> float:\n",
    "    \"\"\"计算压差梯度差异性指标。\n",
    "\n",
    "    本质是对 nx graph_edit_distance 函数的封装。\n",
    "\n",
    "    逆压差梯度：\n",
    "    当逆压差梯度发生时，对应节点间边的方向相反（权重固定为正实数），需要特别处理。\n",
    "    此时应当有 $I_{\\rm{DPGD}} = -1$。每再有一条逆压差梯度的边，$I_{\\rm{DPGD}} - 1$。\n",
    "    \"\"\"\n",
    "    reversed_count = count_reversed_edges(G_d, G_c)\n",
    "    if reversed_count > 0:\n",
    "        return -reversed_count\n",
    "\n",
    "    return nx.graph_edit_distance(\n",
    "        G_d,\n",
    "        G_c,\n",
    "        node_subst_cost=node_subst_cost,\n",
    "        edge_subst_cost=edge_subst_cost,\n",
    "        timeout=timeout,\n",
    "    )"
   ]
  },
  {
   "cell_type": "code",
   "execution_count": 15,
   "metadata": {},
   "outputs": [
    {
     "name": "stdout",
     "output_type": "stream",
     "text": [
      "GED：11.462741330111342\n"
     ]
    }
   ],
   "source": [
    "ged = DPGD(G_d, G_c)\n",
    "print(f\"GED：{ged}\")"
   ]
  },
  {
   "cell_type": "markdown",
   "metadata": {},
   "source": [
    "## 测试\n",
    "\n",
    "针对提出的设计原则，设计测试用例以验证 $I_{\\rm{DPGD}}$ 的有效性。具体测试用例包括。\n",
    "\n",
    "1. **CT1** 设计工况图与当前工况图完全一致，即 $I_{\\rm{DPGD}} = 0$；\n",
    "2. **CT2** 设计工况图与当前工况图存在一定差异，即 $I_{\\rm{DPGD}} > 0$；\n",
    "   1. **CT3** 高洁净度房间会产生更大的影响；\n",
    "3. **CT4** 设计工况图与当前工况图存在逆压差梯度，即 $I_{\\rm{DPGD}} < 0$。\n"
   ]
  },
  {
   "cell_type": "markdown",
   "metadata": {},
   "source": [
    "### CT1 完全一致"
   ]
  },
  {
   "cell_type": "code",
   "execution_count": 20,
   "metadata": {},
   "outputs": [
    {
     "name": "stdout",
     "output_type": "stream",
     "text": [
      "CT1 GED：0.0\n"
     ]
    }
   ],
   "source": [
    "CT1_data = CleanroomData(\n",
    "    rooms=[\"a\", \"b\", \"c\", \"d\", \"e\", \"f\", \"O\"],\n",
    "    room_pressures=[10, 15, 25, 30, 35, 30, 0],\n",
    "    room_relations=[\n",
    "        (\"b\", \"a\"),  # b -> a\n",
    "        (\"c\", \"b\"),\n",
    "        (\"d\", \"c\"),\n",
    "        (\"e\", \"c\"),\n",
    "        (\"f\", \"c\"),\n",
    "        (\"e\", \"d\"),\n",
    "        (\"a\", \"O\"),\n",
    "        (\"c\", \"O\"),\n",
    "    ],\n",
    ")\n",
    "G_c1 = create_cleanroom_graph(CT1_data, cal_ew_press)\n",
    "\n",
    "print(f\"CT1 GED：{DPGD(G_d, G_c1)}\")"
   ]
  },
  {
   "cell_type": "markdown",
   "metadata": {},
   "source": [
    "### CT2 差异性\n",
    "\n",
    "房间 b 的压差减小 1，指标增加；"
   ]
  },
  {
   "cell_type": "code",
   "execution_count": 40,
   "metadata": {},
   "outputs": [
    {
     "name": "stdout",
     "output_type": "stream",
     "text": [
      "CT2 GED：0.6239859798375127\n"
     ]
    }
   ],
   "source": [
    "CT2_data = CleanroomData(\n",
    "    rooms=[\"a\", \"b\", \"c\", \"d\", \"e\", \"f\", \"O\"],\n",
    "    room_pressures=[10, 14, 25, 30, 35, 30, 0],  # b的压差与设计值不同\n",
    "    room_relations=[\n",
    "        (\"b\", \"a\"),  # b -> a\n",
    "        (\"c\", \"b\"),\n",
    "        (\"d\", \"c\"),\n",
    "        (\"e\", \"c\"),\n",
    "        (\"f\", \"c\"),\n",
    "        (\"e\", \"d\"),\n",
    "        (\"a\", \"O\"),\n",
    "        (\"c\", \"O\"),\n",
    "    ],\n",
    ")\n",
    "G_c2 = create_cleanroom_graph(CT2_data, cal_ew_press)\n",
    "print(f\"CT2 GED：{DPGD(G_d, G_c2)}\")"
   ]
  },
  {
   "cell_type": "markdown",
   "metadata": {},
   "source": [
    "### CT3 高洁净度房间影响\n",
    "\n",
    "房间 e 洁净等级高于房间 b。\n",
    "与 CT2 类似，但将房间 e 的压差减小 1，指标增加，且增加的幅度更大。"
   ]
  },
  {
   "cell_type": "code",
   "execution_count": 43,
   "metadata": {},
   "outputs": [
    {
     "name": "stdout",
     "output_type": "stream",
     "text": [
      "CT2 GED：1.1913824432158098\n"
     ]
    }
   ],
   "source": [
    "CT3_data = CleanroomData(\n",
    "    rooms=[\"a\", \"b\", \"c\", \"d\", \"e\", \"f\", \"O\"],\n",
    "    room_pressures=[10, 15, 25, 30, 34, 30, 0],  # e 的压差与设计值不同\n",
    "    room_relations=[\n",
    "        (\"b\", \"a\"),  # b -> a\n",
    "        (\"c\", \"b\"),\n",
    "        (\"d\", \"c\"),\n",
    "        (\"e\", \"c\"),\n",
    "        (\"f\", \"c\"),\n",
    "        (\"e\", \"d\"),\n",
    "        (\"a\", \"O\"),\n",
    "        (\"c\", \"O\"),\n",
    "    ],\n",
    ")\n",
    "G_c3 = create_cleanroom_graph(CT3_data, cal_ew_press)\n",
    "print(f\"CT3 GED：{DPGD(G_d, G_c3)}\")"
   ]
  },
  {
   "cell_type": "markdown",
   "metadata": {},
   "source": [
    "### CT4 逆压差梯度"
   ]
  },
  {
   "cell_type": "code",
   "execution_count": 46,
   "metadata": {},
   "outputs": [
    {
     "name": "stdout",
     "output_type": "stream",
     "text": [
      "CT2 GED：-1\n"
     ]
    }
   ],
   "source": [
    "CT4_data = CleanroomData(\n",
    "    rooms=[\"a\", \"b\", \"c\", \"d\", \"e\", \"f\", \"O\"],\n",
    "    room_pressures=[\n",
    "        10,\n",
    "        15,\n",
    "        25,\n",
    "        24,\n",
    "        35,\n",
    "        30,\n",
    "        0,\n",
    "    ],  # d 的压差低于 c，违反了设计压差梯度\n",
    "    room_relations=[\n",
    "        (\"b\", \"a\"),  # b -> a\n",
    "        (\"c\", \"b\"),\n",
    "        (\"d\", \"c\"),\n",
    "        (\"e\", \"c\"),\n",
    "        (\"f\", \"c\"),\n",
    "        (\"e\", \"d\"),\n",
    "        (\"a\", \"O\"),\n",
    "        (\"c\", \"O\"),\n",
    "    ],\n",
    ")\n",
    "G_c4 = create_cleanroom_graph(CT4_data, cal_ew_press)\n",
    "print(f\"CT4 GED：{DPGD(G_d, G_c4)}\")"
   ]
  },
  {
   "cell_type": "code",
   "execution_count": 48,
   "metadata": {},
   "outputs": [
    {
     "name": "stdout",
     "output_type": "stream",
     "text": [
      "CT5 GED：-3\n"
     ]
    }
   ],
   "source": [
    "CT5_data = CleanroomData(\n",
    "    rooms=[\"a\", \"b\", \"c\", \"d\", \"e\", \"f\", \"O\"],\n",
    "    room_pressures=[\n",
    "        10,\n",
    "        15,\n",
    "        25,\n",
    "        24,\n",
    "        23,\n",
    "        30,\n",
    "        0,\n",
    "    ],  # d 的压差低于 c，e 的压差低于 c，e 的压差低于 d，都违反了设计压差梯度\n",
    "    room_relations=[\n",
    "        (\"b\", \"a\"),  # b -> a\n",
    "        (\"c\", \"b\"),\n",
    "        (\"d\", \"c\"),\n",
    "        (\"e\", \"c\"),\n",
    "        (\"f\", \"c\"),\n",
    "        (\"e\", \"d\"),\n",
    "        (\"a\", \"O\"),\n",
    "        (\"c\", \"O\"),\n",
    "    ],\n",
    ")\n",
    "G_c5 = create_cleanroom_graph(CT5_data, cal_ew_press)\n",
    "print(f\"CT5 GED：{DPGD(G_d, G_c5)}\")"
   ]
  }
 ],
 "metadata": {
  "kernelspec": {
   "display_name": ".venv",
   "language": "python",
   "name": "python3"
  },
  "language_info": {
   "codemirror_mode": {
    "name": "ipython",
    "version": 3
   },
   "file_extension": ".py",
   "mimetype": "text/x-python",
   "name": "python",
   "nbconvert_exporter": "python",
   "pygments_lexer": "ipython3",
   "version": "3.10.12"
  }
 },
 "nbformat": 4,
 "nbformat_minor": 2
}
