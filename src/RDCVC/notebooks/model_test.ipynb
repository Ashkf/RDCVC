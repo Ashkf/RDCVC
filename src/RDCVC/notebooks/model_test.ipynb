{
 "cells": [
  {
   "cell_type": "code",
   "execution_count": 1,
   "metadata": {},
   "outputs": [],
   "source": [
    "import torch\n",
    "import torchsummary\n",
    "import netron\n",
    "\n",
    "from models.prediciton.CVCNet.models.mmoe import MMoE, ML_MMoE\n",
    "from models.prediciton.CVCNet.models.submodules import DNN, MLPBlock"
   ]
  },
  {
   "cell_type": "code",
   "execution_count": 1,
   "metadata": {},
   "outputs": [
    {
     "name": "stdout",
     "output_type": "stream",
     "text": [
      "/workspace/src/RDCVC\n"
     ]
    }
   ],
   "source": [
    "!pwd"
   ]
  },
  {
   "cell_type": "code",
   "execution_count": 8,
   "metadata": {},
   "outputs": [
    {
     "name": "stdout",
     "output_type": "stream",
     "text": [
      "----------------------------------------------------------------\n",
      "        Layer (type)               Output Shape         Param #\n",
      "================================================================\n",
      "            Linear-1                   [-1, 10]             190\n",
      "         LeakyReLU-2                   [-1, 10]               0\n",
      "            Linear-3                   [-1, 15]             165\n",
      "         LeakyReLU-4                   [-1, 15]               0\n",
      "            Linear-5                   [-1, 20]             320\n",
      "         LeakyReLU-6                   [-1, 20]               0\n",
      "               DNN-7                   [-1, 20]               0\n",
      "            Expert-8                   [-1, 20]               0\n",
      "            Linear-9                   [-1, 10]             190\n",
      "        LeakyReLU-10                   [-1, 10]               0\n",
      "           Linear-11                   [-1, 15]             165\n",
      "        LeakyReLU-12                   [-1, 15]               0\n",
      "           Linear-13                   [-1, 20]             320\n",
      "        LeakyReLU-14                   [-1, 20]               0\n",
      "              DNN-15                   [-1, 20]               0\n",
      "           Expert-16                   [-1, 20]               0\n",
      "           Linear-17                   [-1, 10]             190\n",
      "        LeakyReLU-18                   [-1, 10]               0\n",
      "           Linear-19                   [-1, 15]             165\n",
      "        LeakyReLU-20                   [-1, 15]               0\n",
      "           Linear-21                   [-1, 20]             320\n",
      "        LeakyReLU-22                   [-1, 20]               0\n",
      "              DNN-23                   [-1, 20]               0\n",
      "           Expert-24                   [-1, 20]               0\n",
      "           Linear-25                    [-1, 3]              57\n",
      "          Softmax-26                    [-1, 3]               0\n",
      "              DNN-27                    [-1, 3]               0\n",
      "           Linear-28                   [-1, 11]             231\n",
      "        LeakyReLU-29                   [-1, 11]               0\n",
      "           Linear-30                   [-1, 16]             192\n",
      "        LeakyReLU-31                   [-1, 16]               0\n",
      "           Linear-32                   [-1, 21]             357\n",
      "        LeakyReLU-33                   [-1, 21]               0\n",
      "              DNN-34                   [-1, 21]               0\n",
      "            Tower-35                   [-1, 21]               0\n",
      "           Linear-36                    [-1, 6]             132\n",
      "           Linear-37                    [-1, 3]              57\n",
      "          Softmax-38                    [-1, 3]               0\n",
      "              DNN-39                    [-1, 3]               0\n",
      "           Linear-40                   [-1, 11]             231\n",
      "        LeakyReLU-41                   [-1, 11]               0\n",
      "           Linear-42                   [-1, 16]             192\n",
      "        LeakyReLU-43                   [-1, 16]               0\n",
      "           Linear-44                   [-1, 21]             357\n",
      "        LeakyReLU-45                   [-1, 21]               0\n",
      "              DNN-46                   [-1, 21]               0\n",
      "            Tower-47                   [-1, 21]               0\n",
      "           Linear-48                    [-1, 4]              88\n",
      "================================================================\n",
      "Total params: 3,919\n",
      "Trainable params: 3,919\n",
      "Non-trainable params: 0\n",
      "----------------------------------------------------------------\n",
      "Input size (MB): 0.00\n",
      "Forward/backward pass size (MB): 0.01\n",
      "Params size (MB): 0.01\n",
      "Estimated Total Size (MB): 0.02\n",
      "----------------------------------------------------------------\n",
      "============= Diagnostic Run torch.onnx.export version 2.0.1+cu118 =============\n",
      "verbose: False, log level: Level.ERROR\n",
      "======================= 0 NONE 0 NOTE 0 WARNING 0 ERROR ========================\n",
      "\n"
     ]
    }
   ],
   "source": [
    "mmoe = MMoE(\n",
    "    inputs_dim=18,\n",
    "    target_dict={\"PRESENCE\": 6, \"AIRFLOW\": 4},\n",
    "    num_experts=3,\n",
    "    expert_units=[10,15,20],\n",
    "    expert_activation=\"leakyrelu:0.1\",\n",
    "    expert_dropout_rate=None,\n",
    "    expert_use_bn=False,\n",
    "    tower_units=[11, 16, 21],\n",
    "    tower_activation=\"leakyrelu:0.1\",\n",
    "    tower_dropout_rate=None,\n",
    "    tower_use_bn=None,\n",
    "    is_last_layer=True,\n",
    ")\n",
    "\n",
    "torchsummary.summary(mmoe, (18,),device=\"cpu\")\n",
    "\n",
    "x = torch.randn(1, 18)\n",
    "modelData = \"./demo.pth\"  # 定义模型数据保存的路径\n",
    "torch.onnx.export(mmoe, x, modelData)  # 将 pytorch 模型以 onnx 格式导出并保存\n",
    "# print(mmoe)"
   ]
  }
 ],
 "metadata": {
  "kernelspec": {
   "display_name": "Python 3",
   "language": "python",
   "name": "python3"
  },
  "language_info": {
   "codemirror_mode": {
    "name": "ipython",
    "version": 3
   },
   "file_extension": ".py",
   "mimetype": "text/x-python",
   "name": "python",
   "nbconvert_exporter": "python",
   "pygments_lexer": "ipython3",
   "version": "3.10.11"
  }
 },
 "nbformat": 4,
 "nbformat_minor": 2
}
