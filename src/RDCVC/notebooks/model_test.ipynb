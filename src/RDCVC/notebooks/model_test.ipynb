{
 "cells": [
  {
   "cell_type": "code",
   "execution_count": 2,
   "metadata": {},
   "outputs": [],
   "source": [
    "import torch\n",
    "import torchsummary\n",
    "import netron\n",
    "\n",
    "from models.prediciton.CVCNet.models.mmoe import MMoE, ML_MMoE\n",
    "from models.prediciton.CVCNet.models.cvcnet import CVCNet, ExtractionNet\n",
    "from models.prediciton.CVCNet.models.submodules import DNN, MLPBlock\n",
    "from models.prediciton.CVCNet.models.base_mtl import BaseMTL\n",
    "from models.prediciton.CVCNet.models.split import SplitMTL"
   ]
  },
  {
   "cell_type": "code",
   "execution_count": 2,
   "metadata": {},
   "outputs": [
    {
     "name": "stdout",
     "output_type": "stream",
     "text": [
      "/workspace/src/RDCVC\n"
     ]
    }
   ],
   "source": [
    "!pwd"
   ]
  },
  {
   "cell_type": "code",
   "execution_count": 4,
   "metadata": {},
   "outputs": [],
   "source": [
    "def count_parameters(model, only_trainable=False):\n",
    "    \"\"\"Count the number of parameters in a model.\n",
    "\n",
    "    Args:\n",
    "        model (torch.nn.Module): The model to count the parameters of.\n",
    "        only_trainable (bool, optional): Whether to count only trainable parameters.\n",
    "            Defaults to False.\n",
    "\n",
    "    Returns:\n",
    "        int: The number of parameters in the model.\n",
    "    \"\"\"\n",
    "    if only_trainable:\n",
    "        return sum(p.numel() for p in model.parameters() if p.requires_grad)\n",
    "    else:\n",
    "        return sum(p.numel() for p in model.parameters())"
   ]
  },
  {
   "cell_type": "markdown",
   "metadata": {},
   "source": [
    "## SplitMTL"
   ]
  },
  {
   "cell_type": "code",
   "execution_count": 10,
   "metadata": {},
   "outputs": [
    {
     "name": "stdout",
     "output_type": "stream",
     "text": [
      "167931914\n"
     ]
    }
   ],
   "source": [
    "split = SplitMTL(\n",
    "    inputs_dim=18,\n",
    "    target_dict={\"AIRFLOW\": 4, \"PRESENCE\": 6},\n",
    "    bottom_units=[4096, 4096, 4096],\n",
    "    activation=\"leakyrelu:0.1\",\n",
    ")\n",
    "print(count_parameters(split))\n",
    "# print(basemtl)\n",
    "input_dummy = torch.randn(1, 18)\n",
    "model_traced = torch.jit.trace(split, input_dummy)\n",
    "model_traced.save(\"split.pt\")\n",
    "netron.start(\"split.pt\")"
   ]
  },
  {
   "cell_type": "markdown",
   "metadata": {},
   "source": [
    "## BaseMTL"
   ]
  },
  {
   "cell_type": "code",
   "execution_count": 4,
   "metadata": {},
   "outputs": [
    {
     "name": "stdout",
     "output_type": "stream",
     "text": [
      "5261\n",
      "Serving 'basemtl.pt' at http://localhost:8080\n"
     ]
    },
    {
     "name": "stderr",
     "output_type": "stream",
     "text": [
      "/usr/local/lib/python3.10/site-packages/torch/jit/_trace.py:1056: TracerWarning: Encountering a list at the output of the tracer might cause the trace to be incorrect, this is only valid if the container structure does not change based on the module's inputs. Consider using a constant container instead (e.g. for `list`, use a `tuple` instead. for `dict`, use a `NamedTuple` instead). If you absolutely need this and know the side effects, pass strict=False to trace() to allow this behavior.\n",
      "  module._c._create_method_from_trace(\n"
     ]
    },
    {
     "data": {
      "text/plain": [
       "('localhost', 8080)"
      ]
     },
     "execution_count": 4,
     "metadata": {},
     "output_type": "execute_result"
    }
   ],
   "source": [
    "basemtl = BaseMTL(\n",
    "    inputs_dim=18,\n",
    "    target_dict={\"AIRFLOW\": 4, \"PRESENCE\": 6},\n",
    "    bottom_units=[10, 15, 20],\n",
    "    tower_units=[88],\n",
    "    activation=\"leakyrelu:0.1\",\n",
    ")\n",
    "print(count_parameters(basemtl))\n",
    "# print(basemtl)\n",
    "input_dummy = torch.randn(1, 18)\n",
    "model_traced = torch.jit.trace(basemtl, input_dummy)\n",
    "model_traced.save(\"basemtl.pt\")\n",
    "netron.start(\"basemtl.pt\")"
   ]
  },
  {
   "cell_type": "markdown",
   "metadata": {},
   "source": [
    "## CVCNet"
   ]
  },
  {
   "cell_type": "code",
   "execution_count": 14,
   "metadata": {},
   "outputs": [
    {
     "name": "stdout",
     "output_type": "stream",
     "text": [
      "9746\n"
     ]
    }
   ],
   "source": [
    "cvcNet = CVCNet(\n",
    "    inputs_dim=18,\n",
    "    target_dict={\"AIRFLOW\": 4, \"PRES\": 6},\n",
    "    num_layers=2,\n",
    "    num_tasks_experts=1,\n",
    "    num_shared_experts=2,\n",
    "    expert_units=[10, 15, 20],\n",
    "    expert_activation=\"leakyrelu:0.1\",\n",
    "    expert_dropout_rate=None,\n",
    "    expert_use_bn=False,\n",
    "    tower_units=[11, 16],\n",
    "    tower_activation=\"leakyrelu:0.1\",\n",
    "    tower_dropout_rate=None,\n",
    "    tower_use_bn=None,\n",
    ")\n",
    "print(count_parameters(cvcNet))\n",
    "# input_dummy = torch.randn(1, 18)\n",
    "# model_traced = torch.jit.trace(cvcNet, input_dummy)\n",
    "# model_traced.save(\"cvcNet.pt\")\n",
    "# netron.start(\"cvcNet.pt\")"
   ]
  },
  {
   "cell_type": "markdown",
   "metadata": {},
   "source": [
    "## MMoE"
   ]
  },
  {
   "cell_type": "code",
   "execution_count": 7,
   "metadata": {},
   "outputs": [
    {
     "name": "stdout",
     "output_type": "stream",
     "text": [
      "----------------------------------------------------------------\n",
      "        Layer (type)               Output Shape         Param #\n",
      "================================================================\n",
      "            Linear-1                   [-1, 10]             190\n",
      "         LeakyReLU-2                   [-1, 10]               0\n",
      "            Linear-3                   [-1, 15]             165\n",
      "         LeakyReLU-4                   [-1, 15]               0\n",
      "            Linear-5                   [-1, 20]             320\n",
      "         LeakyReLU-6                   [-1, 20]               0\n",
      "               DNN-7                   [-1, 20]               0\n",
      "            Expert-8                   [-1, 20]               0\n",
      "            Linear-9                   [-1, 10]             190\n",
      "        LeakyReLU-10                   [-1, 10]               0\n",
      "           Linear-11                   [-1, 15]             165\n",
      "        LeakyReLU-12                   [-1, 15]               0\n",
      "           Linear-13                   [-1, 20]             320\n",
      "        LeakyReLU-14                   [-1, 20]               0\n",
      "              DNN-15                   [-1, 20]               0\n",
      "           Expert-16                   [-1, 20]               0\n",
      "           Linear-17                   [-1, 10]             190\n",
      "        LeakyReLU-18                   [-1, 10]               0\n",
      "           Linear-19                   [-1, 15]             165\n",
      "        LeakyReLU-20                   [-1, 15]               0\n",
      "           Linear-21                   [-1, 20]             320\n",
      "        LeakyReLU-22                   [-1, 20]               0\n",
      "              DNN-23                   [-1, 20]               0\n",
      "           Expert-24                   [-1, 20]               0\n",
      "           Linear-25                    [-1, 3]              57\n",
      "          Softmax-26                    [-1, 3]               0\n",
      "              DNN-27                    [-1, 3]               0\n",
      "           Linear-28                   [-1, 11]             231\n",
      "        LeakyReLU-29                   [-1, 11]               0\n",
      "           Linear-30                   [-1, 16]             192\n",
      "        LeakyReLU-31                   [-1, 16]               0\n",
      "           Linear-32                   [-1, 21]             357\n",
      "        LeakyReLU-33                   [-1, 21]               0\n",
      "              DNN-34                   [-1, 21]               0\n",
      "            Tower-35                   [-1, 21]               0\n",
      "           Linear-36                    [-1, 6]             132\n",
      "           Linear-37                    [-1, 3]              57\n",
      "          Softmax-38                    [-1, 3]               0\n",
      "              DNN-39                    [-1, 3]               0\n",
      "           Linear-40                   [-1, 11]             231\n",
      "        LeakyReLU-41                   [-1, 11]               0\n",
      "           Linear-42                   [-1, 16]             192\n",
      "        LeakyReLU-43                   [-1, 16]               0\n",
      "           Linear-44                   [-1, 21]             357\n",
      "        LeakyReLU-45                   [-1, 21]               0\n",
      "              DNN-46                   [-1, 21]               0\n",
      "            Tower-47                   [-1, 21]               0\n",
      "           Linear-48                    [-1, 4]              88\n",
      "================================================================\n",
      "Total params: 3,919\n",
      "Trainable params: 3,919\n",
      "Non-trainable params: 0\n",
      "----------------------------------------------------------------\n",
      "Input size (MB): 0.00\n",
      "Forward/backward pass size (MB): 0.01\n",
      "Params size (MB): 0.01\n",
      "Estimated Total Size (MB): 0.02\n",
      "----------------------------------------------------------------\n",
      "============= Diagnostic Run torch.onnx.export version 2.0.1+cu118 =============\n",
      "verbose: False, log level: Level.ERROR\n",
      "======================= 0 NONE 0 NOTE 0 WARNING 0 ERROR ========================\n",
      "\n"
     ]
    }
   ],
   "source": [
    "mmoe = MMoE(\n",
    "    inputs_dim=18,\n",
    "    target_dict={\"PRESENCE\": 6, \"AIRFLOW\": 4},\n",
    "    num_experts=3,\n",
    "    expert_units=[10,15,20],\n",
    "    expert_activation=\"leakyrelu:0.1\",\n",
    "    expert_dropout_rate=None,\n",
    "    expert_use_bn=False,\n",
    "    tower_units=[11, 16, 21],\n",
    "    tower_activation=\"leakyrelu:0.1\",\n",
    "    tower_dropout_rate=None,\n",
    "    tower_use_bn=None,\n",
    "    is_last_layer=True,\n",
    ")\n",
    "\n",
    "torchsummary.summary(mmoe, (18,),device=\"cpu\")\n",
    "\n",
    "x = torch.randn(1, 18)\n",
    "model_path = \"./demo.pth\"  # 定义模型数据保存的路径\n",
    "torch.onnx.export(mmoe, x, model_path)  # 将 pytorch 模型以 onnx 格式导出并保存\n",
    "# print(mmoe)"
   ]
  },
  {
   "cell_type": "code",
   "execution_count": 20,
   "metadata": {},
   "outputs": [
    {
     "name": "stdout",
     "output_type": "stream",
     "text": [
      "----------------------------------------------------------------\n",
      "        Layer (type)               Output Shape         Param #\n",
      "================================================================\n",
      "            Linear-1                   [-1, 10]             190\n",
      "         LeakyReLU-2                   [-1, 10]               0\n",
      "            Linear-3                   [-1, 15]             165\n",
      "         LeakyReLU-4                   [-1, 15]               0\n",
      "            Linear-5                   [-1, 20]             320\n",
      "         LeakyReLU-6                   [-1, 20]               0\n",
      "               DNN-7                   [-1, 20]               0\n",
      "            Expert-8                   [-1, 20]               0\n",
      "            Linear-9                   [-1, 10]             190\n",
      "        LeakyReLU-10                   [-1, 10]               0\n",
      "           Linear-11                   [-1, 15]             165\n",
      "        LeakyReLU-12                   [-1, 15]               0\n",
      "           Linear-13                   [-1, 20]             320\n",
      "        LeakyReLU-14                   [-1, 20]               0\n",
      "              DNN-15                   [-1, 20]               0\n",
      "           Expert-16                   [-1, 20]               0\n",
      "           Linear-17                   [-1, 10]             190\n",
      "        LeakyReLU-18                   [-1, 10]               0\n",
      "           Linear-19                   [-1, 15]             165\n",
      "        LeakyReLU-20                   [-1, 15]               0\n",
      "           Linear-21                   [-1, 20]             320\n",
      "        LeakyReLU-22                   [-1, 20]               0\n",
      "              DNN-23                   [-1, 20]               0\n",
      "           Expert-24                   [-1, 20]               0\n",
      "           Linear-25                   [-1, 10]             190\n",
      "        LeakyReLU-26                   [-1, 10]               0\n",
      "           Linear-27                   [-1, 15]             165\n",
      "        LeakyReLU-28                   [-1, 15]               0\n",
      "           Linear-29                   [-1, 20]             320\n",
      "        LeakyReLU-30                   [-1, 20]               0\n",
      "              DNN-31                   [-1, 20]               0\n",
      "           Expert-32                   [-1, 20]               0\n",
      "           Linear-33                   [-1, 10]             190\n",
      "        LeakyReLU-34                   [-1, 10]               0\n",
      "           Linear-35                   [-1, 15]             165\n",
      "        LeakyReLU-36                   [-1, 15]               0\n",
      "           Linear-37                   [-1, 20]             320\n",
      "        LeakyReLU-38                   [-1, 20]               0\n",
      "              DNN-39                   [-1, 20]               0\n",
      "           Expert-40                   [-1, 20]               0\n",
      "           Linear-41                    [-1, 5]              95\n",
      "          Softmax-42                    [-1, 5]               0\n",
      "              DNN-43                    [-1, 5]               0\n",
      "           Linear-44                    [-1, 3]              57\n",
      "          Softmax-45                    [-1, 3]               0\n",
      "              DNN-46                    [-1, 3]               0\n",
      "           Linear-47                    [-1, 3]              57\n",
      "          Softmax-48                    [-1, 3]               0\n",
      "              DNN-49                    [-1, 3]               0\n",
      "           Linear-50                    [-1, 3]              57\n",
      "          Softmax-51                    [-1, 3]               0\n",
      "              DNN-52                    [-1, 3]               0\n",
      "           Linear-53                   [-1, 11]             891\n",
      "        LeakyReLU-54                   [-1, 11]               0\n",
      "           Linear-55                   [-1, 16]             192\n",
      "        LeakyReLU-56                   [-1, 16]               0\n",
      "           Linear-57                   [-1, 21]             357\n",
      "        LeakyReLU-58                   [-1, 21]               0\n",
      "              DNN-59                   [-1, 21]               0\n",
      "            Tower-60                   [-1, 21]               0\n",
      "           Linear-61                    [-1, 6]             132\n",
      "           Linear-62                   [-1, 11]             891\n",
      "        LeakyReLU-63                   [-1, 11]               0\n",
      "           Linear-64                   [-1, 16]             192\n",
      "        LeakyReLU-65                   [-1, 16]               0\n",
      "           Linear-66                   [-1, 21]             357\n",
      "        LeakyReLU-67                   [-1, 21]               0\n",
      "              DNN-68                   [-1, 21]               0\n",
      "            Tower-69                   [-1, 21]               0\n",
      "           Linear-70                    [-1, 4]              88\n",
      "================================================================\n",
      "Total params: 6,741\n",
      "Trainable params: 6,741\n",
      "Non-trainable params: 0\n",
      "----------------------------------------------------------------\n",
      "Input size (MB): 0.00\n",
      "Forward/backward pass size (MB): 0.01\n",
      "Params size (MB): 0.03\n",
      "Estimated Total Size (MB): 0.03\n",
      "----------------------------------------------------------------\n",
      "============= Diagnostic Run torch.onnx.export version 2.0.1+cu118 =============\n",
      "verbose: False, log level: Level.ERROR\n",
      "======================= 0 NONE 0 NOTE 0 WARNING 0 ERROR ========================\n",
      "\n"
     ]
    }
   ],
   "source": [
    "eNet = ExtractionNet(\n",
    "    inputs_dim=18,\n",
    "    target_dict={\"PRESENCE\": 6, \"AIRFLOW\": 4},\n",
    "    num_tasks_experts=1,\n",
    "    num_shared_experts=2,\n",
    "    expert_units=[10,15,20],\n",
    "    expert_activation=\"leakyrelu:0.1\",\n",
    "    expert_dropout_rate=None,\n",
    "    expert_use_bn=False,\n",
    "    tower_units=[11, 16, 21],\n",
    "    tower_activation=\"leakyrelu:0.1\",\n",
    "    tower_dropout_rate=None,\n",
    "    tower_use_bn=None,\n",
    "    is_last_layer=True,\n",
    ")\n",
    "\n",
    "torchsummary.summary(eNet, (18,),device=\"cpu\")\n",
    "\n",
    "x = torch.randn(1, 18)\n",
    "model_path = \"../../eNet_demo.pth\"  # 定义模型数据保存的路径\n",
    "torch.onnx.export(eNet, x, model_path)  # 将 pytorch 模型以 onnx 格式导出并保存\n",
    "# print(mmoe)"
   ]
  },
  {
   "cell_type": "code",
   "execution_count": 6,
   "metadata": {},
   "outputs": [
    {
     "name": "stderr",
     "output_type": "stream",
     "text": [
      "/usr/local/lib/python3.10/site-packages/torch/jit/_trace.py:1056: TracerWarning: Encountering a list at the output of the tracer might cause the trace to be incorrect, this is only valid if the container structure does not change based on the module's inputs. Consider using a constant container instead (e.g. for `list`, use a `tuple` instead. for `dict`, use a `NamedTuple` instead). If you absolutely need this and know the side effects, pass strict=False to trace() to allow this behavior.\n",
      "  module._c._create_method_from_trace(\n"
     ]
    },
    {
     "name": "stdout",
     "output_type": "stream",
     "text": [
      "def forward(self,\n",
      "    inputs: Tensor) -> List[Tensor]:\n",
      "  extractionNet_layers = self.extractionNet_layers\n",
      "  _1 = getattr(extractionNet_layers, \"1\")\n",
      "  extractionNet_layers0 = self.extractionNet_layers\n",
      "  _0 = getattr(extractionNet_layers0, \"0\")\n",
      "  _2, _3, _4, _5, = (_0).forward(inputs, )\n",
      "  _6, _7, = (_1).forward(_2, _3, _4, _5, )\n",
      "  return [_6, _7]\n",
      "\n",
      "============= Diagnostic Run torch.onnx.export version 2.0.1+cu118 =============\n",
      "verbose: False, log level: Level.ERROR\n",
      "======================= 0 NONE 0 NOTE 0 WARNING 0 ERROR ========================\n",
      "\n"
     ]
    }
   ],
   "source": []
  },
  {
   "cell_type": "code",
   "execution_count": 10,
   "metadata": {},
   "outputs": [
    {
     "name": "stdout",
     "output_type": "stream",
     "text": [
      "/workspace/src\n"
     ]
    }
   ],
   "source": [
    "import os\n",
    "os.chdir(\"/workspace/src/\")\n",
    "!pwd"
   ]
  },
  {
   "cell_type": "code",
   "execution_count": 14,
   "metadata": {},
   "outputs": [],
   "source": [
    "model = torch.load(\"/workspace/checkpoints/NN/cvcnet-mtl-mlp_18_3_16_32_512:512:512_256:256:256_BS128_LR0.0002_EP1000_2023-12-04T02-40-49/final_model.pth\")"
   ]
  },
  {
   "cell_type": "code",
   "execution_count": 28,
   "metadata": {},
   "outputs": [
    {
     "name": "stdout",
     "output_type": "stream",
     "text": [
      "Total params: 170426986\n",
      "Trainable params: 170426986\n",
      "Non-trainable params: 0\n"
     ]
    }
   ],
   "source": [
    "import numpy as np\n",
    "# 定义总参数量、可训练参数量及非可训练参数量变量\n",
    "Total_params = 0\n",
    "Trainable_params = 0\n",
    "NonTrainable_params = 0\n",
    "\n",
    "# 遍历model.parameters()返回的全局参数列表\n",
    "for param in model.parameters():\n",
    "    mulValue = np.prod(param.size())  # 使用numpy prod接口计算参数数组所有元素之积\n",
    "    Total_params += mulValue  # 总参数量\n",
    "    if param.requires_grad:\n",
    "        Trainable_params += mulValue  # 可训练参数量\n",
    "    else:\n",
    "        NonTrainable_params += mulValue  # 非可训练参数量\n",
    "\n",
    "print(f'Total params: {Total_params}')\n",
    "print(f'Trainable params: {Trainable_params}')\n",
    "print(f'Non-trainable params: {NonTrainable_params}')"
   ]
  },
  {
   "cell_type": "code",
   "execution_count": 34,
   "metadata": {},
   "outputs": [
    {
     "data": {
      "text/plain": [
       "170426986"
      ]
     },
     "execution_count": 34,
     "metadata": {},
     "output_type": "execute_result"
    }
   ],
   "source": [
    "count_parameters(model)"
   ]
  },
  {
   "cell_type": "markdown",
   "metadata": {},
   "source": [
    "# Generate data based on MAE and RMSE"
   ]
  },
  {
   "cell_type": "code",
   "execution_count": 20,
   "metadata": {},
   "outputs": [
    {
     "name": "stdout",
     "output_type": "stream",
     "text": [
      "[0.06666666666666667, 0.3333333333333333, 0.4666666666666667, 0.13333333333333333] 1.0\n"
     ]
    }
   ],
   "source": [
    "a=1\n",
    "b=5\n",
    "c=7\n",
    "e=2\n",
    "l = [a,b,c,e]\n",
    "s=sum(l)\n",
    "l=[i/s for i in l]\n",
    "print(l,sum(l))"
   ]
  },
  {
   "cell_type": "code",
   "execution_count": 25,
   "metadata": {},
   "outputs": [
    {
     "data": {
      "text/plain": [
       "tensor([1.0000e+00, 2.3803e-26])"
      ]
     },
     "execution_count": 25,
     "metadata": {},
     "output_type": "execute_result"
    }
   ],
   "source": [
    "A=2958271\n",
    "b=2958212\n",
    "torch.nn.Softmax(dim=0)(torch.tensor([A,b],dtype=torch.float32))"
   ]
  }
 ],
 "metadata": {
  "kernelspec": {
   "display_name": "Python 3",
   "language": "python",
   "name": "python3"
  },
  "language_info": {
   "codemirror_mode": {
    "name": "ipython",
    "version": 3
   },
   "file_extension": ".py",
   "mimetype": "text/x-python",
   "name": "python",
   "nbconvert_exporter": "python",
   "pygments_lexer": "ipython3",
   "version": "3.10.11"
  }
 },
 "nbformat": 4,
 "nbformat_minor": 2
}
