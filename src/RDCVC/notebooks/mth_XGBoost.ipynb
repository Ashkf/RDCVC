{
 "cells": [
  {
   "cell_type": "markdown",
   "metadata": {},
   "source": [
    "# XGBoost "
   ]
  },
  {
   "cell_type": "code",
   "execution_count": 14,
   "metadata": {},
   "outputs": [],
   "source": [
    "import os\n",
    "os.chdir(\"/root/workspace/CCP/\")"
   ]
  },
  {
   "cell_type": "code",
   "execution_count": 15,
   "metadata": {
    "notebookRunGroups": {
     "groupValue": ""
    },
    "tags": []
   },
   "outputs": [],
   "source": [
    "import matplotlib.pyplot as plt\n",
    "import numpy as np\n",
    "import pandas as pd\n",
    "import seaborn as sns\n",
    "import xgboost as xgb\n",
    "from sklearn.metrics import mean_absolute_error as mae\n",
    "from sklearn.metrics import mean_absolute_percentage_error as mape\n",
    "from sklearn.metrics import mean_squared_error as mse\n",
    "from sklearn.model_selection import train_test_split\n",
    "from sklearn.model_selection import KFold, cross_val_score\n",
    "\n",
    "from utils.metrics import calculate_metrics, get_ccp_scoring, print_results_table\n",
    "from utils.datasets import load_and_split_data\n",
    "\n",
    "# ml\n",
    "from xgboost import XGBRegressor, XGBRFRegressor"
   ]
  },
  {
   "cell_type": "code",
   "execution_count": 16,
   "metadata": {
    "tags": []
   },
   "outputs": [],
   "source": [
    "# 设置显示中文字体\n",
    "\n",
    "from pylab import mpl\n",
    "\n",
    "mpl.rcParams[\"font.sans-serif\"] = [\"SimHei\"]\n",
    "# 设置正常显示符号\n",
    "mpl.rcParams[\"axes.unicode_minus\"] = False"
   ]
  },
  {
   "cell_type": "markdown",
   "metadata": {},
   "source": [
    "## 数据"
   ]
  },
  {
   "cell_type": "markdown",
   "metadata": {},
   "source": [
    "### 读取数据"
   ]
  },
  {
   "cell_type": "code",
   "execution_count": 35,
   "metadata": {},
   "outputs": [],
   "source": [
    "import pandas as pd\n",
    "from sklearn.model_selection import train_test_split\n",
    "\n",
    "\n",
    "def load_and_split_data(data_file, test_size=0.1, random_state=42):\n",
    "    \"\"\"\n",
    "    Loads the data from a CSV file, selects the relevant features,\n",
    "    and splits the dataset into training and testing sets.\n",
    "\n",
    "    Args:\n",
    "        data_file (str): The path to the CSV file containing the data.\n",
    "        test_size (float, optional): The proportion of the dataset to\n",
    "            include in the testing set. Defaults to 0.1.\n",
    "        random_state (int, optional): Controls the shuffling applied\n",
    "            to the data before splitting. Defaults to 42.\n",
    "\n",
    "    Returns:\n",
    "        x_train (ndarray): The feature values for the training set.\n",
    "        x_test (ndarray): The feature values for the testing set.\n",
    "        y_train (ndarray): The target values for the training set.\n",
    "        y_test (ndarray): The target values for the testing set.\n",
    "\n",
    "    \"\"\"\n",
    "    _df_raw = pd.read_csv(data_file)\n",
    "\n",
    "    decision_features = [\n",
    "        \"MAU_FREQ\",\n",
    "        \"AHU_FREQ\",\n",
    "        \"EF_FREQ\",\n",
    "        \"RM1_SUPP_DMPR_0\",\n",
    "        \"RM2_SUPP_DMPR_0\",\n",
    "        \"RM6_SUPP_DMPR_0\",\n",
    "        \"RM6_SUPP_DMPR_1\",\n",
    "        \"RM3_SUPP_DMPR_0\",\n",
    "        \"RM4_SUPP_DMPR_0\",\n",
    "        \"RM5_SUPP_DMPR_0\",\n",
    "        \"RM2_RET_DMPR_0\",\n",
    "        \"RM6_RET_DMPR_0\",\n",
    "        \"RM3_RET_DMPR_0\",\n",
    "        \"RM4_RET_DMPR_0\",\n",
    "        \"RM5_EXH_DMPR_1\",\n",
    "        \"RM3_EXH_DMPR_0\",\n",
    "        \"RM4_EXH_DMPR_0\",\n",
    "        \"RM5_EXH_DMPR_0\",\n",
    "    ]\n",
    "    controlled_features = [\n",
    "        \"TOT_FRSH_VOL\",\n",
    "        \"TOT_SUPP_VOL\",\n",
    "        \"TOT_RET_VOL\",\n",
    "        \"TOT_EXH_VOL\",\n",
    "        \"RM1_PRES\",\n",
    "        \"RM2_PRES\",\n",
    "        \"RM3_PRES\",\n",
    "        \"RM4_PRES\",\n",
    "        \"RM5_PRES\",\n",
    "        \"RM6_PRES\",\n",
    "    ]\n",
    "\n",
    "    _df_data = _df_raw[decision_features]\n",
    "    _df_label = _df_raw[controlled_features]\n",
    "\n",
    "    x_train, x_test, y_train, y_test = train_test_split(\n",
    "        _df_data.values,\n",
    "        _df_label.values,\n",
    "        test_size=test_size,\n",
    "        shuffle=True,\n",
    "        random_state=random_state,\n",
    "    )\n",
    "\n",
    "    return x_train, x_test, y_train, y_test\n"
   ]
  },
  {
   "cell_type": "code",
   "execution_count": 55,
   "metadata": {},
   "outputs": [
    {
     "name": "stdout",
     "output_type": "stream",
     "text": [
      "训练集大小: 350\n",
      "测试集大小: 39\n"
     ]
    },
    {
     "data": {
      "text/plain": [
       "array([[27.39, 46.49, 22.36, ..., 90.  , 90.  , 15.  ],\n",
       "       [27.36, 46.46, 22.36, ..., 90.  , 90.  , 15.  ],\n",
       "       [27.41, 50.  , 22.38, ..., 90.  , 90.  , 15.  ],\n",
       "       ...,\n",
       "       [31.51, 46.45, 22.32, ..., 80.  , 85.  , 20.  ],\n",
       "       [41.77, 20.89, 50.  , ..., 40.  , 25.  , 20.  ],\n",
       "       [27.45, 41.34, 22.36, ..., 90.  , 90.  , 15.  ]])"
      ]
     },
     "execution_count": 55,
     "metadata": {},
     "output_type": "execute_result"
    }
   ],
   "source": [
    "data_path = \"data/rdc_data_cleaned.csv\"\n",
    "x_train, x_test, y_train, y_test = load_and_split_data(\n",
    "    data_path, test_size=0.1, random_state=42\n",
    ")\n",
    "\n",
    "# 打印划分后的数据集大小\n",
    "print(\"训练集大小:\", len(x_train))\n",
    "print(\"测试集大小:\", len(x_test))\n",
    "x_train"
   ]
  },
  {
   "cell_type": "markdown",
   "metadata": {},
   "source": [
    "## 单次训练"
   ]
  },
  {
   "cell_type": "markdown",
   "metadata": {},
   "source": [
    "### XGBoost"
   ]
  },
  {
   "cell_type": "markdown",
   "metadata": {},
   "source": [
    "随便使用一组参数进行训练"
   ]
  },
  {
   "cell_type": "code",
   "execution_count": 17,
   "metadata": {
    "tags": []
   },
   "outputs": [
    {
     "data": {
      "text/html": [
       "<pre style=\"white-space:pre;overflow-x:auto;line-height:normal;font-family:Menlo,'DejaVu Sans Mono',consolas,'Courier New',monospace\"><span style=\"color: #800000; text-decoration-color: #800000; font-weight: bold\">CCP Predictive Modeling Metrics</span>\n",
       "</pre>\n"
      ],
      "text/plain": [
       "\u001b[1;31mCCP Predictive Modeling Metrics\u001b[0m\n"
      ]
     },
     "metadata": {},
     "output_type": "display_data"
    },
    {
     "data": {
      "text/html": [
       "<pre style=\"white-space:pre;overflow-x:auto;line-height:normal;font-family:Menlo,'DejaVu Sans Mono',consolas,'Courier New',monospace\">┏━━━━━━━━━┯━━━━━━━━━┯━━━━━━━━━┯━━━━━━━━━━┓\n",
       "┃<span style=\"font-weight: bold\"> Feature </span>│<span style=\"font-weight: bold\"> MAE(Pa) </span>│<span style=\"font-weight: bold\">  MAPE   </span>│<span style=\"font-weight: bold\"> RMSE(Pa) </span>┃\n",
       "┠─────────┼─────────┼─────────┼──────────┨\n",
       "┃<span style=\"color: #7f7f7f; text-decoration-color: #7f7f7f\"> Airflow </span>│  71.69  │  7.03%  │  112.42  ┃\n",
       "┃<span style=\"color: #7f7f7f; text-decoration-color: #7f7f7f\"> Pres    </span>│  3.96   │ 128.53% │   6.19   ┃\n",
       "┗━━━━━━━━━┷━━━━━━━━━┷━━━━━━━━━┷━━━━━━━━━━┛\n",
       "</pre>\n"
      ],
      "text/plain": [
       "┏━━━━━━━━━┯━━━━━━━━━┯━━━━━━━━━┯━━━━━━━━━━┓\n",
       "┃\u001b[1m \u001b[0m\u001b[1mFeature\u001b[0m\u001b[1m \u001b[0m│\u001b[1m \u001b[0m\u001b[1mMAE(Pa)\u001b[0m\u001b[1m \u001b[0m│\u001b[1m \u001b[0m\u001b[1m MAPE  \u001b[0m\u001b[1m \u001b[0m│\u001b[1m \u001b[0m\u001b[1mRMSE(Pa)\u001b[0m\u001b[1m \u001b[0m┃\n",
       "┠─────────┼─────────┼─────────┼──────────┨\n",
       "┃\u001b[2m \u001b[0m\u001b[2mAirflow\u001b[0m\u001b[2m \u001b[0m│  71.69  │  7.03%  │  112.42  ┃\n",
       "┃\u001b[2m \u001b[0m\u001b[2mPres   \u001b[0m\u001b[2m \u001b[0m│  3.96   │ 128.53% │   6.19   ┃\n",
       "┗━━━━━━━━━┷━━━━━━━━━┷━━━━━━━━━┷━━━━━━━━━━┛\n"
      ]
     },
     "metadata": {},
     "output_type": "display_data"
    },
    {
     "data": {
      "text/plain": [
       "{'MAE': {'Airflow': 71.69197373756995, 'Pres': 3.9573271577493254},\n",
       " 'MAPE': {'Airflow': 0.07034244855662888, 'Pres': 1.285285206848656},\n",
       " 'RMSE': {'Airflow': 112.41522371459511, 'Pres': 6.190046628304861}}"
      ]
     },
     "execution_count": 17,
     "metadata": {},
     "output_type": "execute_result"
    }
   ],
   "source": [
    "once_xgbRegr = XGBRegressor(\n",
    "    n_estimators=500, learning_rate=0.05, min_child_weight=5, max_depth=4,\n",
    ").fit(once_data_train, once_label_train)\n",
    "\n",
    "calculate_metrics(\n",
    "    once_xgbRegr.predict(once_data_test), once_label_test, print_metrics=True\n",
    ")\n"
   ]
  },
  {
   "cell_type": "markdown",
   "metadata": {},
   "source": [
    "保存模型"
   ]
  },
  {
   "cell_type": "code",
   "execution_count": null,
   "metadata": {},
   "outputs": [],
   "source": [
    "# xgb.save_model(\"path\")"
   ]
  },
  {
   "cell_type": "markdown",
   "metadata": {},
   "source": [
    "### XGBoost RF"
   ]
  },
  {
   "cell_type": "markdown",
   "metadata": {},
   "source": [
    "随便使用一组参数进行训练"
   ]
  },
  {
   "cell_type": "code",
   "execution_count": 18,
   "metadata": {},
   "outputs": [
    {
     "data": {
      "text/html": [
       "<pre style=\"white-space:pre;overflow-x:auto;line-height:normal;font-family:Menlo,'DejaVu Sans Mono',consolas,'Courier New',monospace\"><span style=\"color: #800000; text-decoration-color: #800000; font-weight: bold\">CCP Predictive Modeling Metrics</span>\n",
       "</pre>\n"
      ],
      "text/plain": [
       "\u001b[1;31mCCP Predictive Modeling Metrics\u001b[0m\n"
      ]
     },
     "metadata": {},
     "output_type": "display_data"
    },
    {
     "data": {
      "text/html": [
       "<pre style=\"white-space:pre;overflow-x:auto;line-height:normal;font-family:Menlo,'DejaVu Sans Mono',consolas,'Courier New',monospace\">┏━━━━━━━━━┯━━━━━━━━━┯━━━━━━━━━┯━━━━━━━━━━┓\n",
       "┃<span style=\"font-weight: bold\"> Feature </span>│<span style=\"font-weight: bold\"> MAE(Pa) </span>│<span style=\"font-weight: bold\">  MAPE   </span>│<span style=\"font-weight: bold\"> RMSE(Pa) </span>┃\n",
       "┠─────────┼─────────┼─────────┼──────────┨\n",
       "┃<span style=\"color: #7f7f7f; text-decoration-color: #7f7f7f\"> Airflow </span>│ 119.16  │ 10.09%  │  176.01  ┃\n",
       "┃<span style=\"color: #7f7f7f; text-decoration-color: #7f7f7f\"> Pres    </span>│  8.73   │ 383.87% │  13.02   ┃\n",
       "┗━━━━━━━━━┷━━━━━━━━━┷━━━━━━━━━┷━━━━━━━━━━┛\n",
       "</pre>\n"
      ],
      "text/plain": [
       "┏━━━━━━━━━┯━━━━━━━━━┯━━━━━━━━━┯━━━━━━━━━━┓\n",
       "┃\u001b[1m \u001b[0m\u001b[1mFeature\u001b[0m\u001b[1m \u001b[0m│\u001b[1m \u001b[0m\u001b[1mMAE(Pa)\u001b[0m\u001b[1m \u001b[0m│\u001b[1m \u001b[0m\u001b[1m MAPE  \u001b[0m\u001b[1m \u001b[0m│\u001b[1m \u001b[0m\u001b[1mRMSE(Pa)\u001b[0m\u001b[1m \u001b[0m┃\n",
       "┠─────────┼─────────┼─────────┼──────────┨\n",
       "┃\u001b[2m \u001b[0m\u001b[2mAirflow\u001b[0m\u001b[2m \u001b[0m│ 119.16  │ 10.09%  │  176.01  ┃\n",
       "┃\u001b[2m \u001b[0m\u001b[2mPres   \u001b[0m\u001b[2m \u001b[0m│  8.73   │ 383.87% │  13.02   ┃\n",
       "┗━━━━━━━━━┷━━━━━━━━━┷━━━━━━━━━┷━━━━━━━━━━┛\n"
      ]
     },
     "metadata": {},
     "output_type": "display_data"
    },
    {
     "data": {
      "text/plain": [
       "{'MAE': {'Airflow': 119.15700913942777, 'Pres': 8.733706241219469},\n",
       " 'MAPE': {'Airflow': 0.10092172034751415, 'Pres': 3.83867485324668},\n",
       " 'RMSE': {'Airflow': 176.01226336190948, 'Pres': 13.019013071228498}}"
      ]
     },
     "execution_count": 18,
     "metadata": {},
     "output_type": "execute_result"
    }
   ],
   "source": [
    "once_xgbRFRegr = XGBRFRegressor(\n",
    "    n_estimators=500,\n",
    "    learning_rate=0.995,\n",
    "    min_child_weight=5,\n",
    "    max_depth=4,\n",
    ").fit(once_data_train, once_label_train)\n",
    "\n",
    "calculate_metrics(\n",
    "    once_xgbRFRegr.predict(once_data_test), once_label_test, print_metrics=True\n",
    ")"
   ]
  },
  {
   "cell_type": "markdown",
   "metadata": {},
   "source": [
    "保存模型"
   ]
  },
  {
   "cell_type": "code",
   "execution_count": 16,
   "metadata": {},
   "outputs": [],
   "source": [
    "# xgb.save_model(\"path\")"
   ]
  },
  {
   "cell_type": "markdown",
   "metadata": {},
   "source": [
    "## 交叉验证"
   ]
  },
  {
   "cell_type": "code",
   "execution_count": 26,
   "metadata": {},
   "outputs": [],
   "source": [
    "xgbRegr_kfold = XGBRegressor(\n",
    "    n_estimators=3000,\n",
    "    learning_rate=0.029,\n",
    "    min_child_weight=1,\n",
    "    max_depth=3,\n",
    "    colsample_bynode=1,\n",
    "    gamma=0,\n",
    "    subsample=0.8,\n",
    ")\n",
    "fold_metrics = cross_validation_kfold(\n",
    "    xgbRegr_kfold, df_data.values, df_label.values, eval_method=calculate_metrics, k=5\n",
    ")"
   ]
  },
  {
   "cell_type": "code",
   "execution_count": 28,
   "metadata": {},
   "outputs": [
    {
     "data": {
      "text/plain": [
       "{0: {'MAE': {'Airflow': 67.1016258125631, 'Pres': 3.597080020049953},\n",
       "  'MAPE': {'Airflow': 0.10808708777394264, 'Pres': 0.28284571582502743},\n",
       "  'RMSE': {'Airflow': 105.64022295635996, 'Pres': 5.6154924518800176}},\n",
       " 1: {'MAE': {'Airflow': 66.76243203423981, 'Pres': 3.5890163936867165},\n",
       "  'MAPE': {'Airflow': 0.1288482058556604, 'Pres': 0.4379841559455478},\n",
       "  'RMSE': {'Airflow': 90.01240765318626, 'Pres': 5.242327974893376}},\n",
       " 2: {'MAE': {'Airflow': 65.87792605897305, 'Pres': 3.7482413500152583},\n",
       "  'MAPE': {'Airflow': 0.08816133746983042, 'Pres': 0.5124017342855407},\n",
       "  'RMSE': {'Airflow': 93.44458352982255, 'Pres': 5.594949105911531}},\n",
       " 3: {'MAE': {'Airflow': 58.73592417659921, 'Pres': 3.5966929816206297},\n",
       "  'MAPE': {'Airflow': 0.06908901801785684, 'Pres': 0.3355270837157467},\n",
       "  'RMSE': {'Airflow': 81.6422487275536, 'Pres': 5.241525422415325}},\n",
       " 4: {'MAE': {'Airflow': 71.99241014753072, 'Pres': 4.539200940539826},\n",
       "  'MAPE': {'Airflow': 0.0711788539936246, 'Pres': 0.41558167244261107},\n",
       "  'RMSE': {'Airflow': 106.29915994062212, 'Pres': 6.89695448659429}}}"
      ]
     },
     "execution_count": 28,
     "metadata": {},
     "output_type": "execute_result"
    }
   ],
   "source": [
    "fold_metrics"
   ]
  }
 ],
 "metadata": {
  "kernelspec": {
   "display_name": "Python 3 (ipykernel)",
   "language": "python",
   "name": "python3"
  },
  "toc-autonumbering": true,
  "toc-showcode": false,
  "toc-showtags": false
 },
 "nbformat": 4,
 "nbformat_minor": 4
}
