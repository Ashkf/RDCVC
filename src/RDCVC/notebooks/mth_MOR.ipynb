{
 "cells": [
  {
   "cell_type": "markdown",
   "metadata": {},
   "source": [
    "# MultiOutputRegressor\n",
    "\n",
    "test the performance of the classical ML algorithms on the CleanRoom prediction problem\n",
    "\n",
    "**baseline**: predict the mean value of the test data\n",
    "\n",
    "**Linear Models**:\n",
    "\n",
    "1. LinearRegression: simple\n",
    "2. Ridge: 使用 L2 正则化的线性回归模型，可以减小模型的复杂度。\n",
    "3. Lasso：使用 L1 正则化的线性回归模型，可以增加稀疏性，适用于特征选择。\n",
    "4. ElasticNet：结合 L1 和 L2 正则化的线性回归模型，综合了 Ridge 和 Lasso 的优势。\n",
    "\n",
    "**K-neighbors**：（K 最近邻回归）根据最接近的 K 个邻居的目标值来进行回归预测。\n",
    "\n",
    "**SVM**: SVR（支持向量回归）：使用支持向量机的回归版本，通过找到一个最优超平面来建立回归模型。\n",
    "\n",
    "**MLP**：（多层感知器）使用多层神经网络进行回归任务。\n",
    "\n",
    "**GaussianProcessRegressor**：（高斯过程回归）使用高斯过程建立回归模型，可以估计预测的不确定性。\n",
    "\n",
    "**Tree Models**:\n",
    "\n",
    " 1. DecisionTreeRegressor：基于决策树的回归模型，通过划分特征空间来建立回归模型。\n",
    " 2. RandomForestRegressor（随机森林回归）：基于决策树的集成学习方法，\n",
    "         通过随机特征选择和样本采样来建立回归模型。\n",
    " 3. AdaBoostRegressor：基于自适应增强的回归模型，通过迭代训练弱回归模型来建立强大的回归模型。\n",
    " 4. GradientBoostingRegressor（梯度提升回归）：基于梯度提升树的集成学习方法，\n",
    "         通过迭代训练弱回归模型来建立强大的回归模型。\n",
    " 5. BaggingRegressor: 基于袋装方法的回归模型，通过自助采样和平均预测结果来建立回归模型。\n",
    " 6. ExtraTreesRegressor（极端随机森林回归）：在随机森林中进一步随机化特征和划分点的回归模型。\n",
    " 7. HistGradientBoostingRegressor（直方图梯度提升回归）：基于直方图加速的梯度提升回归模型，具有更快的训练速度。\n",
    " 8. XGBRegressor：基于梯度提升树的回归模型，具有高效的训练和预测性能。\n",
    " 9. LightGBMRegressor：基于梯度提升树的回归模型，具有快速训练速度和高准确性。\n",
    " 10. CatBoostRegressor: 基于梯度提升树的回归模型，具有处理分类和回归任务的能力。\n"
   ]
  },
  {
   "cell_type": "code",
   "execution_count": 1,
   "metadata": {
    "tags": []
   },
   "outputs": [],
   "source": [
    "import os\n",
    "\n",
    "# os.chdir(\"/root/workspace/CCP/\")"
   ]
  },
  {
   "cell_type": "code",
   "execution_count": 2,
   "metadata": {
    "notebookRunGroups": {
     "groupValue": ""
    },
    "tags": []
   },
   "outputs": [
    {
     "ename": "ModuleNotFoundError",
     "evalue": "No module named 'utils'",
     "output_type": "error",
     "traceback": [
      "\u001b[0;31m---------------------------------------------------------------------------\u001b[0m",
      "\u001b[0;31mModuleNotFoundError\u001b[0m                       Traceback (most recent call last)",
      "\u001b[1;32m/workspace/src/RDCVC/notebooks/mth_MOR.ipynb 单元格 3\u001b[0m line \u001b[0;36m1\n\u001b[1;32m      <a href='vscode-notebook-cell://dev-container%2B7b22686f737450617468223a222f686f6d652f6b61692f776f726b73706163652f52444356656e74696c6174696f6e436f6e74726f6c222c226c6f63616c446f636b6572223a66616c73652c22636f6e66696746696c65223a7b22246d6964223a312c2270617468223a222f686f6d652f6b61692f776f726b73706163652f52444356656e74696c6174696f6e436f6e74726f6c2f2e646576636f6e7461696e65722f646576636f6e7461696e65722e6a736f6e222c22736368656d65223a227673636f64652d66696c65486f7374227d7d@ssh-remote%2B204server/workspace/src/RDCVC/notebooks/mth_MOR.ipynb#W2sdnNjb2RlLXJlbW90ZQ%3D%3D?line=6'>7</a>\u001b[0m \u001b[39mfrom\u001b[39;00m \u001b[39msklearn\u001b[39;00m\u001b[39m.\u001b[39;00m\u001b[39mensemble\u001b[39;00m \u001b[39mimport\u001b[39;00m RandomForestRegressor\n\u001b[1;32m      <a href='vscode-notebook-cell://dev-container%2B7b22686f737450617468223a222f686f6d652f6b61692f776f726b73706163652f52444356656e74696c6174696f6e436f6e74726f6c222c226c6f63616c446f636b6572223a66616c73652c22636f6e66696746696c65223a7b22246d6964223a312c2270617468223a222f686f6d652f6b61692f776f726b73706163652f52444356656e74696c6174696f6e436f6e74726f6c2f2e646576636f6e7461696e65722f646576636f6e7461696e65722e6a736f6e222c22736368656d65223a227673636f64652d66696c65486f7374227d7d@ssh-remote%2B204server/workspace/src/RDCVC/notebooks/mth_MOR.ipynb#W2sdnNjb2RlLXJlbW90ZQ%3D%3D?line=7'>8</a>\u001b[0m \u001b[39mfrom\u001b[39;00m \u001b[39msklearn\u001b[39;00m\u001b[39m.\u001b[39;00m\u001b[39mtree\u001b[39;00m \u001b[39mimport\u001b[39;00m DecisionTreeRegressor\n\u001b[0;32m---> <a href='vscode-notebook-cell://dev-container%2B7b22686f737450617468223a222f686f6d652f6b61692f776f726b73706163652f52444356656e74696c6174696f6e436f6e74726f6c222c226c6f63616c446f636b6572223a66616c73652c22636f6e66696746696c65223a7b22246d6964223a312c2270617468223a222f686f6d652f6b61692f776f726b73706163652f52444356656e74696c6174696f6e436f6e74726f6c2f2e646576636f6e7461696e65722f646576636f6e7461696e65722e6a736f6e222c22736368656d65223a227673636f64652d66696c65486f7374227d7d@ssh-remote%2B204server/workspace/src/RDCVC/notebooks/mth_MOR.ipynb#W2sdnNjb2RlLXJlbW90ZQ%3D%3D?line=9'>10</a>\u001b[0m \u001b[39mfrom\u001b[39;00m \u001b[39mutils\u001b[39;00m\u001b[39m.\u001b[39;00m\u001b[39mmetrics\u001b[39;00m \u001b[39mimport\u001b[39;00m calculate_metrics, get_ccp_scoring, print_results_table\n\u001b[1;32m     <a href='vscode-notebook-cell://dev-container%2B7b22686f737450617468223a222f686f6d652f6b61692f776f726b73706163652f52444356656e74696c6174696f6e436f6e74726f6c222c226c6f63616c446f636b6572223a66616c73652c22636f6e66696746696c65223a7b22246d6964223a312c2270617468223a222f686f6d652f6b61692f776f726b73706163652f52444356656e74696c6174696f6e436f6e74726f6c2f2e646576636f6e7461696e65722f646576636f6e7461696e65722e6a736f6e222c22736368656d65223a227673636f64652d66696c65486f7374227d7d@ssh-remote%2B204server/workspace/src/RDCVC/notebooks/mth_MOR.ipynb#W2sdnNjb2RlLXJlbW90ZQ%3D%3D?line=10'>11</a>\u001b[0m \u001b[39mfrom\u001b[39;00m \u001b[39mutils\u001b[39;00m\u001b[39m.\u001b[39;00m\u001b[39mdatasets\u001b[39;00m \u001b[39mimport\u001b[39;00m load_and_split_data\n",
      "\u001b[0;31mModuleNotFoundError\u001b[0m: No module named 'utils'"
     ]
    }
   ],
   "source": [
    "\"\"\"\n",
    "* \n",
    "* \n",
    "* File: mth_MOR.ipynb\n",
    "* Author: Fan Kai\n",
    "* Soochow University\n",
    "* Created: 2023-11-14 08:24:48\n",
    "* ----------------------------\n",
    "* Modified: 2023-11-18 04:10:02\n",
    "* Modified By: Fan Kai\n",
    "* ========================================================================\n",
    "* HISTORY:\n",
    "\"\"\"\n",
    "\n",
    "\n",
    "import matplotlib.pyplot as plt\n",
    "import numpy as np\n",
    "import pandas as pd\n",
    "from sklearn.linear_model import LinearRegression, Ridge, Lasso, ElasticNet\n",
    "from sklearn.model_selection import RepeatedKFold, cross_validate, GridSearchCV, KFold\n",
    "from sklearn.neighbors import KNeighborsRegressor\n",
    "from sklearn.ensemble import RandomForestRegressor\n",
    "from sklearn.tree import DecisionTreeRegressor\n",
    "\n",
    "from utils.metrics import calculate_metrics, get_ccp_scoring, print_results_table\n",
    "from utils.datasets import load_and_split_data"
   ]
  },
  {
   "cell_type": "code",
   "execution_count": 3,
   "metadata": {
    "tags": []
   },
   "outputs": [],
   "source": [
    "# 设置显示中文字体\n",
    "from pylab import mpl\n",
    "\n",
    "mpl.rcParams[\"font.sans-serif\"] = [\"SimHei\"]\n",
    "# 设置正常显示符号\n",
    "mpl.rcParams[\"axes.unicode_minus\"] = False"
   ]
  },
  {
   "cell_type": "markdown",
   "metadata": {},
   "source": [
    "## Data"
   ]
  },
  {
   "cell_type": "markdown",
   "metadata": {},
   "source": [
    "### read data"
   ]
  },
  {
   "cell_type": "code",
   "execution_count": 4,
   "metadata": {},
   "outputs": [
    {
     "name": "stdout",
     "output_type": "stream",
     "text": [
      "训练集大小: 350\n",
      "测试集大小: 39\n"
     ]
    }
   ],
   "source": [
    "data_path = \"data/rdc_data_cleaned.csv\"\n",
    "x_train, x_test, y_train, y_test = load_and_split_data(\n",
    "    data_path, test_size=0.1, random_state=42\n",
    ")\n",
    "\n",
    "# 打印划分后的数据集大小\n",
    "print(\"训练集大小:\", len(x_train))\n",
    "print(\"测试集大小:\", len(x_test))"
   ]
  },
  {
   "cell_type": "markdown",
   "metadata": {},
   "source": [
    "# Native Supported"
   ]
  },
  {
   "cell_type": "markdown",
   "metadata": {},
   "source": [
    "## LinearRegression"
   ]
  },
  {
   "cell_type": "markdown",
   "metadata": {
    "notebookRunGroups": {
     "groupValue": "2"
    }
   },
   "source": [
    "### Normal LR"
   ]
  },
  {
   "cell_type": "code",
   "execution_count": 5,
   "metadata": {},
   "outputs": [
    {
     "data": {
      "text/html": [
       "<pre style=\"white-space:pre;overflow-x:auto;line-height:normal;font-family:Menlo,'DejaVu Sans Mono',consolas,'Courier New',monospace\"><span style=\"font-style: italic\">                    lr                    </span>\n",
       "┏━━━━━━━━━┯━━━━━━━━━┯━━━━━━━━━┯━━━━━━━━━━┓\n",
       "┃<span style=\"font-weight: bold\"> Feature </span>│<span style=\"font-weight: bold\"> MAE(Pa) </span>│<span style=\"font-weight: bold\">  MAPE   </span>│<span style=\"font-weight: bold\"> RMSE(Pa) </span>┃\n",
       "┠─────────┼─────────┼─────────┼──────────┨\n",
       "┃<span style=\"color: #7f7f7f; text-decoration-color: #7f7f7f\"> Airflow </span>│  83.55  │  9.21%  │  135.93  ┃\n",
       "┃<span style=\"color: #7f7f7f; text-decoration-color: #7f7f7f\"> Pres    </span>│  6.66   │ 708.61% │  10.05   ┃\n",
       "┗━━━━━━━━━┷━━━━━━━━━┷━━━━━━━━━┷━━━━━━━━━━┛\n",
       "</pre>\n"
      ],
      "text/plain": [
       "\u001b[3m                    lr                    \u001b[0m\n",
       "┏━━━━━━━━━┯━━━━━━━━━┯━━━━━━━━━┯━━━━━━━━━━┓\n",
       "┃\u001b[1m \u001b[0m\u001b[1mFeature\u001b[0m\u001b[1m \u001b[0m│\u001b[1m \u001b[0m\u001b[1mMAE(Pa)\u001b[0m\u001b[1m \u001b[0m│\u001b[1m \u001b[0m\u001b[1m MAPE  \u001b[0m\u001b[1m \u001b[0m│\u001b[1m \u001b[0m\u001b[1mRMSE(Pa)\u001b[0m\u001b[1m \u001b[0m┃\n",
       "┠─────────┼─────────┼─────────┼──────────┨\n",
       "┃\u001b[2m \u001b[0m\u001b[2mAirflow\u001b[0m\u001b[2m \u001b[0m│  83.55  │  9.21%  │  135.93  ┃\n",
       "┃\u001b[2m \u001b[0m\u001b[2mPres   \u001b[0m\u001b[2m \u001b[0m│  6.66   │ 708.61% │  10.05   ┃\n",
       "┗━━━━━━━━━┷━━━━━━━━━┷━━━━━━━━━┷━━━━━━━━━━┛\n"
      ]
     },
     "metadata": {},
     "output_type": "display_data"
    },
    {
     "data": {
      "text/html": [
       "<pre style=\"white-space:pre;overflow-x:auto;line-height:normal;font-family:Menlo,'DejaVu Sans Mono',consolas,'Courier New',monospace\"><span style=\"font-style: italic\">                                   lr-cv                                    </span>\n",
       "┏━━━━━━━━━━━━━━┳━━━━━━━━━┳━━━━━━━━━┳━━━━━━━━━┳━━━━━━━━━┳━━━━━━━━━┳━━━━━━━━━┓\n",
       "┃<span style=\"color: #c0c0c0; text-decoration-color: #c0c0c0; background-color: #000080; font-weight: bold\"> Metric       </span>┃<span style=\"color: #c0c0c0; text-decoration-color: #c0c0c0; background-color: #000080; font-weight: bold\"> Mean    </span>┃<span style=\"color: #c0c0c0; text-decoration-color: #c0c0c0; background-color: #000080; font-weight: bold\"> Fold 1  </span>┃<span style=\"color: #c0c0c0; text-decoration-color: #c0c0c0; background-color: #000080; font-weight: bold\"> Fold 2  </span>┃<span style=\"color: #c0c0c0; text-decoration-color: #c0c0c0; background-color: #000080; font-weight: bold\"> Fold 3  </span>┃<span style=\"color: #c0c0c0; text-decoration-color: #c0c0c0; background-color: #000080; font-weight: bold\"> Fold 4  </span>┃<span style=\"color: #c0c0c0; text-decoration-color: #c0c0c0; background-color: #000080; font-weight: bold\"> Fold 5  </span>┃\n",
       "┡━━━━━━━━━━━━━━╇━━━━━━━━━╇━━━━━━━━━╇━━━━━━━━━╇━━━━━━━━━╇━━━━━━━━━╇━━━━━━━━━┩\n",
       "│ score        │ -156.03 │ -139.98 │ -202.70 │ -122.58 │ -154.84 │ -153.20 │\n",
       "│ airflow_rmse │ -102.75 │ -95.88  │ -118.36 │ -89.10  │ -104.49 │ -103.23 │\n",
       "│ pres_rmse    │ -8.87   │ -8.88   │ -10.27  │ -8.17   │ -7.98   │ -9.06   │\n",
       "└──────────────┴─────────┴─────────┴─────────┴─────────┴─────────┴─────────┘\n",
       "</pre>\n"
      ],
      "text/plain": [
       "\u001b[3m                                   lr-cv                                    \u001b[0m\n",
       "┏━━━━━━━━━━━━━━┳━━━━━━━━━┳━━━━━━━━━┳━━━━━━━━━┳━━━━━━━━━┳━━━━━━━━━┳━━━━━━━━━┓\n",
       "┃\u001b[1;37;44m \u001b[0m\u001b[1;37;44mMetric      \u001b[0m\u001b[1;37;44m \u001b[0m┃\u001b[1;37;44m \u001b[0m\u001b[1;37;44mMean   \u001b[0m\u001b[1;37;44m \u001b[0m┃\u001b[1;37;44m \u001b[0m\u001b[1;37;44mFold 1 \u001b[0m\u001b[1;37;44m \u001b[0m┃\u001b[1;37;44m \u001b[0m\u001b[1;37;44mFold 2 \u001b[0m\u001b[1;37;44m \u001b[0m┃\u001b[1;37;44m \u001b[0m\u001b[1;37;44mFold 3 \u001b[0m\u001b[1;37;44m \u001b[0m┃\u001b[1;37;44m \u001b[0m\u001b[1;37;44mFold 4 \u001b[0m\u001b[1;37;44m \u001b[0m┃\u001b[1;37;44m \u001b[0m\u001b[1;37;44mFold 5 \u001b[0m\u001b[1;37;44m \u001b[0m┃\n",
       "┡━━━━━━━━━━━━━━╇━━━━━━━━━╇━━━━━━━━━╇━━━━━━━━━╇━━━━━━━━━╇━━━━━━━━━╇━━━━━━━━━┩\n",
       "│ score        │ -156.03 │ -139.98 │ -202.70 │ -122.58 │ -154.84 │ -153.20 │\n",
       "│ airflow_rmse │ -102.75 │ -95.88  │ -118.36 │ -89.10  │ -104.49 │ -103.23 │\n",
       "│ pres_rmse    │ -8.87   │ -8.88   │ -10.27  │ -8.17   │ -7.98   │ -9.06   │\n",
       "└──────────────┴─────────┴─────────┴─────────┴─────────┴─────────┴─────────┘\n"
      ]
     },
     "metadata": {},
     "output_type": "display_data"
    }
   ],
   "source": [
    "model_lr = LinearRegression().fit(x_train, y_train)\n",
    "calculate_metrics(model_lr.predict(x_test), y_test, print_metrics=True, title=\"lr\")\n",
    "model_lr = LinearRegression()\n",
    "cv_mthd = RepeatedKFold(n_splits=5, n_repeats=3, random_state=44)\n",
    "ccp_scoring = get_ccp_scoring()\n",
    "results = cross_validate(\n",
    "    model_lr, X=x_train, y=y_train, cv=cv_mthd, scoring=ccp_scoring\n",
    ")\n",
    "results\n",
    "print_results_table(results, ccp_scoring, title=\"lr-cv\")"
   ]
  },
  {
   "cell_type": "markdown",
   "metadata": {},
   "source": [
    "### Ridge"
   ]
  },
  {
   "cell_type": "code",
   "execution_count": 68,
   "metadata": {},
   "outputs": [
    {
     "data": {
      "text/html": [
       "<pre style=\"white-space:pre;overflow-x:auto;line-height:normal;font-family:Menlo,'DejaVu Sans Mono',consolas,'Courier New',monospace\"><span style=\"font-style: italic\">                 lr_ridge                 </span>\n",
       "┏━━━━━━━━━┯━━━━━━━━━┯━━━━━━━━━┯━━━━━━━━━━┓\n",
       "┃<span style=\"font-weight: bold\"> Feature </span>│<span style=\"font-weight: bold\"> MAE(Pa) </span>│<span style=\"font-weight: bold\">  MAPE   </span>│<span style=\"font-weight: bold\"> RMSE(Pa) </span>┃\n",
       "┠─────────┼─────────┼─────────┼──────────┨\n",
       "┃<span style=\"color: #7f7f7f; text-decoration-color: #7f7f7f\"> Airflow </span>│  83.54  │  9.21%  │  135.91  ┃\n",
       "┃<span style=\"color: #7f7f7f; text-decoration-color: #7f7f7f\"> Pres    </span>│  6.66   │ 708.75% │  10.05   ┃\n",
       "┗━━━━━━━━━┷━━━━━━━━━┷━━━━━━━━━┷━━━━━━━━━━┛\n",
       "</pre>\n"
      ],
      "text/plain": [
       "\u001b[3m                 lr_ridge                 \u001b[0m\n",
       "┏━━━━━━━━━┯━━━━━━━━━┯━━━━━━━━━┯━━━━━━━━━━┓\n",
       "┃\u001b[1m \u001b[0m\u001b[1mFeature\u001b[0m\u001b[1m \u001b[0m│\u001b[1m \u001b[0m\u001b[1mMAE(Pa)\u001b[0m\u001b[1m \u001b[0m│\u001b[1m \u001b[0m\u001b[1m MAPE  \u001b[0m\u001b[1m \u001b[0m│\u001b[1m \u001b[0m\u001b[1mRMSE(Pa)\u001b[0m\u001b[1m \u001b[0m┃\n",
       "┠─────────┼─────────┼─────────┼──────────┨\n",
       "┃\u001b[2m \u001b[0m\u001b[2mAirflow\u001b[0m\u001b[2m \u001b[0m│  83.54  │  9.21%  │  135.91  ┃\n",
       "┃\u001b[2m \u001b[0m\u001b[2mPres   \u001b[0m\u001b[2m \u001b[0m│  6.66   │ 708.75% │  10.05   ┃\n",
       "┗━━━━━━━━━┷━━━━━━━━━┷━━━━━━━━━┷━━━━━━━━━━┛\n"
      ]
     },
     "metadata": {},
     "output_type": "display_data"
    },
    {
     "data": {
      "text/html": [
       "<pre style=\"white-space:pre;overflow-x:auto;line-height:normal;font-family:Menlo,'DejaVu Sans Mono',consolas,'Courier New',monospace\"><span style=\"font-style: italic\">                                lr_ridge-cv                                 </span>\n",
       "┏━━━━━━━━━━━━━━┳━━━━━━━━━┳━━━━━━━━━┳━━━━━━━━━┳━━━━━━━━━┳━━━━━━━━━┳━━━━━━━━━┓\n",
       "┃<span style=\"color: #c0c0c0; text-decoration-color: #c0c0c0; background-color: #000080; font-weight: bold\"> Metric       </span>┃<span style=\"color: #c0c0c0; text-decoration-color: #c0c0c0; background-color: #000080; font-weight: bold\"> Mean    </span>┃<span style=\"color: #c0c0c0; text-decoration-color: #c0c0c0; background-color: #000080; font-weight: bold\"> Fold 1  </span>┃<span style=\"color: #c0c0c0; text-decoration-color: #c0c0c0; background-color: #000080; font-weight: bold\"> Fold 2  </span>┃<span style=\"color: #c0c0c0; text-decoration-color: #c0c0c0; background-color: #000080; font-weight: bold\"> Fold 3  </span>┃<span style=\"color: #c0c0c0; text-decoration-color: #c0c0c0; background-color: #000080; font-weight: bold\"> Fold 4  </span>┃<span style=\"color: #c0c0c0; text-decoration-color: #c0c0c0; background-color: #000080; font-weight: bold\"> Fold 5  </span>┃\n",
       "┡━━━━━━━━━━━━━━╇━━━━━━━━━╇━━━━━━━━━╇━━━━━━━━━╇━━━━━━━━━╇━━━━━━━━━╇━━━━━━━━━┩\n",
       "│ score        │ -156.02 │ -139.96 │ -202.69 │ -122.58 │ -154.84 │ -153.21 │\n",
       "│ airflow_rmse │ -102.75 │ -95.87  │ -118.36 │ -89.10  │ -104.49 │ -103.24 │\n",
       "│ pres_rmse    │ -8.87   │ -8.88   │ -10.27  │ -8.17   │ -7.98   │ -9.06   │\n",
       "└──────────────┴─────────┴─────────┴─────────┴─────────┴─────────┴─────────┘\n",
       "</pre>\n"
      ],
      "text/plain": [
       "\u001b[3m                                lr_ridge-cv                                 \u001b[0m\n",
       "┏━━━━━━━━━━━━━━┳━━━━━━━━━┳━━━━━━━━━┳━━━━━━━━━┳━━━━━━━━━┳━━━━━━━━━┳━━━━━━━━━┓\n",
       "┃\u001b[1;37;44m \u001b[0m\u001b[1;37;44mMetric      \u001b[0m\u001b[1;37;44m \u001b[0m┃\u001b[1;37;44m \u001b[0m\u001b[1;37;44mMean   \u001b[0m\u001b[1;37;44m \u001b[0m┃\u001b[1;37;44m \u001b[0m\u001b[1;37;44mFold 1 \u001b[0m\u001b[1;37;44m \u001b[0m┃\u001b[1;37;44m \u001b[0m\u001b[1;37;44mFold 2 \u001b[0m\u001b[1;37;44m \u001b[0m┃\u001b[1;37;44m \u001b[0m\u001b[1;37;44mFold 3 \u001b[0m\u001b[1;37;44m \u001b[0m┃\u001b[1;37;44m \u001b[0m\u001b[1;37;44mFold 4 \u001b[0m\u001b[1;37;44m \u001b[0m┃\u001b[1;37;44m \u001b[0m\u001b[1;37;44mFold 5 \u001b[0m\u001b[1;37;44m \u001b[0m┃\n",
       "┡━━━━━━━━━━━━━━╇━━━━━━━━━╇━━━━━━━━━╇━━━━━━━━━╇━━━━━━━━━╇━━━━━━━━━╇━━━━━━━━━┩\n",
       "│ score        │ -156.02 │ -139.96 │ -202.69 │ -122.58 │ -154.84 │ -153.21 │\n",
       "│ airflow_rmse │ -102.75 │ -95.87  │ -118.36 │ -89.10  │ -104.49 │ -103.24 │\n",
       "│ pres_rmse    │ -8.87   │ -8.88   │ -10.27  │ -8.17   │ -7.98   │ -9.06   │\n",
       "└──────────────┴─────────┴─────────┴─────────┴─────────┴─────────┴─────────┘\n"
      ]
     },
     "metadata": {},
     "output_type": "display_data"
    }
   ],
   "source": [
    "model_lr_ridge = Ridge(alpha=1.0).fit(x_train, y_train)\n",
    "calculate_metrics(\n",
    "    model_lr_ridge.predict(x_test), y_test, print_metrics=True, title=\"lr_ridge\"\n",
    ")\n",
    "model_lr_lasso = LinearRegression()\n",
    "cv_mthd = RepeatedKFold(n_splits=5, n_repeats=3, random_state=44)\n",
    "ccp_scoring = get_ccp_scoring()\n",
    "results = cross_validate(\n",
    "    model_lr_ridge, X=x_train, y=y_train, cv=cv_mthd, scoring=ccp_scoring\n",
    ")\n",
    "results\n",
    "print_results_table(results, ccp_scoring, title=\"lr_ridge-cv\")"
   ]
  },
  {
   "cell_type": "markdown",
   "metadata": {},
   "source": [
    "### Lasso"
   ]
  },
  {
   "cell_type": "code",
   "execution_count": null,
   "metadata": {},
   "outputs": [],
   "source": [
    "model_lr_lasso = Lasso(alpha=1.0).fit(x_train, y_train)\n",
    "calculate_metrics(\n",
    "    model_lr_lasso.predict(x_test), y_test, print_metrics=True, title=\"lr_lasso\"\n",
    ")\n",
    "model_lr_lasso = LinearRegression()\n",
    "cv_mthd = RepeatedKFold(n_splits=5, n_repeats=3, random_state=44)\n",
    "ccp_scoring = get_ccp_scoring()\n",
    "results = cross_validate(\n",
    "    model_lr_lasso, X=x_train, y=y_train, cv=cv_mthd, scoring=ccp_scoring\n",
    ")\n",
    "results\n",
    "print_results_table(results, ccp_scoring, title=\"lr_lasso-cv\")"
   ]
  },
  {
   "cell_type": "markdown",
   "metadata": {},
   "source": [
    "### ElasticNet"
   ]
  },
  {
   "cell_type": "code",
   "execution_count": null,
   "metadata": {},
   "outputs": [],
   "source": [
    "model_lr_ElasticNet = ElasticNet(alpha=1.0, l1_ratio=0.5).fit(x_train, y_train)\n",
    "calculate_metrics(\n",
    "    model_lr_ElasticNet.predict(x_test),\n",
    "    y_test,\n",
    "    print_metrics=True,\n",
    "    title=\"lr_ElasticNet\",\n",
    ")\n",
    "model_lr_ElasticNet = LinearRegression()\n",
    "cv_mthd = RepeatedKFold(n_splits=5, n_repeats=3, random_state=44)\n",
    "ccp_scoring = get_ccp_scoring()\n",
    "results = cross_validate(\n",
    "    model_lr_ElasticNet, X=x_train, y=y_train, cv=cv_mthd, scoring=ccp_scoring\n",
    ")\n",
    "results\n",
    "print_results_table(results, ccp_scoring, title=\"lr_ElasticNet-cv\")"
   ]
  },
  {
   "cell_type": "markdown",
   "metadata": {},
   "source": [
    "### Grid for all LR"
   ]
  },
  {
   "cell_type": "code",
   "execution_count": 66,
   "metadata": {},
   "outputs": [
    {
     "name": "stdout",
     "output_type": "stream",
     "text": [
      "===============================================\n",
      "Training LinearRegression... \n",
      "--------------------------------------------------------------------------------\n",
      "Fitting 5 folds for each of 1 candidates, totalling 5 fits\n"
     ]
    },
    {
     "data": {
      "text/html": [
       "<pre style=\"white-space:pre;overflow-x:auto;line-height:normal;font-family:Menlo,'DejaVu Sans Mono',consolas,'Courier New',monospace\"><span style=\"font-style: italic\">             LinearRegression             </span>\n",
       "┏━━━━━━━━━┯━━━━━━━━━┯━━━━━━━━━┯━━━━━━━━━━┓\n",
       "┃<span style=\"font-weight: bold\"> Feature </span>│<span style=\"font-weight: bold\"> MAE(Pa) </span>│<span style=\"font-weight: bold\">  MAPE   </span>│<span style=\"font-weight: bold\"> RMSE(Pa) </span>┃\n",
       "┠─────────┼─────────┼─────────┼──────────┨\n",
       "┃<span style=\"color: #7f7f7f; text-decoration-color: #7f7f7f\"> Airflow </span>│  83.55  │  9.21%  │  135.93  ┃\n",
       "┃<span style=\"color: #7f7f7f; text-decoration-color: #7f7f7f\"> Pres    </span>│  6.66   │ 708.61% │  10.05   ┃\n",
       "┗━━━━━━━━━┷━━━━━━━━━┷━━━━━━━━━┷━━━━━━━━━━┛\n",
       "</pre>\n"
      ],
      "text/plain": [
       "\u001b[3m             LinearRegression             \u001b[0m\n",
       "┏━━━━━━━━━┯━━━━━━━━━┯━━━━━━━━━┯━━━━━━━━━━┓\n",
       "┃\u001b[1m \u001b[0m\u001b[1mFeature\u001b[0m\u001b[1m \u001b[0m│\u001b[1m \u001b[0m\u001b[1mMAE(Pa)\u001b[0m\u001b[1m \u001b[0m│\u001b[1m \u001b[0m\u001b[1m MAPE  \u001b[0m\u001b[1m \u001b[0m│\u001b[1m \u001b[0m\u001b[1mRMSE(Pa)\u001b[0m\u001b[1m \u001b[0m┃\n",
       "┠─────────┼─────────┼─────────┼──────────┨\n",
       "┃\u001b[2m \u001b[0m\u001b[2mAirflow\u001b[0m\u001b[2m \u001b[0m│  83.55  │  9.21%  │  135.93  ┃\n",
       "┃\u001b[2m \u001b[0m\u001b[2mPres   \u001b[0m\u001b[2m \u001b[0m│  6.66   │ 708.61% │  10.05   ┃\n",
       "┗━━━━━━━━━┷━━━━━━━━━┷━━━━━━━━━┷━━━━━━━━━━┛\n"
      ]
     },
     "metadata": {},
     "output_type": "display_data"
    },
    {
     "name": "stdout",
     "output_type": "stream",
     "text": [
      "Best Parameters for LinearRegression : {}\n",
      "Best Score for LinearRegression : -8.74886633048528\n",
      "===============================================\n",
      "\n",
      "\n",
      "===============================================\n",
      "Training Ridge... \n",
      "--------------------------------------------------------------------------------\n",
      "Fitting 5 folds for each of 1 candidates, totalling 5 fits\n"
     ]
    },
    {
     "data": {
      "text/html": [
       "<pre style=\"white-space:pre;overflow-x:auto;line-height:normal;font-family:Menlo,'DejaVu Sans Mono',consolas,'Courier New',monospace\"><span style=\"font-style: italic\">                  Ridge                   </span>\n",
       "┏━━━━━━━━━┯━━━━━━━━━┯━━━━━━━━━┯━━━━━━━━━━┓\n",
       "┃<span style=\"font-weight: bold\"> Feature </span>│<span style=\"font-weight: bold\"> MAE(Pa) </span>│<span style=\"font-weight: bold\">  MAPE   </span>│<span style=\"font-weight: bold\"> RMSE(Pa) </span>┃\n",
       "┠─────────┼─────────┼─────────┼──────────┨\n",
       "┃<span style=\"color: #7f7f7f; text-decoration-color: #7f7f7f\"> Airflow </span>│  83.51  │  9.23%  │  135.75  ┃\n",
       "┃<span style=\"color: #7f7f7f; text-decoration-color: #7f7f7f\"> Pres    </span>│  6.66   │ 709.66% │  10.05   ┃\n",
       "┗━━━━━━━━━┷━━━━━━━━━┷━━━━━━━━━┷━━━━━━━━━━┛\n",
       "</pre>\n"
      ],
      "text/plain": [
       "\u001b[3m                  Ridge                   \u001b[0m\n",
       "┏━━━━━━━━━┯━━━━━━━━━┯━━━━━━━━━┯━━━━━━━━━━┓\n",
       "┃\u001b[1m \u001b[0m\u001b[1mFeature\u001b[0m\u001b[1m \u001b[0m│\u001b[1m \u001b[0m\u001b[1mMAE(Pa)\u001b[0m\u001b[1m \u001b[0m│\u001b[1m \u001b[0m\u001b[1m MAPE  \u001b[0m\u001b[1m \u001b[0m│\u001b[1m \u001b[0m\u001b[1mRMSE(Pa)\u001b[0m\u001b[1m \u001b[0m┃\n",
       "┠─────────┼─────────┼─────────┼──────────┨\n",
       "┃\u001b[2m \u001b[0m\u001b[2mAirflow\u001b[0m\u001b[2m \u001b[0m│  83.51  │  9.23%  │  135.75  ┃\n",
       "┃\u001b[2m \u001b[0m\u001b[2mPres   \u001b[0m\u001b[2m \u001b[0m│  6.66   │ 709.66% │  10.05   ┃\n",
       "┗━━━━━━━━━┷━━━━━━━━━┷━━━━━━━━━┷━━━━━━━━━━┛\n"
      ]
     },
     "metadata": {},
     "output_type": "display_data"
    },
    {
     "name": "stdout",
     "output_type": "stream",
     "text": [
      "Best Parameters for Ridge : {'alpha': 7.58}\n",
      "Best Score for Ridge : -8.748390077075655\n",
      "===============================================\n",
      "\n",
      "\n",
      "===============================================\n",
      "Training Lasso... \n",
      "--------------------------------------------------------------------------------\n",
      "Fitting 5 folds for each of 1 candidates, totalling 5 fits\n"
     ]
    },
    {
     "data": {
      "text/html": [
       "<pre style=\"white-space:pre;overflow-x:auto;line-height:normal;font-family:Menlo,'DejaVu Sans Mono',consolas,'Courier New',monospace\"><span style=\"font-style: italic\">                  Lasso                   </span>\n",
       "┏━━━━━━━━━┯━━━━━━━━━┯━━━━━━━━━┯━━━━━━━━━━┓\n",
       "┃<span style=\"font-weight: bold\"> Feature </span>│<span style=\"font-weight: bold\"> MAE(Pa) </span>│<span style=\"font-weight: bold\">  MAPE   </span>│<span style=\"font-weight: bold\"> RMSE(Pa) </span>┃\n",
       "┠─────────┼─────────┼─────────┼──────────┨\n",
       "┃<span style=\"color: #7f7f7f; text-decoration-color: #7f7f7f\"> Airflow </span>│  83.54  │  9.21%  │  135.91  ┃\n",
       "┃<span style=\"color: #7f7f7f; text-decoration-color: #7f7f7f\"> Pres    </span>│  6.65   │ 711.50% │  10.03   ┃\n",
       "┗━━━━━━━━━┷━━━━━━━━━┷━━━━━━━━━┷━━━━━━━━━━┛\n",
       "</pre>\n"
      ],
      "text/plain": [
       "\u001b[3m                  Lasso                   \u001b[0m\n",
       "┏━━━━━━━━━┯━━━━━━━━━┯━━━━━━━━━┯━━━━━━━━━━┓\n",
       "┃\u001b[1m \u001b[0m\u001b[1mFeature\u001b[0m\u001b[1m \u001b[0m│\u001b[1m \u001b[0m\u001b[1mMAE(Pa)\u001b[0m\u001b[1m \u001b[0m│\u001b[1m \u001b[0m\u001b[1m MAPE  \u001b[0m\u001b[1m \u001b[0m│\u001b[1m \u001b[0m\u001b[1mRMSE(Pa)\u001b[0m\u001b[1m \u001b[0m┃\n",
       "┠─────────┼─────────┼─────────┼──────────┨\n",
       "┃\u001b[2m \u001b[0m\u001b[2mAirflow\u001b[0m\u001b[2m \u001b[0m│  83.54  │  9.21%  │  135.91  ┃\n",
       "┃\u001b[2m \u001b[0m\u001b[2mPres   \u001b[0m\u001b[2m \u001b[0m│  6.65   │ 711.50% │  10.03   ┃\n",
       "┗━━━━━━━━━┷━━━━━━━━━┷━━━━━━━━━┷━━━━━━━━━━┛\n"
      ]
     },
     "metadata": {},
     "output_type": "display_data"
    },
    {
     "name": "stdout",
     "output_type": "stream",
     "text": [
      "Best Parameters for Lasso : {'alpha': 0.15}\n",
      "Best Score for Lasso : -8.748377796967883\n",
      "===============================================\n",
      "\n",
      "\n",
      "===============================================\n",
      "Training ElasticNet... \n",
      "--------------------------------------------------------------------------------\n",
      "Fitting 5 folds for each of 5 candidates, totalling 25 fits\n"
     ]
    },
    {
     "data": {
      "text/html": [
       "<pre style=\"white-space:pre;overflow-x:auto;line-height:normal;font-family:Menlo,'DejaVu Sans Mono',consolas,'Courier New',monospace\"><span style=\"font-style: italic\">                ElasticNet                </span>\n",
       "┏━━━━━━━━━┯━━━━━━━━━┯━━━━━━━━━┯━━━━━━━━━━┓\n",
       "┃<span style=\"font-weight: bold\"> Feature </span>│<span style=\"font-weight: bold\"> MAE(Pa) </span>│<span style=\"font-weight: bold\">  MAPE   </span>│<span style=\"font-weight: bold\"> RMSE(Pa) </span>┃\n",
       "┠─────────┼─────────┼─────────┼──────────┨\n",
       "┃<span style=\"color: #7f7f7f; text-decoration-color: #7f7f7f\"> Airflow </span>│  83.97  │  9.88%  │  130.69  ┃\n",
       "┃<span style=\"color: #7f7f7f; text-decoration-color: #7f7f7f\"> Pres    </span>│  6.63   │ 736.11% │   9.87   ┃\n",
       "┗━━━━━━━━━┷━━━━━━━━━┷━━━━━━━━━┷━━━━━━━━━━┛\n",
       "</pre>\n"
      ],
      "text/plain": [
       "\u001b[3m                ElasticNet                \u001b[0m\n",
       "┏━━━━━━━━━┯━━━━━━━━━┯━━━━━━━━━┯━━━━━━━━━━┓\n",
       "┃\u001b[1m \u001b[0m\u001b[1mFeature\u001b[0m\u001b[1m \u001b[0m│\u001b[1m \u001b[0m\u001b[1mMAE(Pa)\u001b[0m\u001b[1m \u001b[0m│\u001b[1m \u001b[0m\u001b[1m MAPE  \u001b[0m\u001b[1m \u001b[0m│\u001b[1m \u001b[0m\u001b[1mRMSE(Pa)\u001b[0m\u001b[1m \u001b[0m┃\n",
       "┠─────────┼─────────┼─────────┼──────────┨\n",
       "┃\u001b[2m \u001b[0m\u001b[2mAirflow\u001b[0m\u001b[2m \u001b[0m│  83.97  │  9.88%  │  130.69  ┃\n",
       "┃\u001b[2m \u001b[0m\u001b[2mPres   \u001b[0m\u001b[2m \u001b[0m│  6.63   │ 736.11% │   9.87   ┃\n",
       "┗━━━━━━━━━┷━━━━━━━━━┷━━━━━━━━━┷━━━━━━━━━━┛\n"
      ]
     },
     "metadata": {},
     "output_type": "display_data"
    },
    {
     "name": "stdout",
     "output_type": "stream",
     "text": [
      "Best Parameters for ElasticNet : {'alpha': 1, 'l1_ratio': 0.01}\n",
      "Best Score for ElasticNet : -8.82999089564154\n",
      "===============================================\n",
      "\n",
      "\n"
     ]
    }
   ],
   "source": [
    "lr_param_grid = {\n",
    "    \"LinearRegression\": {},\n",
    "    \"Ridge\": {\"alpha\": [7.58]},  # 7.58\n",
    "    \"Lasso\": {\"alpha\": [0.15]},  # 0.15\n",
    "    \"ElasticNet\": {\n",
    "        \"alpha\": [1],  # 0.12\n",
    "        \"l1_ratio\": [round(x, 5) for x in np.linspace(0.01, 0.99, 5)],  # 0.89\n",
    "    },\n",
    "}\n",
    "\n",
    "lr_models = {\n",
    "    \"LinearRegression\": LinearRegression(),\n",
    "    \"Ridge\": Ridge(max_iter=30000),\n",
    "    \"Lasso\": Lasso(max_iter=30000),\n",
    "    \"ElasticNet\": ElasticNet(),\n",
    "}\n",
    "\n",
    "for model_name, model in lr_models.items():\n",
    "    print(\"=\" * 47)\n",
    "    print(f\"Training {model_name}... \")\n",
    "    print(\"-\" * 80)\n",
    "    grid_search = GridSearchCV(\n",
    "        model,\n",
    "        param_grid=lr_param_grid[model_name],\n",
    "        scoring=get_ccp_scoring(),\n",
    "        refit=\"pres_rmse\",\n",
    "        cv=KFold(n_splits=5, shuffle=True, random_state=42),\n",
    "        verbose=1,\n",
    "        n_jobs=1,\n",
    "    )\n",
    "    grid_search.fit(x_train, y_train)\n",
    "    calculate_metrics(\n",
    "        grid_search.best_estimator_.predict(x_test),\n",
    "        y_test,\n",
    "        print_metrics=True,\n",
    "        title=model_name,\n",
    "    )\n",
    "    print(\"Best Parameters for\", model_name, \":\", grid_search.best_params_)\n",
    "    print(\"Best Score for\", model_name, \":\", grid_search.best_score_)\n",
    "    print(\"=\" * 47 + \"\\n\" * 2)"
   ]
  },
  {
   "cell_type": "markdown",
   "metadata": {},
   "source": [
    "## KNeighborsRegressor"
   ]
  },
  {
   "cell_type": "markdown",
   "metadata": {},
   "source": [
    "### one-shot training"
   ]
  },
  {
   "cell_type": "code",
   "execution_count": null,
   "metadata": {},
   "outputs": [],
   "source": [
    "_model = KNeighborsRegressor().fit(x_train, y_train)\n",
    "_y_pred = _model.predict(x_test)\n",
    "calculate_metrics(_y_pred, y_test, print_metrics=True)"
   ]
  },
  {
   "cell_type": "markdown",
   "metadata": {},
   "source": [
    "### cross validation"
   ]
  },
  {
   "cell_type": "code",
   "execution_count": null,
   "metadata": {},
   "outputs": [],
   "source": [
    "_model = KNeighborsRegressor()\n",
    "\n",
    "cv_mthd = RepeatedKFold(n_splits=5, n_repeats=3, random_state=44)\n",
    "ccp_scoring = get_ccp_scoring()\n",
    "results = cross_validate(_model, X=x_train, y=y_train, cv=cv_mthd, scoring=ccp_scoring)\n",
    "print_results_table(results, ccp_scoring)"
   ]
  },
  {
   "cell_type": "markdown",
   "metadata": {},
   "source": [
    "## Random Forest"
   ]
  },
  {
   "cell_type": "markdown",
   "metadata": {},
   "source": [
    "### one-shot training"
   ]
  },
  {
   "cell_type": "code",
   "execution_count": null,
   "metadata": {},
   "outputs": [],
   "source": [
    "_model = RandomForestRegressor()\n",
    "_model.fit(x_train, y_train)\n",
    "_y_pred = _model.predict(x_test)\n",
    "calculate_metrics(_y_pred, y_test, print_metrics=True)"
   ]
  },
  {
   "cell_type": "markdown",
   "metadata": {},
   "source": [
    "### cross validation"
   ]
  },
  {
   "cell_type": "code",
   "execution_count": null,
   "metadata": {},
   "outputs": [],
   "source": [
    "_model = RandomForestRegressor()\n",
    "cv_mthd = RepeatedKFold(n_splits=5, n_repeats=3, random_state=44)\n",
    "ccp_scoring = get_ccp_scoring()\n",
    "results = cross_validate(_model, X=x_train, y=y_train, cv=cv_mthd, scoring=ccp_scoring)\n",
    "print_results_table(results, ccp_scoring)"
   ]
  },
  {
   "cell_type": "markdown",
   "metadata": {},
   "source": [
    "## Desicion Tree"
   ]
  },
  {
   "cell_type": "markdown",
   "metadata": {},
   "source": [
    "### one-shot training"
   ]
  },
  {
   "cell_type": "code",
   "execution_count": null,
   "metadata": {},
   "outputs": [],
   "source": [
    "_model = DecisionTreeRegressor()\n",
    "_model.fit(x_train, y_train)\n",
    "_y_pred = _model.predict(x_test)\n",
    "calculate_metrics(_y_pred, y_test, print_metrics=True)"
   ]
  },
  {
   "cell_type": "markdown",
   "metadata": {},
   "source": [
    "### cross validation"
   ]
  },
  {
   "cell_type": "code",
   "execution_count": null,
   "metadata": {},
   "outputs": [],
   "source": [
    "_model = DecisionTreeRegressor()\n",
    "\n",
    "cv_mthd = RepeatedKFold(n_splits=5, n_repeats=3, random_state=44)\n",
    "ccp_scoring = get_ccp_scoring()\n",
    "results = cross_validate(_model, X=x_train, y=y_train, cv=cv_mthd, scoring=ccp_scoring)\n",
    "print_results_table(results, ccp_scoring)"
   ]
  },
  {
   "cell_type": "markdown",
   "metadata": {},
   "source": [
    "# MultiOutputRegressor wrapped"
   ]
  },
  {
   "cell_type": "markdown",
   "metadata": {},
   "source": [
    "## LinerSVR"
   ]
  },
  {
   "cell_type": "code",
   "execution_count": null,
   "metadata": {},
   "outputs": [],
   "source": [
    "from sklearn.svm import LinearSVR\n",
    "from sklearn.multioutput import MultiOutputRegressor\n",
    "\n",
    "_model = LinearSVR()\n",
    "_model = MultiOutputRegressor(_model)\n",
    "# fit model\n",
    "_model.fit(x_train, y_train)\n",
    "_y_pred = _model.predict(x_test)\n",
    "calculate_metrics(_y_pred, y_test, print_metrics=True)"
   ]
  },
  {
   "cell_type": "markdown",
   "metadata": {},
   "source": [
    "### cross validation"
   ]
  },
  {
   "cell_type": "code",
   "execution_count": null,
   "metadata": {},
   "outputs": [],
   "source": [
    "_model = MultiOutputRegressor(LinearSVR())\n",
    "\n",
    "cv_mthd = RepeatedKFold(n_splits=5, n_repeats=3, random_state=44)\n",
    "ccp_scoring = get_ccp_scoring()\n",
    "results = cross_validate(_model, X=x_train, y=y_train, cv=cv_mthd, scoring=ccp_scoring)\n",
    "print_results_table(results, ccp_scoring)"
   ]
  },
  {
   "cell_type": "markdown",
   "metadata": {},
   "source": [
    "# RegressorChain wrapped"
   ]
  },
  {
   "cell_type": "markdown",
   "metadata": {},
   "source": [
    "## LinerSVR"
   ]
  },
  {
   "cell_type": "code",
   "execution_count": null,
   "metadata": {},
   "outputs": [],
   "source": [
    "from sklearn.svm import LinearSVR\n",
    "from sklearn.multioutput import RegressorChain\n",
    "\n",
    "_model = LinearSVR()\n",
    "_model = RegressorChain(_model)\n",
    "# fit model\n",
    "_model.fit(x_train, y_train)\n",
    "_y_pred = _model.predict(x_test)\n",
    "calculate_metrics(_y_pred, y_test, print_metrics=True)"
   ]
  }
 ],
 "metadata": {
  "kernelspec": {
   "display_name": "Python 3 (ipykernel)",
   "language": "python",
   "name": "python3"
  },
  "language_info": {
   "codemirror_mode": {
    "name": "ipython",
    "version": 3
   },
   "file_extension": ".py",
   "mimetype": "text/x-python",
   "name": "python",
   "nbconvert_exporter": "python",
   "pygments_lexer": "ipython3",
   "version": "3.10.11"
  },
  "toc-autonumbering": true,
  "toc-showcode": false,
  "toc-showtags": false
 },
 "nbformat": 4,
 "nbformat_minor": 4
}
