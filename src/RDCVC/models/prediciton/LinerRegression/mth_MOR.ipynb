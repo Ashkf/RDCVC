{
 "cells": [
  {
   "cell_type": "markdown",
   "metadata": {},
   "source": [
    "# MultiOutputRegressor\n",
    "\n",
    "test the performance of the classical ML algorithms on the CleanRoom prediction problem\n",
    "\n",
    "**baseline**: predict the mean value of the test data\n",
    "\n",
    "**Linear Models**:\n",
    "\n",
    "1. LinearRegression: simple\n",
    "2. Ridge: 使用 L2 正则化的线性回归模型，可以减小模型的复杂度。\n",
    "3. Lasso：使用 L1 正则化的线性回归模型，可以增加稀疏性，适用于特征选择。\n",
    "4. ElasticNet：结合 L1 和 L2 正则化的线性回归模型，综合了 Ridge 和 Lasso 的优势。\n",
    "\n",
    "**K-neighbors**：（K 最近邻回归）根据最接近的 K 个邻居的目标值来进行回归预测。\n",
    "\n",
    "**SVM**: SVR（支持向量回归）：使用支持向量机的回归版本，通过找到一个最优超平面来建立回归模型。\n",
    "\n",
    "**MLP**：（多层感知器）使用多层神经网络进行回归任务。\n",
    "\n",
    "**GaussianProcessRegressor**：（高斯过程回归）使用高斯过程建立回归模型，可以估计预测的不确定性。\n",
    "\n",
    "**Tree Models**:\n",
    "\n",
    " 1. DecisionTreeRegressor：基于决策树的回归模型，通过划分特征空间来建立回归模型。\n",
    " 2. RandomForestRegressor（随机森林回归）：基于决策树的集成学习方法，\n",
    "         通过随机特征选择和样本采样来建立回归模型。\n",
    " 3. AdaBoostRegressor：基于自适应增强的回归模型，通过迭代训练弱回归模型来建立强大的回归模型。\n",
    " 4. GradientBoostingRegressor（梯度提升回归）：基于梯度提升树的集成学习方法，\n",
    "         通过迭代训练弱回归模型来建立强大的回归模型。\n",
    " 5. BaggingRegressor: 基于袋装方法的回归模型，通过自助采样和平均预测结果来建立回归模型。\n",
    " 6. ExtraTreesRegressor（极端随机森林回归）：在随机森林中进一步随机化特征和划分点的回归模型。\n",
    " 7. HistGradientBoostingRegressor（直方图梯度提升回归）：基于直方图加速的梯度提升回归模型，具有更快的训练速度。\n",
    " 8. XGBRegressor：基于梯度提升树的回归模型，具有高效的训练和预测性能。\n",
    " 9. LightGBMRegressor：基于梯度提升树的回归模型，具有快速训练速度和高准确性。\n",
    " 10. CatBoostRegressor: 基于梯度提升树的回归模型，具有处理分类和回归任务的能力。\n"
   ]
  },
  {
   "cell_type": "code",
   "execution_count": 1,
   "metadata": {
    "notebookRunGroups": {
     "groupValue": ""
    },
    "tags": []
   },
   "outputs": [],
   "source": [
    "import matplotlib.pyplot as plt\n",
    "import numpy as np\n",
    "import pandas as pd\n",
    "from sklearn.linear_model import LinearRegression, Ridge, Lasso, ElasticNet\n",
    "from sklearn.model_selection import RepeatedKFold, cross_validate, GridSearchCV, KFold\n",
    "from sklearn.neighbors import KNeighborsRegressor\n",
    "from sklearn.ensemble import RandomForestRegressor\n",
    "from sklearn.tree import DecisionTreeRegressor\n",
    "\n",
    "from utils.metrics import calculate_metrics, get_ccp_scoring, print_results_table\n",
    "from utils.datasets import load_and_split_data"
   ]
  },
  {
   "cell_type": "code",
   "execution_count": 2,
   "metadata": {},
   "outputs": [
    {
     "name": "stdout",
     "output_type": "stream",
     "text": [
      "/workspace/src/RDCVC\n"
     ]
    }
   ],
   "source": [
    "!pwd"
   ]
  },
  {
   "cell_type": "code",
   "execution_count": 3,
   "metadata": {
    "tags": []
   },
   "outputs": [],
   "source": [
    "# 设置显示中文字体\n",
    "from pylab import mpl\n",
    "\n",
    "mpl.rcParams[\"font.sans-serif\"] = [\"SimHei\"]\n",
    "# 设置正常显示符号\n",
    "mpl.rcParams[\"axes.unicode_minus\"] = False"
   ]
  },
  {
   "cell_type": "markdown",
   "metadata": {},
   "source": [
    "## Data"
   ]
  },
  {
   "cell_type": "markdown",
   "metadata": {},
   "source": [
    "### read data"
   ]
  },
  {
   "cell_type": "code",
   "execution_count": 3,
   "metadata": {},
   "outputs": [
    {
     "name": "stdout",
     "output_type": "stream",
     "text": [
      "训练集大小: 350\n",
      "测试集大小: 39\n"
     ]
    }
   ],
   "source": [
    "data_path = \"../../data/processed/rdc_data_cleaned.csv\"\n",
    "x_train, x_test, y_train, y_test = load_and_split_data(\n",
    "    data_path, test_size=0.1, random_state=42\n",
    ")\n",
    "\n",
    "# 打印划分后的数据集大小\n",
    "print(\"训练集大小:\", len(x_train))\n",
    "print(\"测试集大小:\", len(x_test))"
   ]
  },
  {
   "cell_type": "markdown",
   "metadata": {},
   "source": [
    "# Native Supported"
   ]
  },
  {
   "cell_type": "markdown",
   "metadata": {},
   "source": [
    "## LinearRegression"
   ]
  },
  {
   "cell_type": "markdown",
   "metadata": {
    "notebookRunGroups": {
     "groupValue": "2"
    }
   },
   "source": [
    "### Normal LR"
   ]
  },
  {
   "cell_type": "code",
   "execution_count": 114,
   "metadata": {},
   "outputs": [
    {
     "data": {
      "text/html": [
       "<pre style=\"white-space:pre;overflow-x:auto;line-height:normal;font-family:Menlo,'DejaVu Sans Mono',consolas,'Courier New',monospace\"><span style=\"font-style: italic\">                    lr                    </span>\n",
       "┏━━━━━━━━━┯━━━━━━━━━┯━━━━━━━━━┯━━━━━━━━━━┓\n",
       "┃<span style=\"font-weight: bold\"> Feature </span>│<span style=\"font-weight: bold\"> MAE(Pa) </span>│<span style=\"font-weight: bold\">  MAPE   </span>│<span style=\"font-weight: bold\"> RMSE(Pa) </span>┃\n",
       "┠─────────┼─────────┼─────────┼──────────┨\n",
       "┃<span style=\"color: #7f7f7f; text-decoration-color: #7f7f7f\"> Airflow </span>│  83.55  │  9.21%  │  135.93  ┃\n",
       "┃<span style=\"color: #7f7f7f; text-decoration-color: #7f7f7f\"> Pres    </span>│  6.66   │ 708.61% │  10.05   ┃\n",
       "┗━━━━━━━━━┷━━━━━━━━━┷━━━━━━━━━┷━━━━━━━━━━┛\n",
       "</pre>\n"
      ],
      "text/plain": [
       "\u001b[3m                    lr                    \u001b[0m\n",
       "┏━━━━━━━━━┯━━━━━━━━━┯━━━━━━━━━┯━━━━━━━━━━┓\n",
       "┃\u001b[1m \u001b[0m\u001b[1mFeature\u001b[0m\u001b[1m \u001b[0m│\u001b[1m \u001b[0m\u001b[1mMAE(Pa)\u001b[0m\u001b[1m \u001b[0m│\u001b[1m \u001b[0m\u001b[1m MAPE  \u001b[0m\u001b[1m \u001b[0m│\u001b[1m \u001b[0m\u001b[1mRMSE(Pa)\u001b[0m\u001b[1m \u001b[0m┃\n",
       "┠─────────┼─────────┼─────────┼──────────┨\n",
       "┃\u001b[2m \u001b[0m\u001b[2mAirflow\u001b[0m\u001b[2m \u001b[0m│  83.55  │  9.21%  │  135.93  ┃\n",
       "┃\u001b[2m \u001b[0m\u001b[2mPres   \u001b[0m\u001b[2m \u001b[0m│  6.66   │ 708.61% │  10.05   ┃\n",
       "┗━━━━━━━━━┷━━━━━━━━━┷━━━━━━━━━┷━━━━━━━━━━┛\n"
      ]
     },
     "metadata": {},
     "output_type": "display_data"
    },
    {
     "data": {
      "text/html": [
       "<pre style=\"white-space:pre;overflow-x:auto;line-height:normal;font-family:Menlo,'DejaVu Sans Mono',consolas,'Courier New',monospace\"><span style=\"font-style: italic\">                                    lr-cv                                    </span>\n",
       "┏━━━━━━━━━━━━━━┳━━━━━━━━━┳━━━━━━━━━┳━━━━━━━━━┳━━━━━━━━━┳━━━━━━━━━━┳━━━━━━━━━┓\n",
       "┃<span style=\"color: #c0c0c0; text-decoration-color: #c0c0c0; background-color: #000080; font-weight: bold\"> Metric       </span>┃<span style=\"color: #c0c0c0; text-decoration-color: #c0c0c0; background-color: #000080; font-weight: bold\"> Mean    </span>┃<span style=\"color: #c0c0c0; text-decoration-color: #c0c0c0; background-color: #000080; font-weight: bold\"> Fold 1  </span>┃<span style=\"color: #c0c0c0; text-decoration-color: #c0c0c0; background-color: #000080; font-weight: bold\"> Fold 2  </span>┃<span style=\"color: #c0c0c0; text-decoration-color: #c0c0c0; background-color: #000080; font-weight: bold\"> Fold 3  </span>┃<span style=\"color: #c0c0c0; text-decoration-color: #c0c0c0; background-color: #000080; font-weight: bold\"> Fold 4   </span>┃<span style=\"color: #c0c0c0; text-decoration-color: #c0c0c0; background-color: #000080; font-weight: bold\"> Fold 5  </span>┃\n",
       "┡━━━━━━━━━━━━━━╇━━━━━━━━━╇━━━━━━━━━╇━━━━━━━━━╇━━━━━━━━━╇━━━━━━━━━━╇━━━━━━━━━┩\n",
       "│ score        │ -600.36 │ -567.30 │ -565.50 │ -523.35 │ -1056.83 │ -426.55 │\n",
       "│ airflow_mae  │ -74.10  │ -69.80  │ -71.98  │ -72.06  │ -91.83   │ -68.08  │\n",
       "│ airflow_rmse │ -100.97 │ -98.54  │ -101.33 │ -94.28  │ -138.57  │ -86.19  │\n",
       "│ pres_mae     │ -6.44   │ -6.11   │ -5.34   │ -7.08   │ -7.85    │ -6.43   │\n",
       "│ pres_rmse    │ -8.65   │ -8.01   │ -8.06   │ -9.28   │ -11.89   │ -8.05   │\n",
       "└──────────────┴─────────┴─────────┴─────────┴─────────┴──────────┴─────────┘\n",
       "</pre>\n"
      ],
      "text/plain": [
       "\u001b[3m                                    lr-cv                                    \u001b[0m\n",
       "┏━━━━━━━━━━━━━━┳━━━━━━━━━┳━━━━━━━━━┳━━━━━━━━━┳━━━━━━━━━┳━━━━━━━━━━┳━━━━━━━━━┓\n",
       "┃\u001b[1;37;44m \u001b[0m\u001b[1;37;44mMetric      \u001b[0m\u001b[1;37;44m \u001b[0m┃\u001b[1;37;44m \u001b[0m\u001b[1;37;44mMean   \u001b[0m\u001b[1;37;44m \u001b[0m┃\u001b[1;37;44m \u001b[0m\u001b[1;37;44mFold 1 \u001b[0m\u001b[1;37;44m \u001b[0m┃\u001b[1;37;44m \u001b[0m\u001b[1;37;44mFold 2 \u001b[0m\u001b[1;37;44m \u001b[0m┃\u001b[1;37;44m \u001b[0m\u001b[1;37;44mFold 3 \u001b[0m\u001b[1;37;44m \u001b[0m┃\u001b[1;37;44m \u001b[0m\u001b[1;37;44mFold 4  \u001b[0m\u001b[1;37;44m \u001b[0m┃\u001b[1;37;44m \u001b[0m\u001b[1;37;44mFold 5 \u001b[0m\u001b[1;37;44m \u001b[0m┃\n",
       "┡━━━━━━━━━━━━━━╇━━━━━━━━━╇━━━━━━━━━╇━━━━━━━━━╇━━━━━━━━━╇━━━━━━━━━━╇━━━━━━━━━┩\n",
       "│ score        │ -600.36 │ -567.30 │ -565.50 │ -523.35 │ -1056.83 │ -426.55 │\n",
       "│ airflow_mae  │ -74.10  │ -69.80  │ -71.98  │ -72.06  │ -91.83   │ -68.08  │\n",
       "│ airflow_rmse │ -100.97 │ -98.54  │ -101.33 │ -94.28  │ -138.57  │ -86.19  │\n",
       "│ pres_mae     │ -6.44   │ -6.11   │ -5.34   │ -7.08   │ -7.85    │ -6.43   │\n",
       "│ pres_rmse    │ -8.65   │ -8.01   │ -8.06   │ -9.28   │ -11.89   │ -8.05   │\n",
       "└──────────────┴─────────┴─────────┴─────────┴─────────┴──────────┴─────────┘\n"
      ]
     },
     "metadata": {},
     "output_type": "display_data"
    },
    {
     "data": {
      "text/html": [
       "<pre style=\"white-space:pre;overflow-x:auto;line-height:normal;font-family:Menlo,'DejaVu Sans Mono',consolas,'Courier New',monospace\">┏━━━━━━━━━━━━━━━━━━━━━━┳━━━━━━━━━━━━━━━━━━━━━━━┓\n",
       "┃<span style=\"color: #c0c0c0; text-decoration-color: #c0c0c0; background-color: #000080; font-weight: bold\"> Mean Fit Time        </span>┃<span style=\"color: #c0c0c0; text-decoration-color: #c0c0c0; background-color: #000080; font-weight: bold\"> Mean Score Time       </span>┃\n",
       "┡━━━━━━━━━━━━━━━━━━━━━━╇━━━━━━━━━━━━━━━━━━━━━━━┩\n",
       "│ 0.001191418170928955 │ 0.0010930919647216797 │\n",
       "└──────────────────────┴───────────────────────┘\n",
       "</pre>\n"
      ],
      "text/plain": [
       "┏━━━━━━━━━━━━━━━━━━━━━━┳━━━━━━━━━━━━━━━━━━━━━━━┓\n",
       "┃\u001b[1;37;44m \u001b[0m\u001b[1;37;44mMean Fit Time       \u001b[0m\u001b[1;37;44m \u001b[0m┃\u001b[1;37;44m \u001b[0m\u001b[1;37;44mMean Score Time      \u001b[0m\u001b[1;37;44m \u001b[0m┃\n",
       "┡━━━━━━━━━━━━━━━━━━━━━━╇━━━━━━━━━━━━━━━━━━━━━━━┩\n",
       "│ 0.001191418170928955 │ 0.0010930919647216797 │\n",
       "└──────────────────────┴───────────────────────┘\n"
      ]
     },
     "metadata": {},
     "output_type": "display_data"
    }
   ],
   "source": [
    "model_lr = LinearRegression().fit(x_train, y_train)\n",
    "calculate_metrics(model_lr.predict(x_test), y_test, print_metrics=True, title=\"lr\")\n",
    "model_lr = LinearRegression()\n",
    "\n",
    "# ------------------------ 5 fold ------------------------ #\n",
    "cv_mthd = RepeatedKFold(n_splits=10, n_repeats=10, random_state=42)\n",
    "ccp_scoring = get_ccp_scoring()\n",
    "results = cross_validate(\n",
    "    model_lr, X=x_train, y=y_train, cv=cv_mthd, scoring=ccp_scoring\n",
    ")\n",
    "\n",
    "print_results_table(results, ccp_scoring, title=\"lr-cv\",show_time_cost=True)"
   ]
  },
  {
   "cell_type": "markdown",
   "metadata": {},
   "source": [
    "### Ridge"
   ]
  },
  {
   "cell_type": "code",
   "execution_count": 67,
   "metadata": {},
   "outputs": [
    {
     "data": {
      "text/html": [
       "<pre style=\"white-space:pre;overflow-x:auto;line-height:normal;font-family:Menlo,'DejaVu Sans Mono',consolas,'Courier New',monospace\"><span style=\"font-style: italic\">                 lr_ridge                 </span>\n",
       "┏━━━━━━━━━┯━━━━━━━━━┯━━━━━━━━━┯━━━━━━━━━━┓\n",
       "┃<span style=\"font-weight: bold\"> Feature </span>│<span style=\"font-weight: bold\"> MAE(Pa) </span>│<span style=\"font-weight: bold\">  MAPE   </span>│<span style=\"font-weight: bold\"> RMSE(Pa) </span>┃\n",
       "┠─────────┼─────────┼─────────┼──────────┨\n",
       "┃<span style=\"color: #7f7f7f; text-decoration-color: #7f7f7f\"> Airflow </span>│  83.55  │  9.21%  │  135.93  ┃\n",
       "┃<span style=\"color: #7f7f7f; text-decoration-color: #7f7f7f\"> Pres    </span>│  6.66   │ 708.61% │  10.05   ┃\n",
       "┗━━━━━━━━━┷━━━━━━━━━┷━━━━━━━━━┷━━━━━━━━━━┛\n",
       "</pre>\n"
      ],
      "text/plain": [
       "\u001b[3m                 lr_ridge                 \u001b[0m\n",
       "┏━━━━━━━━━┯━━━━━━━━━┯━━━━━━━━━┯━━━━━━━━━━┓\n",
       "┃\u001b[1m \u001b[0m\u001b[1mFeature\u001b[0m\u001b[1m \u001b[0m│\u001b[1m \u001b[0m\u001b[1mMAE(Pa)\u001b[0m\u001b[1m \u001b[0m│\u001b[1m \u001b[0m\u001b[1m MAPE  \u001b[0m\u001b[1m \u001b[0m│\u001b[1m \u001b[0m\u001b[1mRMSE(Pa)\u001b[0m\u001b[1m \u001b[0m┃\n",
       "┠─────────┼─────────┼─────────┼──────────┨\n",
       "┃\u001b[2m \u001b[0m\u001b[2mAirflow\u001b[0m\u001b[2m \u001b[0m│  83.55  │  9.21%  │  135.93  ┃\n",
       "┃\u001b[2m \u001b[0m\u001b[2mPres   \u001b[0m\u001b[2m \u001b[0m│  6.66   │ 708.61% │  10.05   ┃\n",
       "┗━━━━━━━━━┷━━━━━━━━━┷━━━━━━━━━┷━━━━━━━━━━┛\n"
      ]
     },
     "metadata": {},
     "output_type": "display_data"
    },
    {
     "data": {
      "text/html": [
       "<pre style=\"white-space:pre;overflow-x:auto;line-height:normal;font-family:Menlo,'DejaVu Sans Mono',consolas,'Courier New',monospace\"><span style=\"font-style: italic\">                                 lr_ridge-cv                                 </span>\n",
       "┏━━━━━━━━━━━━━━┳━━━━━━━━━┳━━━━━━━━━┳━━━━━━━━━┳━━━━━━━━━┳━━━━━━━━━━┳━━━━━━━━━┓\n",
       "┃<span style=\"color: #c0c0c0; text-decoration-color: #c0c0c0; background-color: #000080; font-weight: bold\"> Metric       </span>┃<span style=\"color: #c0c0c0; text-decoration-color: #c0c0c0; background-color: #000080; font-weight: bold\"> Mean    </span>┃<span style=\"color: #c0c0c0; text-decoration-color: #c0c0c0; background-color: #000080; font-weight: bold\"> Fold 1  </span>┃<span style=\"color: #c0c0c0; text-decoration-color: #c0c0c0; background-color: #000080; font-weight: bold\"> Fold 2  </span>┃<span style=\"color: #c0c0c0; text-decoration-color: #c0c0c0; background-color: #000080; font-weight: bold\"> Fold 3  </span>┃<span style=\"color: #c0c0c0; text-decoration-color: #c0c0c0; background-color: #000080; font-weight: bold\"> Fold 4   </span>┃<span style=\"color: #c0c0c0; text-decoration-color: #c0c0c0; background-color: #000080; font-weight: bold\"> Fold 5  </span>┃\n",
       "┡━━━━━━━━━━━━━━╇━━━━━━━━━╇━━━━━━━━━╇━━━━━━━━━╇━━━━━━━━━╇━━━━━━━━━━╇━━━━━━━━━┩\n",
       "│ score        │ -709.19 │ -593.40 │ -731.68 │ -642.61 │ -1014.26 │ -523.44 │\n",
       "│ airflow_mae  │ -83.62  │ -73.33  │ -85.51  │ -82.49  │ -95.87   │ -75.10  │\n",
       "│ airflow_rmse │ -111.09 │ -100.30 │ -115.52 │ -103.54 │ -135.88  │ -95.99  │\n",
       "│ pres_mae     │ -6.76   │ -6.52   │ -5.75   │ -7.31   │ -7.72    │ -6.84   │\n",
       "│ pres_rmse    │ -9.01   │ -8.63   │ -8.06   │ -9.63   │ -11.36   │ -8.74   │\n",
       "└──────────────┴─────────┴─────────┴─────────┴─────────┴──────────┴─────────┘\n",
       "</pre>\n"
      ],
      "text/plain": [
       "\u001b[3m                                 lr_ridge-cv                                 \u001b[0m\n",
       "┏━━━━━━━━━━━━━━┳━━━━━━━━━┳━━━━━━━━━┳━━━━━━━━━┳━━━━━━━━━┳━━━━━━━━━━┳━━━━━━━━━┓\n",
       "┃\u001b[1;37;44m \u001b[0m\u001b[1;37;44mMetric      \u001b[0m\u001b[1;37;44m \u001b[0m┃\u001b[1;37;44m \u001b[0m\u001b[1;37;44mMean   \u001b[0m\u001b[1;37;44m \u001b[0m┃\u001b[1;37;44m \u001b[0m\u001b[1;37;44mFold 1 \u001b[0m\u001b[1;37;44m \u001b[0m┃\u001b[1;37;44m \u001b[0m\u001b[1;37;44mFold 2 \u001b[0m\u001b[1;37;44m \u001b[0m┃\u001b[1;37;44m \u001b[0m\u001b[1;37;44mFold 3 \u001b[0m\u001b[1;37;44m \u001b[0m┃\u001b[1;37;44m \u001b[0m\u001b[1;37;44mFold 4  \u001b[0m\u001b[1;37;44m \u001b[0m┃\u001b[1;37;44m \u001b[0m\u001b[1;37;44mFold 5 \u001b[0m\u001b[1;37;44m \u001b[0m┃\n",
       "┡━━━━━━━━━━━━━━╇━━━━━━━━━╇━━━━━━━━━╇━━━━━━━━━╇━━━━━━━━━╇━━━━━━━━━━╇━━━━━━━━━┩\n",
       "│ score        │ -709.19 │ -593.40 │ -731.68 │ -642.61 │ -1014.26 │ -523.44 │\n",
       "│ airflow_mae  │ -83.62  │ -73.33  │ -85.51  │ -82.49  │ -95.87   │ -75.10  │\n",
       "│ airflow_rmse │ -111.09 │ -100.30 │ -115.52 │ -103.54 │ -135.88  │ -95.99  │\n",
       "│ pres_mae     │ -6.76   │ -6.52   │ -5.75   │ -7.31   │ -7.72    │ -6.84   │\n",
       "│ pres_rmse    │ -9.01   │ -8.63   │ -8.06   │ -9.63   │ -11.36   │ -8.74   │\n",
       "└──────────────┴─────────┴─────────┴─────────┴─────────┴──────────┴─────────┘\n"
      ]
     },
     "metadata": {},
     "output_type": "display_data"
    }
   ],
   "source": [
    "model_lr_ridge = Ridge(alpha=0.001).fit(x_train, y_train)\n",
    "calculate_metrics(\n",
    "    model_lr_ridge.predict(x_test), y_test, print_metrics=True, title=\"lr_ridge\"\n",
    ")\n",
    "\n",
    "model_lr_ridge = Ridge(alpha=999)\n",
    "cv_mthd = RepeatedKFold(n_splits=10, n_repeats=10, random_state=42)\n",
    "ccp_scoring = get_ccp_scoring()\n",
    "results = cross_validate(\n",
    "    model_lr_ridge, X=x_train, y=y_train, cv=cv_mthd, scoring=ccp_scoring\n",
    ")\n",
    "\n",
    "print_results_table(results, ccp_scoring, title=\"lr_ridge-cv\")"
   ]
  },
  {
   "cell_type": "markdown",
   "metadata": {},
   "source": [
    "### Lasso"
   ]
  },
  {
   "cell_type": "code",
   "execution_count": 71,
   "metadata": {},
   "outputs": [
    {
     "name": "stderr",
     "output_type": "stream",
     "text": [
      "/tmp/ipykernel_1310064/1159988914.py:1: UserWarning: With alpha=0, this algorithm does not converge well. You are advised to use the LinearRegression estimator\n",
      "  model_lr_lasso = Lasso(alpha=0).fit(x_train, y_train)\n",
      "/usr/local/lib/python3.10/site-packages/sklearn/linear_model/_coordinate_descent.py:631: UserWarning: Coordinate descent with no regularization may lead to unexpected results and is discouraged.\n",
      "  model = cd_fast.enet_coordinate_descent(\n",
      "/usr/local/lib/python3.10/site-packages/sklearn/linear_model/_coordinate_descent.py:631: ConvergenceWarning: Objective did not converge. You might want to increase the number of iterations, check the scale of the features or consider increasing regularisation. Duality gap: 6.097e+05, tolerance: 3.643e+03 Linear regression models with null weight for the l1 regularization term are more efficiently fitted using one of the solvers implemented in sklearn.linear_model.Ridge/RidgeCV instead.\n",
      "  model = cd_fast.enet_coordinate_descent(\n",
      "/usr/local/lib/python3.10/site-packages/sklearn/linear_model/_coordinate_descent.py:631: ConvergenceWarning: Objective did not converge. You might want to increase the number of iterations, check the scale of the features or consider increasing regularisation. Duality gap: 2.217e+06, tolerance: 3.991e+04 Linear regression models with null weight for the l1 regularization term are more efficiently fitted using one of the solvers implemented in sklearn.linear_model.Ridge/RidgeCV instead.\n",
      "  model = cd_fast.enet_coordinate_descent(\n",
      "/usr/local/lib/python3.10/site-packages/sklearn/linear_model/_coordinate_descent.py:631: ConvergenceWarning: Objective did not converge. You might want to increase the number of iterations, check the scale of the features or consider increasing regularisation. Duality gap: 1.904e+06, tolerance: 2.967e+04 Linear regression models with null weight for the l1 regularization term are more efficiently fitted using one of the solvers implemented in sklearn.linear_model.Ridge/RidgeCV instead.\n",
      "  model = cd_fast.enet_coordinate_descent(\n",
      "/usr/local/lib/python3.10/site-packages/sklearn/linear_model/_coordinate_descent.py:631: ConvergenceWarning: Objective did not converge. You might want to increase the number of iterations, check the scale of the features or consider increasing regularisation. Duality gap: 2.082e+06, tolerance: 4.111e+03 Linear regression models with null weight for the l1 regularization term are more efficiently fitted using one of the solvers implemented in sklearn.linear_model.Ridge/RidgeCV instead.\n",
      "  model = cd_fast.enet_coordinate_descent(\n",
      "/usr/local/lib/python3.10/site-packages/sklearn/linear_model/_coordinate_descent.py:631: ConvergenceWarning: Objective did not converge. You might want to increase the number of iterations, check the scale of the features or consider increasing regularisation. Duality gap: 3.513e+03, tolerance: 3.606e+00 Linear regression models with null weight for the l1 regularization term are more efficiently fitted using one of the solvers implemented in sklearn.linear_model.Ridge/RidgeCV instead.\n",
      "  model = cd_fast.enet_coordinate_descent(\n",
      "/usr/local/lib/python3.10/site-packages/sklearn/linear_model/_coordinate_descent.py:631: ConvergenceWarning: Objective did not converge. You might want to increase the number of iterations, check the scale of the features or consider increasing regularisation. Duality gap: 9.064e+03, tolerance: 1.370e+01 Linear regression models with null weight for the l1 regularization term are more efficiently fitted using one of the solvers implemented in sklearn.linear_model.Ridge/RidgeCV instead.\n",
      "  model = cd_fast.enet_coordinate_descent(\n",
      "/usr/local/lib/python3.10/site-packages/sklearn/linear_model/_coordinate_descent.py:631: ConvergenceWarning: Objective did not converge. You might want to increase the number of iterations, check the scale of the features or consider increasing regularisation. Duality gap: 1.569e+04, tolerance: 2.982e+01 Linear regression models with null weight for the l1 regularization term are more efficiently fitted using one of the solvers implemented in sklearn.linear_model.Ridge/RidgeCV instead.\n",
      "  model = cd_fast.enet_coordinate_descent(\n",
      "/usr/local/lib/python3.10/site-packages/sklearn/linear_model/_coordinate_descent.py:631: ConvergenceWarning: Objective did not converge. You might want to increase the number of iterations, check the scale of the features or consider increasing regularisation. Duality gap: 1.711e+04, tolerance: 3.074e+01 Linear regression models with null weight for the l1 regularization term are more efficiently fitted using one of the solvers implemented in sklearn.linear_model.Ridge/RidgeCV instead.\n",
      "  model = cd_fast.enet_coordinate_descent(\n",
      "/usr/local/lib/python3.10/site-packages/sklearn/linear_model/_coordinate_descent.py:631: ConvergenceWarning: Objective did not converge. You might want to increase the number of iterations, check the scale of the features or consider increasing regularisation. Duality gap: 2.207e+04, tolerance: 4.125e+01 Linear regression models with null weight for the l1 regularization term are more efficiently fitted using one of the solvers implemented in sklearn.linear_model.Ridge/RidgeCV instead.\n",
      "  model = cd_fast.enet_coordinate_descent(\n",
      "/usr/local/lib/python3.10/site-packages/sklearn/linear_model/_coordinate_descent.py:631: ConvergenceWarning: Objective did not converge. You might want to increase the number of iterations, check the scale of the features or consider increasing regularisation. Duality gap: 9.418e+03, tolerance: 1.516e+01 Linear regression models with null weight for the l1 regularization term are more efficiently fitted using one of the solvers implemented in sklearn.linear_model.Ridge/RidgeCV instead.\n",
      "  model = cd_fast.enet_coordinate_descent(\n"
     ]
    },
    {
     "data": {
      "text/html": [
       "<pre style=\"white-space:pre;overflow-x:auto;line-height:normal;font-family:Menlo,'DejaVu Sans Mono',consolas,'Courier New',monospace\"><span style=\"font-style: italic\">                 lr_lasso                 </span>\n",
       "┏━━━━━━━━━┯━━━━━━━━━┯━━━━━━━━━┯━━━━━━━━━━┓\n",
       "┃<span style=\"font-weight: bold\"> Feature </span>│<span style=\"font-weight: bold\"> MAE(Pa) </span>│<span style=\"font-weight: bold\">  MAPE   </span>│<span style=\"font-weight: bold\"> RMSE(Pa) </span>┃\n",
       "┠─────────┼─────────┼─────────┼──────────┨\n",
       "┃<span style=\"color: #7f7f7f; text-decoration-color: #7f7f7f\"> Airflow </span>│  83.55  │  9.21%  │  135.93  ┃\n",
       "┃<span style=\"color: #7f7f7f; text-decoration-color: #7f7f7f\"> Pres    </span>│  6.66   │ 708.61% │  10.05   ┃\n",
       "┗━━━━━━━━━┷━━━━━━━━━┷━━━━━━━━━┷━━━━━━━━━━┛\n",
       "</pre>\n"
      ],
      "text/plain": [
       "\u001b[3m                 lr_lasso                 \u001b[0m\n",
       "┏━━━━━━━━━┯━━━━━━━━━┯━━━━━━━━━┯━━━━━━━━━━┓\n",
       "┃\u001b[1m \u001b[0m\u001b[1mFeature\u001b[0m\u001b[1m \u001b[0m│\u001b[1m \u001b[0m\u001b[1mMAE(Pa)\u001b[0m\u001b[1m \u001b[0m│\u001b[1m \u001b[0m\u001b[1m MAPE  \u001b[0m\u001b[1m \u001b[0m│\u001b[1m \u001b[0m\u001b[1mRMSE(Pa)\u001b[0m\u001b[1m \u001b[0m┃\n",
       "┠─────────┼─────────┼─────────┼──────────┨\n",
       "┃\u001b[2m \u001b[0m\u001b[2mAirflow\u001b[0m\u001b[2m \u001b[0m│  83.55  │  9.21%  │  135.93  ┃\n",
       "┃\u001b[2m \u001b[0m\u001b[2mPres   \u001b[0m\u001b[2m \u001b[0m│  6.66   │ 708.61% │  10.05   ┃\n",
       "┗━━━━━━━━━┷━━━━━━━━━┷━━━━━━━━━┷━━━━━━━━━━┛\n"
      ]
     },
     "metadata": {},
     "output_type": "display_data"
    },
    {
     "data": {
      "text/html": [
       "<pre style=\"white-space:pre;overflow-x:auto;line-height:normal;font-family:Menlo,'DejaVu Sans Mono',consolas,'Courier New',monospace\"><span style=\"font-style: italic\">                                lr_lasso-cv                                 </span>\n",
       "┏━━━━━━━━━━━━━━┳━━━━━━━━━┳━━━━━━━━━┳━━━━━━━━━┳━━━━━━━━━┳━━━━━━━━━┳━━━━━━━━━┓\n",
       "┃<span style=\"color: #c0c0c0; text-decoration-color: #c0c0c0; background-color: #000080; font-weight: bold\"> Metric       </span>┃<span style=\"color: #c0c0c0; text-decoration-color: #c0c0c0; background-color: #000080; font-weight: bold\"> Mean    </span>┃<span style=\"color: #c0c0c0; text-decoration-color: #c0c0c0; background-color: #000080; font-weight: bold\"> Fold 1  </span>┃<span style=\"color: #c0c0c0; text-decoration-color: #c0c0c0; background-color: #000080; font-weight: bold\"> Fold 2  </span>┃<span style=\"color: #c0c0c0; text-decoration-color: #c0c0c0; background-color: #000080; font-weight: bold\"> Fold 3  </span>┃<span style=\"color: #c0c0c0; text-decoration-color: #c0c0c0; background-color: #000080; font-weight: bold\"> Fold 4  </span>┃<span style=\"color: #c0c0c0; text-decoration-color: #c0c0c0; background-color: #000080; font-weight: bold\"> Fold 5  </span>┃\n",
       "┡━━━━━━━━━━━━━━╇━━━━━━━━━╇━━━━━━━━━╇━━━━━━━━━╇━━━━━━━━━╇━━━━━━━━━╇━━━━━━━━━┩\n",
       "│ score        │ -609.73 │ -533.02 │ -790.62 │ -468.04 │ -634.13 │ -587.43 │\n",
       "│ airflow_mae  │ -74.65  │ -69.22  │ -76.99  │ -69.11  │ -81.68  │ -75.29  │\n",
       "│ airflow_rmse │ -102.74 │ -95.81  │ -118.44 │ -89.09  │ -104.41 │ -103.36 │\n",
       "│ pres_mae     │ -6.56   │ -6.31   │ -6.87   │ -6.51   │ -6.31   │ -6.80   │\n",
       "│ pres_rmse    │ -8.94   │ -9.03   │ -10.21  │ -8.33   │ -8.07   │ -9.08   │\n",
       "└──────────────┴─────────┴─────────┴─────────┴─────────┴─────────┴─────────┘\n",
       "</pre>\n"
      ],
      "text/plain": [
       "\u001b[3m                                lr_lasso-cv                                 \u001b[0m\n",
       "┏━━━━━━━━━━━━━━┳━━━━━━━━━┳━━━━━━━━━┳━━━━━━━━━┳━━━━━━━━━┳━━━━━━━━━┳━━━━━━━━━┓\n",
       "┃\u001b[1;37;44m \u001b[0m\u001b[1;37;44mMetric      \u001b[0m\u001b[1;37;44m \u001b[0m┃\u001b[1;37;44m \u001b[0m\u001b[1;37;44mMean   \u001b[0m\u001b[1;37;44m \u001b[0m┃\u001b[1;37;44m \u001b[0m\u001b[1;37;44mFold 1 \u001b[0m\u001b[1;37;44m \u001b[0m┃\u001b[1;37;44m \u001b[0m\u001b[1;37;44mFold 2 \u001b[0m\u001b[1;37;44m \u001b[0m┃\u001b[1;37;44m \u001b[0m\u001b[1;37;44mFold 3 \u001b[0m\u001b[1;37;44m \u001b[0m┃\u001b[1;37;44m \u001b[0m\u001b[1;37;44mFold 4 \u001b[0m\u001b[1;37;44m \u001b[0m┃\u001b[1;37;44m \u001b[0m\u001b[1;37;44mFold 5 \u001b[0m\u001b[1;37;44m \u001b[0m┃\n",
       "┡━━━━━━━━━━━━━━╇━━━━━━━━━╇━━━━━━━━━╇━━━━━━━━━╇━━━━━━━━━╇━━━━━━━━━╇━━━━━━━━━┩\n",
       "│ score        │ -609.73 │ -533.02 │ -790.62 │ -468.04 │ -634.13 │ -587.43 │\n",
       "│ airflow_mae  │ -74.65  │ -69.22  │ -76.99  │ -69.11  │ -81.68  │ -75.29  │\n",
       "│ airflow_rmse │ -102.74 │ -95.81  │ -118.44 │ -89.09  │ -104.41 │ -103.36 │\n",
       "│ pres_mae     │ -6.56   │ -6.31   │ -6.87   │ -6.51   │ -6.31   │ -6.80   │\n",
       "│ pres_rmse    │ -8.94   │ -9.03   │ -10.21  │ -8.33   │ -8.07   │ -9.08   │\n",
       "└──────────────┴─────────┴─────────┴─────────┴─────────┴─────────┴─────────┘\n"
      ]
     },
     "metadata": {},
     "output_type": "display_data"
    }
   ],
   "source": [
    "model_lr_lasso = Lasso(alpha=0).fit(x_train, y_train)\n",
    "calculate_metrics(\n",
    "    model_lr_lasso.predict(x_test), y_test, print_metrics=True, title=\"lr_lasso\"\n",
    ")\n",
    "model_lr_lasso = Lasso(alpha=1.0)\n",
    "cv_mthd = RepeatedKFold(n_splits=5, n_repeats=3, random_state=44)\n",
    "ccp_scoring = get_ccp_scoring()\n",
    "results = cross_validate(\n",
    "    model_lr_lasso, X=x_train, y=y_train, cv=cv_mthd, scoring=ccp_scoring\n",
    ")\n",
    "\n",
    "print_results_table(results, ccp_scoring, title=\"lr_lasso-cv\")"
   ]
  },
  {
   "cell_type": "markdown",
   "metadata": {},
   "source": [
    "### ElasticNet"
   ]
  },
  {
   "cell_type": "code",
   "execution_count": 72,
   "metadata": {},
   "outputs": [
    {
     "data": {
      "text/html": [
       "<pre style=\"white-space:pre;overflow-x:auto;line-height:normal;font-family:Menlo,'DejaVu Sans Mono',consolas,'Courier New',monospace\"><span style=\"font-style: italic\">              lr_ElasticNet               </span>\n",
       "┏━━━━━━━━━┯━━━━━━━━━┯━━━━━━━━━┯━━━━━━━━━━┓\n",
       "┃<span style=\"font-weight: bold\"> Feature </span>│<span style=\"font-weight: bold\"> MAE(Pa) </span>│<span style=\"font-weight: bold\">  MAPE   </span>│<span style=\"font-weight: bold\"> RMSE(Pa) </span>┃\n",
       "┠─────────┼─────────┼─────────┼──────────┨\n",
       "┃<span style=\"color: #7f7f7f; text-decoration-color: #7f7f7f\"> Airflow </span>│  83.19  │  9.58%  │  132.61  ┃\n",
       "┃<span style=\"color: #7f7f7f; text-decoration-color: #7f7f7f\"> Pres    </span>│  6.67   │ 737.32% │   9.93   ┃\n",
       "┗━━━━━━━━━┷━━━━━━━━━┷━━━━━━━━━┷━━━━━━━━━━┛\n",
       "</pre>\n"
      ],
      "text/plain": [
       "\u001b[3m              lr_ElasticNet               \u001b[0m\n",
       "┏━━━━━━━━━┯━━━━━━━━━┯━━━━━━━━━┯━━━━━━━━━━┓\n",
       "┃\u001b[1m \u001b[0m\u001b[1mFeature\u001b[0m\u001b[1m \u001b[0m│\u001b[1m \u001b[0m\u001b[1mMAE(Pa)\u001b[0m\u001b[1m \u001b[0m│\u001b[1m \u001b[0m\u001b[1m MAPE  \u001b[0m\u001b[1m \u001b[0m│\u001b[1m \u001b[0m\u001b[1mRMSE(Pa)\u001b[0m\u001b[1m \u001b[0m┃\n",
       "┠─────────┼─────────┼─────────┼──────────┨\n",
       "┃\u001b[2m \u001b[0m\u001b[2mAirflow\u001b[0m\u001b[2m \u001b[0m│  83.19  │  9.58%  │  132.61  ┃\n",
       "┃\u001b[2m \u001b[0m\u001b[2mPres   \u001b[0m\u001b[2m \u001b[0m│  6.67   │ 737.32% │   9.93   ┃\n",
       "┗━━━━━━━━━┷━━━━━━━━━┷━━━━━━━━━┷━━━━━━━━━━┛\n"
      ]
     },
     "metadata": {},
     "output_type": "display_data"
    },
    {
     "data": {
      "text/html": [
       "<pre style=\"white-space:pre;overflow-x:auto;line-height:normal;font-family:Menlo,'DejaVu Sans Mono',consolas,'Courier New',monospace\"><span style=\"font-style: italic\">                              lr_ElasticNet-cv                              </span>\n",
       "┏━━━━━━━━━━━━━━┳━━━━━━━━━┳━━━━━━━━━┳━━━━━━━━━┳━━━━━━━━━┳━━━━━━━━━┳━━━━━━━━━┓\n",
       "┃<span style=\"color: #c0c0c0; text-decoration-color: #c0c0c0; background-color: #000080; font-weight: bold\"> Metric       </span>┃<span style=\"color: #c0c0c0; text-decoration-color: #c0c0c0; background-color: #000080; font-weight: bold\"> Mean    </span>┃<span style=\"color: #c0c0c0; text-decoration-color: #c0c0c0; background-color: #000080; font-weight: bold\"> Fold 1  </span>┃<span style=\"color: #c0c0c0; text-decoration-color: #c0c0c0; background-color: #000080; font-weight: bold\"> Fold 2  </span>┃<span style=\"color: #c0c0c0; text-decoration-color: #c0c0c0; background-color: #000080; font-weight: bold\"> Fold 3  </span>┃<span style=\"color: #c0c0c0; text-decoration-color: #c0c0c0; background-color: #000080; font-weight: bold\"> Fold 4  </span>┃<span style=\"color: #c0c0c0; text-decoration-color: #c0c0c0; background-color: #000080; font-weight: bold\"> Fold 5  </span>┃\n",
       "┡━━━━━━━━━━━━━━╇━━━━━━━━━╇━━━━━━━━━╇━━━━━━━━━╇━━━━━━━━━╇━━━━━━━━━╇━━━━━━━━━┩\n",
       "│ score        │ -611.37 │ -568.99 │ -803.37 │ -696.20 │ -480.34 │ -599.40 │\n",
       "│ airflow_mae  │ -74.99  │ -71.05  │ -82.55  │ -77.00  │ -70.25  │ -79.04  │\n",
       "│ airflow_rmse │ -103.11 │ -100.58 │ -119.73 │ -109.58 │ -89.92  │ -103.97 │\n",
       "│ pres_mae     │ -6.56   │ -5.79   │ -7.45   │ -6.94   │ -6.66   │ -5.91   │\n",
       "│ pres_rmse    │ -8.88   │ -8.07   │ -10.78  │ -9.36   │ -8.46   │ -7.50   │\n",
       "└──────────────┴─────────┴─────────┴─────────┴─────────┴─────────┴─────────┘\n",
       "</pre>\n"
      ],
      "text/plain": [
       "\u001b[3m                              lr_ElasticNet-cv                              \u001b[0m\n",
       "┏━━━━━━━━━━━━━━┳━━━━━━━━━┳━━━━━━━━━┳━━━━━━━━━┳━━━━━━━━━┳━━━━━━━━━┳━━━━━━━━━┓\n",
       "┃\u001b[1;37;44m \u001b[0m\u001b[1;37;44mMetric      \u001b[0m\u001b[1;37;44m \u001b[0m┃\u001b[1;37;44m \u001b[0m\u001b[1;37;44mMean   \u001b[0m\u001b[1;37;44m \u001b[0m┃\u001b[1;37;44m \u001b[0m\u001b[1;37;44mFold 1 \u001b[0m\u001b[1;37;44m \u001b[0m┃\u001b[1;37;44m \u001b[0m\u001b[1;37;44mFold 2 \u001b[0m\u001b[1;37;44m \u001b[0m┃\u001b[1;37;44m \u001b[0m\u001b[1;37;44mFold 3 \u001b[0m\u001b[1;37;44m \u001b[0m┃\u001b[1;37;44m \u001b[0m\u001b[1;37;44mFold 4 \u001b[0m\u001b[1;37;44m \u001b[0m┃\u001b[1;37;44m \u001b[0m\u001b[1;37;44mFold 5 \u001b[0m\u001b[1;37;44m \u001b[0m┃\n",
       "┡━━━━━━━━━━━━━━╇━━━━━━━━━╇━━━━━━━━━╇━━━━━━━━━╇━━━━━━━━━╇━━━━━━━━━╇━━━━━━━━━┩\n",
       "│ score        │ -611.37 │ -568.99 │ -803.37 │ -696.20 │ -480.34 │ -599.40 │\n",
       "│ airflow_mae  │ -74.99  │ -71.05  │ -82.55  │ -77.00  │ -70.25  │ -79.04  │\n",
       "│ airflow_rmse │ -103.11 │ -100.58 │ -119.73 │ -109.58 │ -89.92  │ -103.97 │\n",
       "│ pres_mae     │ -6.56   │ -5.79   │ -7.45   │ -6.94   │ -6.66   │ -5.91   │\n",
       "│ pres_rmse    │ -8.88   │ -8.07   │ -10.78  │ -9.36   │ -8.46   │ -7.50   │\n",
       "└──────────────┴─────────┴─────────┴─────────┴─────────┴─────────┴─────────┘\n"
      ]
     },
     "metadata": {},
     "output_type": "display_data"
    }
   ],
   "source": [
    "model_lr_ElasticNet = ElasticNet(alpha=1.0, l1_ratio=0.5).fit(x_train, y_train)\n",
    "calculate_metrics(\n",
    "    model_lr_ElasticNet.predict(x_test),\n",
    "    y_test,\n",
    "    print_metrics=True,\n",
    "    title=\"lr_ElasticNet\",\n",
    ")\n",
    "model_lr_ElasticNet = ElasticNet(alpha=1.0, l1_ratio=0.5)\n",
    "cv_mthd = RepeatedKFold(n_splits=5, n_repeats=3, random_state=42)\n",
    "ccp_scoring = get_ccp_scoring()\n",
    "results = cross_validate(\n",
    "    model_lr_ElasticNet, X=x_train, y=y_train, cv=cv_mthd, scoring=ccp_scoring\n",
    ")\n",
    "\n",
    "print_results_table(results, ccp_scoring, title=\"lr_ElasticNet-cv\")"
   ]
  },
  {
   "cell_type": "code",
   "execution_count": null,
   "metadata": {},
   "outputs": [],
   "source": [
    "import os\n",
    "\n",
    "# os.chdir(\"/root/workspace/CCP/\")"
   ]
  },
  {
   "cell_type": "markdown",
   "metadata": {},
   "source": [
    "### Grid for all LR"
   ]
  },
  {
   "cell_type": "code",
   "execution_count": 116,
   "metadata": {},
   "outputs": [
    {
     "name": "stdout",
     "output_type": "stream",
     "text": [
      "===============================================\n",
      "Training LinearRegression... \n",
      "--------------------------------------------------------------------------------\n",
      "Fitting 5 folds for each of 1 candidates, totalling 5 fits\n"
     ]
    },
    {
     "data": {
      "text/html": [
       "<pre style=\"white-space:pre;overflow-x:auto;line-height:normal;font-family:Menlo,'DejaVu Sans Mono',consolas,'Courier New',monospace\"><span style=\"font-style: italic\">             LinearRegression             </span>\n",
       "┏━━━━━━━━━┯━━━━━━━━━┯━━━━━━━━━┯━━━━━━━━━━┓\n",
       "┃<span style=\"font-weight: bold\"> Feature </span>│<span style=\"font-weight: bold\"> MAE(Pa) </span>│<span style=\"font-weight: bold\">  MAPE   </span>│<span style=\"font-weight: bold\"> RMSE(Pa) </span>┃\n",
       "┠─────────┼─────────┼─────────┼──────────┨\n",
       "┃<span style=\"color: #7f7f7f; text-decoration-color: #7f7f7f\"> Airflow </span>│  83.55  │  9.21%  │  135.93  ┃\n",
       "┃<span style=\"color: #7f7f7f; text-decoration-color: #7f7f7f\"> Pres    </span>│  6.66   │ 708.61% │  10.05   ┃\n",
       "┗━━━━━━━━━┷━━━━━━━━━┷━━━━━━━━━┷━━━━━━━━━━┛\n",
       "</pre>\n"
      ],
      "text/plain": [
       "\u001b[3m             LinearRegression             \u001b[0m\n",
       "┏━━━━━━━━━┯━━━━━━━━━┯━━━━━━━━━┯━━━━━━━━━━┓\n",
       "┃\u001b[1m \u001b[0m\u001b[1mFeature\u001b[0m\u001b[1m \u001b[0m│\u001b[1m \u001b[0m\u001b[1mMAE(Pa)\u001b[0m\u001b[1m \u001b[0m│\u001b[1m \u001b[0m\u001b[1m MAPE  \u001b[0m\u001b[1m \u001b[0m│\u001b[1m \u001b[0m\u001b[1mRMSE(Pa)\u001b[0m\u001b[1m \u001b[0m┃\n",
       "┠─────────┼─────────┼─────────┼──────────┨\n",
       "┃\u001b[2m \u001b[0m\u001b[2mAirflow\u001b[0m\u001b[2m \u001b[0m│  83.55  │  9.21%  │  135.93  ┃\n",
       "┃\u001b[2m \u001b[0m\u001b[2mPres   \u001b[0m\u001b[2m \u001b[0m│  6.66   │ 708.61% │  10.05   ┃\n",
       "┗━━━━━━━━━┷━━━━━━━━━┷━━━━━━━━━┷━━━━━━━━━━┛\n"
      ]
     },
     "metadata": {},
     "output_type": "display_data"
    },
    {
     "name": "stdout",
     "output_type": "stream",
     "text": [
      "Best Parameters for LinearRegression : {}\n",
      "Best Score for LinearRegression : -8.748866330485281\n",
      "===============================================\n",
      "\n",
      "\n",
      "===============================================\n",
      "Training Ridge... \n",
      "--------------------------------------------------------------------------------\n",
      "Fitting 5 folds for each of 1 candidates, totalling 5 fits\n"
     ]
    },
    {
     "name": "stderr",
     "output_type": "stream",
     "text": [
      "/usr/local/lib/python3.10/site-packages/sklearn/linear_model/_ridge.py:216: LinAlgWarning: Ill-conditioned matrix (rcond=3.12238e-18): result may not be accurate.\n",
      "  return linalg.solve(A, Xy, assume_a=\"pos\", overwrite_a=True).T\n",
      "/usr/local/lib/python3.10/site-packages/sklearn/linear_model/_ridge.py:216: LinAlgWarning: Ill-conditioned matrix (rcond=2.58066e-17): result may not be accurate.\n",
      "  return linalg.solve(A, Xy, assume_a=\"pos\", overwrite_a=True).T\n",
      "/usr/local/lib/python3.10/site-packages/sklearn/linear_model/_ridge.py:216: LinAlgWarning: Ill-conditioned matrix (rcond=2.90579e-18): result may not be accurate.\n",
      "  return linalg.solve(A, Xy, assume_a=\"pos\", overwrite_a=True).T\n"
     ]
    },
    {
     "data": {
      "text/html": [
       "<pre style=\"white-space:pre;overflow-x:auto;line-height:normal;font-family:Menlo,'DejaVu Sans Mono',consolas,'Courier New',monospace\"><span style=\"font-style: italic\">                  Ridge                   </span>\n",
       "┏━━━━━━━━━┯━━━━━━━━━┯━━━━━━━━━┯━━━━━━━━━━┓\n",
       "┃<span style=\"font-weight: bold\"> Feature </span>│<span style=\"font-weight: bold\"> MAE(Pa) </span>│<span style=\"font-weight: bold\">  MAPE   </span>│<span style=\"font-weight: bold\"> RMSE(Pa) </span>┃\n",
       "┠─────────┼─────────┼─────────┼──────────┨\n",
       "┃<span style=\"color: #7f7f7f; text-decoration-color: #7f7f7f\"> Airflow </span>│  85.48  │  9.32%  │  137.57  ┃\n",
       "┃<span style=\"color: #7f7f7f; text-decoration-color: #7f7f7f\"> Pres    </span>│  6.87   │ 560.31% │  10.07   ┃\n",
       "┗━━━━━━━━━┷━━━━━━━━━┷━━━━━━━━━┷━━━━━━━━━━┛\n",
       "</pre>\n"
      ],
      "text/plain": [
       "\u001b[3m                  Ridge                   \u001b[0m\n",
       "┏━━━━━━━━━┯━━━━━━━━━┯━━━━━━━━━┯━━━━━━━━━━┓\n",
       "┃\u001b[1m \u001b[0m\u001b[1mFeature\u001b[0m\u001b[1m \u001b[0m│\u001b[1m \u001b[0m\u001b[1mMAE(Pa)\u001b[0m\u001b[1m \u001b[0m│\u001b[1m \u001b[0m\u001b[1m MAPE  \u001b[0m\u001b[1m \u001b[0m│\u001b[1m \u001b[0m\u001b[1mRMSE(Pa)\u001b[0m\u001b[1m \u001b[0m┃\n",
       "┠─────────┼─────────┼─────────┼──────────┨\n",
       "┃\u001b[2m \u001b[0m\u001b[2mAirflow\u001b[0m\u001b[2m \u001b[0m│  85.48  │  9.32%  │  137.57  ┃\n",
       "┃\u001b[2m \u001b[0m\u001b[2mPres   \u001b[0m\u001b[2m \u001b[0m│  6.87   │ 560.31% │  10.07   ┃\n",
       "┗━━━━━━━━━┷━━━━━━━━━┷━━━━━━━━━┷━━━━━━━━━━┛\n"
      ]
     },
     "metadata": {},
     "output_type": "display_data"
    },
    {
     "name": "stdout",
     "output_type": "stream",
     "text": [
      "Best Parameters for Ridge : {'alpha': 0}\n",
      "Best Score for Ridge : -8.795741827951925\n",
      "===============================================\n",
      "\n",
      "\n",
      "===============================================\n",
      "Training Lasso... \n",
      "--------------------------------------------------------------------------------\n",
      "Fitting 5 folds for each of 1 candidates, totalling 5 fits\n"
     ]
    },
    {
     "data": {
      "text/html": [
       "<pre style=\"white-space:pre;overflow-x:auto;line-height:normal;font-family:Menlo,'DejaVu Sans Mono',consolas,'Courier New',monospace\"><span style=\"font-style: italic\">                  Lasso                   </span>\n",
       "┏━━━━━━━━━┯━━━━━━━━━┯━━━━━━━━━┯━━━━━━━━━━┓\n",
       "┃<span style=\"font-weight: bold\"> Feature </span>│<span style=\"font-weight: bold\"> MAE(Pa) </span>│<span style=\"font-weight: bold\">  MAPE   </span>│<span style=\"font-weight: bold\"> RMSE(Pa) </span>┃\n",
       "┠─────────┼─────────┼─────────┼──────────┨\n",
       "┃<span style=\"color: #7f7f7f; text-decoration-color: #7f7f7f\"> Airflow </span>│  83.54  │  9.21%  │  135.92  ┃\n",
       "┃<span style=\"color: #7f7f7f; text-decoration-color: #7f7f7f\"> Pres    </span>│  6.65   │ 710.25% │  10.04   ┃\n",
       "┗━━━━━━━━━┷━━━━━━━━━┷━━━━━━━━━┷━━━━━━━━━━┛\n",
       "</pre>\n"
      ],
      "text/plain": [
       "\u001b[3m                  Lasso                   \u001b[0m\n",
       "┏━━━━━━━━━┯━━━━━━━━━┯━━━━━━━━━┯━━━━━━━━━━┓\n",
       "┃\u001b[1m \u001b[0m\u001b[1mFeature\u001b[0m\u001b[1m \u001b[0m│\u001b[1m \u001b[0m\u001b[1mMAE(Pa)\u001b[0m\u001b[1m \u001b[0m│\u001b[1m \u001b[0m\u001b[1m MAPE  \u001b[0m\u001b[1m \u001b[0m│\u001b[1m \u001b[0m\u001b[1mRMSE(Pa)\u001b[0m\u001b[1m \u001b[0m┃\n",
       "┠─────────┼─────────┼─────────┼──────────┨\n",
       "┃\u001b[2m \u001b[0m\u001b[2mAirflow\u001b[0m\u001b[2m \u001b[0m│  83.54  │  9.21%  │  135.92  ┃\n",
       "┃\u001b[2m \u001b[0m\u001b[2mPres   \u001b[0m\u001b[2m \u001b[0m│  6.65   │ 710.25% │  10.04   ┃\n",
       "┗━━━━━━━━━┷━━━━━━━━━┷━━━━━━━━━┷━━━━━━━━━━┛\n"
      ]
     },
     "metadata": {},
     "output_type": "display_data"
    },
    {
     "name": "stdout",
     "output_type": "stream",
     "text": [
      "Best Parameters for Lasso : {'alpha': 0.09}\n",
      "Best Score for Lasso : -8.747868814758727\n",
      "===============================================\n",
      "\n",
      "\n",
      "===============================================\n",
      "Training ElasticNet... \n",
      "--------------------------------------------------------------------------------\n",
      "Fitting 5 folds for each of 100 candidates, totalling 500 fits\n"
     ]
    },
    {
     "data": {
      "text/html": [
       "<pre style=\"white-space:pre;overflow-x:auto;line-height:normal;font-family:Menlo,'DejaVu Sans Mono',consolas,'Courier New',monospace\"><span style=\"font-style: italic\">                ElasticNet                </span>\n",
       "┏━━━━━━━━━┯━━━━━━━━━┯━━━━━━━━━┯━━━━━━━━━━┓\n",
       "┃<span style=\"font-weight: bold\"> Feature </span>│<span style=\"font-weight: bold\"> MAE(Pa) </span>│<span style=\"font-weight: bold\">  MAPE   </span>│<span style=\"font-weight: bold\"> RMSE(Pa) </span>┃\n",
       "┠─────────┼─────────┼─────────┼──────────┨\n",
       "┃<span style=\"color: #7f7f7f; text-decoration-color: #7f7f7f\"> Airflow </span>│  83.34  │  9.28%  │  135.11  ┃\n",
       "┃<span style=\"color: #7f7f7f; text-decoration-color: #7f7f7f\"> Pres    </span>│  6.69   │ 732.11% │   9.98   ┃\n",
       "┗━━━━━━━━━┷━━━━━━━━━┷━━━━━━━━━┷━━━━━━━━━━┛\n",
       "</pre>\n"
      ],
      "text/plain": [
       "\u001b[3m                ElasticNet                \u001b[0m\n",
       "┏━━━━━━━━━┯━━━━━━━━━┯━━━━━━━━━┯━━━━━━━━━━┓\n",
       "┃\u001b[1m \u001b[0m\u001b[1mFeature\u001b[0m\u001b[1m \u001b[0m│\u001b[1m \u001b[0m\u001b[1mMAE(Pa)\u001b[0m\u001b[1m \u001b[0m│\u001b[1m \u001b[0m\u001b[1m MAPE  \u001b[0m\u001b[1m \u001b[0m│\u001b[1m \u001b[0m\u001b[1mRMSE(Pa)\u001b[0m\u001b[1m \u001b[0m┃\n",
       "┠─────────┼─────────┼─────────┼──────────┨\n",
       "┃\u001b[2m \u001b[0m\u001b[2mAirflow\u001b[0m\u001b[2m \u001b[0m│  83.34  │  9.28%  │  135.11  ┃\n",
       "┃\u001b[2m \u001b[0m\u001b[2mPres   \u001b[0m\u001b[2m \u001b[0m│  6.69   │ 732.11% │   9.98   ┃\n",
       "┗━━━━━━━━━┷━━━━━━━━━┷━━━━━━━━━┷━━━━━━━━━━┛\n"
      ]
     },
     "metadata": {},
     "output_type": "display_data"
    },
    {
     "name": "stdout",
     "output_type": "stream",
     "text": [
      "Best Parameters for ElasticNet : {'alpha': 0.9090909090909091, 'l1_ratio': 0.9090909090909092}\n",
      "Best Score for ElasticNet : -8.819495350001704\n",
      "===============================================\n",
      "\n",
      "\n"
     ]
    }
   ],
   "source": [
    "lr_param_grid = {\n",
    "    \"LinearRegression\": {},\n",
    "    # \"Ridge\": {\"alpha\": np.linspace(14, 15, 20 + 2)[1:-1]},\n",
    "    \"Ridge\": {\"alpha\": [0]},\n",
    "    # \"Lasso\": {\"alpha\": np.linspace(0, 100, 100 + 2)[1:-1]},\n",
    "    \"Lasso\": {\"alpha\": [0.09]},\n",
    "    \"ElasticNet\": {\n",
    "        \"alpha\": np.linspace(0, 10, 10 + 2)[1:-1],\n",
    "        \"l1_ratio\": np.linspace(0, 1, 10 + 2)[1:-1],  # 0.89\n",
    "    },\n",
    "}\n",
    "\n",
    "lr_models = {\n",
    "    \"LinearRegression\": LinearRegression(),\n",
    "    \"Ridge\": Ridge(max_iter=10000),\n",
    "    \"Lasso\": Lasso(max_iter=1000000),\n",
    "    \"ElasticNet\": ElasticNet(fit_intercept=True, max_iter=1000000),\n",
    "}\n",
    "\n",
    "for model_name, model in lr_models.items():\n",
    "    print(\"=\" * 47)\n",
    "    print(f\"Training {model_name}... \")\n",
    "    print(\"-\" * 80)\n",
    "    grid_search = GridSearchCV(\n",
    "        model,\n",
    "        param_grid=lr_param_grid[model_name],\n",
    "        scoring=get_ccp_scoring(),\n",
    "        refit=\"pres_rmse\",\n",
    "        cv=KFold(n_splits=5, shuffle=True, random_state=42),\n",
    "        verbose=1,\n",
    "        n_jobs=1,\n",
    "    )\n",
    "    grid_search.fit(x_train, y_train)\n",
    "    calculate_metrics(\n",
    "        grid_search.best_estimator_.predict(x_test),\n",
    "        y_test,\n",
    "        print_metrics=True,\n",
    "        title=model_name,\n",
    "    )\n",
    "    print(\"Best Parameters for\", model_name, \":\", grid_search.best_params_)\n",
    "    print(\"Best Score for\", model_name, \":\", grid_search.best_score_)\n",
    "    print(\"=\" * 47 + \"\\n\" * 2)"
   ]
  }
 ],
 "metadata": {
  "kernelspec": {
   "display_name": "Python 3 (ipykernel)",
   "language": "python",
   "name": "python3"
  },
  "language_info": {
   "codemirror_mode": {
    "name": "ipython",
    "version": 3
   },
   "file_extension": ".py",
   "mimetype": "text/x-python",
   "name": "python",
   "nbconvert_exporter": "python",
   "pygments_lexer": "ipython3",
   "version": "3.10.11"
  },
  "toc-autonumbering": true,
  "toc-showcode": false,
  "toc-showtags": false
 },
 "nbformat": 4,
 "nbformat_minor": 4
}
