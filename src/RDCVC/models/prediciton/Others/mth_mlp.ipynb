{
 "cells": [
  {
   "cell_type": "markdown",
   "metadata": {},
   "source": [
    "# MLP\n",
    "\n",
    "multi_layer_perceptron"
   ]
  },
  {
   "cell_type": "code",
   "execution_count": 1,
   "metadata": {},
   "outputs": [],
   "source": [
    "import numpy as np\n",
    "\n",
    "# ml\n",
    "from sklearn.model_selection import (\n",
    "    KFold,\n",
    "    cross_validate,\n",
    "    GridSearchCV,\n",
    "    RepeatedKFold,\n",
    "    train_test_split,\n",
    ")\n",
    "from sklearn.neural_network import MLPRegressor\n",
    "from sklearn.preprocessing import StandardScaler\n",
    "from utils.metrics import calculate_metrics, get_ccp_scoring, print_results_table\n",
    "from utils.datasets import load_and_split_data"
   ]
  },
  {
   "cell_type": "code",
   "execution_count": 2,
   "metadata": {},
   "outputs": [
    {
     "name": "stdout",
     "output_type": "stream",
     "text": [
      "训练集大小: 350\n",
      "测试集大小: 39\n"
     ]
    }
   ],
   "source": [
    "data_path = \"../../data/processed/rdc_data_cleaned.csv\"\n",
    "X_raw, Y_raw = load_and_split_data(data_path, test_size=0.1, is_split=False)\n",
    "\n",
    "\n",
    "scaler_x = StandardScaler()\n",
    "scaler_y = StandardScaler()\n",
    "\n",
    "X_scaled = scaler_x.fit_transform(X_raw)\n",
    "y_scaled = scaler_y.fit_transform(Y_raw)\n",
    "\n",
    "# 划分训练集和测试集\n",
    "x_train, x_test, y_train, y_test = train_test_split(\n",
    "    X_scaled, y_scaled, test_size=0.1, random_state=42\n",
    ")\n",
    "\n",
    "# 打印划分后的数据集大小\n",
    "print(\"训练集大小:\", len(x_train))\n",
    "print(\"测试集大小:\", len(x_test))"
   ]
  },
  {
   "cell_type": "code",
   "execution_count": 13,
   "metadata": {},
   "outputs": [
    {
     "name": "stdout",
     "output_type": "stream",
     "text": [
      "Fitting 5 folds for each of 240 candidates, totalling 1200 fits\n"
     ]
    },
    {
     "data": {
      "text/html": [
       "<pre style=\"white-space:pre;overflow-x:auto;line-height:normal;font-family:Menlo,'DejaVu Sans Mono',consolas,'Courier New',monospace\"><span style=\"font-style: italic\">            single-layer MLP             </span>\n",
       "┏━━━━━━━━━┯━━━━━━━━━┯━━━━━━━━┯━━━━━━━━━━┓\n",
       "┃<span style=\"font-weight: bold\"> Feature </span>│<span style=\"font-weight: bold\"> MAE(Pa) </span>│<span style=\"font-weight: bold\">  MAPE  </span>│<span style=\"font-weight: bold\"> RMSE(Pa) </span>┃\n",
       "┠─────────┼─────────┼────────┼──────────┨\n",
       "┃<span style=\"color: #7f7f7f; text-decoration-color: #7f7f7f\"> Airflow </span>│  59.79  │ 5.87%  │  87.06   ┃\n",
       "┃<span style=\"color: #7f7f7f; text-decoration-color: #7f7f7f\"> Pres    </span>│  3.30   │ 51.61% │   5.08   ┃\n",
       "┗━━━━━━━━━┷━━━━━━━━━┷━━━━━━━━┷━━━━━━━━━━┛\n",
       "</pre>\n"
      ],
      "text/plain": [
       "\u001b[3m            single-layer MLP             \u001b[0m\n",
       "┏━━━━━━━━━┯━━━━━━━━━┯━━━━━━━━┯━━━━━━━━━━┓\n",
       "┃\u001b[1m \u001b[0m\u001b[1mFeature\u001b[0m\u001b[1m \u001b[0m│\u001b[1m \u001b[0m\u001b[1mMAE(Pa)\u001b[0m\u001b[1m \u001b[0m│\u001b[1m \u001b[0m\u001b[1m MAPE \u001b[0m\u001b[1m \u001b[0m│\u001b[1m \u001b[0m\u001b[1mRMSE(Pa)\u001b[0m\u001b[1m \u001b[0m┃\n",
       "┠─────────┼─────────┼────────┼──────────┨\n",
       "┃\u001b[2m \u001b[0m\u001b[2mAirflow\u001b[0m\u001b[2m \u001b[0m│  59.79  │ 5.87%  │  87.06   ┃\n",
       "┃\u001b[2m \u001b[0m\u001b[2mPres   \u001b[0m\u001b[2m \u001b[0m│  3.30   │ 51.61% │   5.08   ┃\n",
       "┗━━━━━━━━━┷━━━━━━━━━┷━━━━━━━━┷━━━━━━━━━━┛\n"
      ]
     },
     "metadata": {},
     "output_type": "display_data"
    },
    {
     "name": "stdout",
     "output_type": "stream",
     "text": [
      "Best Parameters for single-layer MLP : {'hidden_layer_sizes': 1600, 'learning_rate': 'constant', 'learning_rate_init': 0.001, 'solver': 'adam'}\n",
      "Best Score for single-layer MLP : -0.1305227207528842\n",
      "===============================================\n",
      "\n",
      "\n"
     ]
    }
   ],
   "source": [
    "model_name = \"single-layer MLP\"\n",
    "\n",
    "x_train, x_test, y_train, y_test = train_test_split(\n",
    "    X_scaled, y_scaled, test_size=0.1, random_state=42\n",
    ")\n",
    "\n",
    "grid_search = GridSearchCV(\n",
    "    MLPRegressor(activation=\"relu\", max_iter=2000, random_state=42),\n",
    "    param_grid=[\n",
    "        {\n",
    "            \"hidden_layer_sizes\": range(1500, 1700, 5),\n",
    "            \"solver\": [\"sgd\", \"adam\"],\n",
    "            \"learning_rate\": [\"constant\", \"invscaling\", \"adaptive\"],\n",
    "            \"learning_rate_init\": [0.001],\n",
    "        },\n",
    "    ],\n",
    "    scoring=\"neg_mean_absolute_error\",\n",
    "    cv=KFold(n_splits=5, shuffle=True, random_state=42),\n",
    "    verbose=1,\n",
    "    n_jobs=-1,\n",
    ")\n",
    "grid_search.fit(x_train, y_train)\n",
    "calculate_metrics(\n",
    "    scaler_y.inverse_transform(grid_search.best_estimator_.predict(x_test)),\n",
    "    scaler_y.inverse_transform(y_test),\n",
    "    print_metrics=True,\n",
    "    title=model_name,\n",
    ")\n",
    "print(\"Best Parameters for\", model_name, \":\", grid_search.best_params_)\n",
    "print(\"Best Score for\", model_name, \":\", grid_search.best_score_)\n",
    "print(\"=\" * 47 + \"\\n\" * 2)"
   ]
  }
 ],
 "metadata": {
  "kernelspec": {
   "display_name": "Python 3",
   "language": "python",
   "name": "python3"
  },
  "language_info": {
   "codemirror_mode": {
    "name": "ipython",
    "version": 3
   },
   "file_extension": ".py",
   "mimetype": "text/x-python",
   "name": "python",
   "nbconvert_exporter": "python",
   "pygments_lexer": "ipython3",
   "version": "3.10.11"
  }
 },
 "nbformat": 4,
 "nbformat_minor": 2
}
