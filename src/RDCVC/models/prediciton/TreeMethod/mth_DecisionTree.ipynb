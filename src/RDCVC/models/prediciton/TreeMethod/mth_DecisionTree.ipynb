{
 "cells": [
  {
   "cell_type": "markdown",
   "metadata": {},
   "source": [
    "# Decision Tree "
   ]
  },
  {
   "cell_type": "code",
   "execution_count": 1,
   "metadata": {
    "notebookRunGroups": {
     "groupValue": ""
    },
    "tags": []
   },
   "outputs": [],
   "source": [
    "import numpy as np\n",
    "\n",
    "# ml\n",
    "from sklearn.model_selection import (\n",
    "    KFold,\n",
    "    cross_validate,\n",
    "    GridSearchCV,\n",
    "    RepeatedKFold,\n",
    "    train_test_split,\n",
    ")\n",
    "from sklearn.tree import DecisionTreeRegressor\n",
    "from sklearn.preprocessing import StandardScaler\n",
    "from utils.metrics import calculate_metrics, get_ccp_scoring, print_results_table\n",
    "from utils.datasets import load_and_split_data"
   ]
  },
  {
   "cell_type": "code",
   "execution_count": 2,
   "metadata": {
    "tags": []
   },
   "outputs": [],
   "source": [
    "# 设置显示中文字体\n",
    "\n",
    "from pylab import mpl\n",
    "\n",
    "mpl.rcParams[\"font.sans-serif\"] = [\"SimHei\"]\n",
    "# 设置正常显示符号\n",
    "mpl.rcParams[\"axes.unicode_minus\"] = False"
   ]
  },
  {
   "cell_type": "markdown",
   "metadata": {},
   "source": [
    "data preprocessing"
   ]
  },
  {
   "cell_type": "code",
   "execution_count": 19,
   "metadata": {},
   "outputs": [
    {
     "name": "stdout",
     "output_type": "stream",
     "text": [
      "训练集大小: 350\n",
      "测试集大小: 39\n"
     ]
    }
   ],
   "source": [
    "data_path = \"../../data/processed/rdc_data_cleaned.csv\"\n",
    "X_raw, Y_raw = load_and_split_data(data_path, test_size=0.1, is_split=False)\n",
    "\n",
    "\n",
    "scaler_x = StandardScaler()\n",
    "scaler_y = StandardScaler()\n",
    "\n",
    "X_scaled = scaler_x.fit_transform(X_raw)\n",
    "y_scaled = scaler_y.fit_transform(Y_raw)\n",
    "\n",
    "# 划分训练集和测试集\n",
    "x_train, x_test, y_train, y_test = train_test_split(\n",
    "    X_scaled, y_scaled, test_size=0.1, random_state=42\n",
    ")\n",
    "\n",
    "# 打印划分后的数据集大小\n",
    "print(\"训练集大小:\", len(x_train))\n",
    "print(\"测试集大小:\", len(x_test))"
   ]
  },
  {
   "cell_type": "markdown",
   "metadata": {},
   "source": [
    "## Single Training"
   ]
  },
  {
   "cell_type": "code",
   "execution_count": 11,
   "metadata": {
    "tags": []
   },
   "outputs": [
    {
     "data": {
      "text/html": [
       "<pre style=\"white-space:pre;overflow-x:auto;line-height:normal;font-family:Menlo,'DejaVu Sans Mono',consolas,'Courier New',monospace\"><span style=\"font-style: italic\">     CCP Predictive Modeling Metrics      </span>\n",
       "┏━━━━━━━━━┯━━━━━━━━━┯━━━━━━━━━┯━━━━━━━━━━┓\n",
       "┃<span style=\"font-weight: bold\"> Feature </span>│<span style=\"font-weight: bold\"> MAE(Pa) </span>│<span style=\"font-weight: bold\">  MAPE   </span>│<span style=\"font-weight: bold\"> RMSE(Pa) </span>┃\n",
       "┠─────────┼─────────┼─────────┼──────────┨\n",
       "┃<span style=\"color: #7f7f7f; text-decoration-color: #7f7f7f\"> Airflow </span>│ 160.12  │ 12.24%  │  249.61  ┃\n",
       "┃<span style=\"color: #7f7f7f; text-decoration-color: #7f7f7f\"> Pres    </span>│  13.49  │ 881.19% │  20.07   ┃\n",
       "┗━━━━━━━━━┷━━━━━━━━━┷━━━━━━━━━┷━━━━━━━━━━┛\n",
       "</pre>\n"
      ],
      "text/plain": [
       "\u001b[3m     CCP Predictive Modeling Metrics      \u001b[0m\n",
       "┏━━━━━━━━━┯━━━━━━━━━┯━━━━━━━━━┯━━━━━━━━━━┓\n",
       "┃\u001b[1m \u001b[0m\u001b[1mFeature\u001b[0m\u001b[1m \u001b[0m│\u001b[1m \u001b[0m\u001b[1mMAE(Pa)\u001b[0m\u001b[1m \u001b[0m│\u001b[1m \u001b[0m\u001b[1m MAPE  \u001b[0m\u001b[1m \u001b[0m│\u001b[1m \u001b[0m\u001b[1mRMSE(Pa)\u001b[0m\u001b[1m \u001b[0m┃\n",
       "┠─────────┼─────────┼─────────┼──────────┨\n",
       "┃\u001b[2m \u001b[0m\u001b[2mAirflow\u001b[0m\u001b[2m \u001b[0m│ 160.12  │ 12.24%  │  249.61  ┃\n",
       "┃\u001b[2m \u001b[0m\u001b[2mPres   \u001b[0m\u001b[2m \u001b[0m│  13.49  │ 881.19% │  20.07   ┃\n",
       "┗━━━━━━━━━┷━━━━━━━━━┷━━━━━━━━━┷━━━━━━━━━━┛\n"
      ]
     },
     "metadata": {},
     "output_type": "display_data"
    }
   ],
   "source": [
    "x_train, x_test, y_train, y_test = load_and_split_data(data_path, test_size=0.1)\n",
    "\n",
    "_model = DecisionTreeRegressor(criterion=\"absolute_error\").fit(x_train, y_train)\n",
    "calculate_metrics(\n",
    "    _model.predict(x_test),\n",
    "    y_test,\n",
    "    print_metrics=True,\n",
    ")"
   ]
  },
  {
   "cell_type": "markdown",
   "metadata": {},
   "source": [
    "## Single Training(scaled)"
   ]
  },
  {
   "cell_type": "code",
   "execution_count": 13,
   "metadata": {},
   "outputs": [
    {
     "data": {
      "text/html": [
       "<pre style=\"white-space:pre;overflow-x:auto;line-height:normal;font-family:Menlo,'DejaVu Sans Mono',consolas,'Courier New',monospace\"><span style=\"font-style: italic\">       CCP Predictive Modeling Metrics        </span>\n",
       "┏━━━━━━━━━┯━━━━━━━━━┯━━━━━━━━━━━━━┯━━━━━━━━━━┓\n",
       "┃<span style=\"font-weight: bold\"> Feature </span>│<span style=\"font-weight: bold\"> MAE(Pa) </span>│<span style=\"font-weight: bold\">    MAPE     </span>│<span style=\"font-weight: bold\"> RMSE(Pa) </span>┃\n",
       "┠─────────┼─────────┼─────────────┼──────────┨\n",
       "┃<span style=\"color: #7f7f7f; text-decoration-color: #7f7f7f\"> Airflow </span>│ 1613.82 │ 1873396.97% │ 1762.20  ┃\n",
       "┃<span style=\"color: #7f7f7f; text-decoration-color: #7f7f7f\"> Pres    </span>│  12.91  │  7884.78%   │  16.17   ┃\n",
       "┗━━━━━━━━━┷━━━━━━━━━┷━━━━━━━━━━━━━┷━━━━━━━━━━┛\n",
       "</pre>\n"
      ],
      "text/plain": [
       "\u001b[3m       CCP Predictive Modeling Metrics        \u001b[0m\n",
       "┏━━━━━━━━━┯━━━━━━━━━┯━━━━━━━━━━━━━┯━━━━━━━━━━┓\n",
       "┃\u001b[1m \u001b[0m\u001b[1mFeature\u001b[0m\u001b[1m \u001b[0m│\u001b[1m \u001b[0m\u001b[1mMAE(Pa)\u001b[0m\u001b[1m \u001b[0m│\u001b[1m \u001b[0m\u001b[1m   MAPE    \u001b[0m\u001b[1m \u001b[0m│\u001b[1m \u001b[0m\u001b[1mRMSE(Pa)\u001b[0m\u001b[1m \u001b[0m┃\n",
       "┠─────────┼─────────┼─────────────┼──────────┨\n",
       "┃\u001b[2m \u001b[0m\u001b[2mAirflow\u001b[0m\u001b[2m \u001b[0m│ 1613.82 │ 1873396.97% │ 1762.20  ┃\n",
       "┃\u001b[2m \u001b[0m\u001b[2mPres   \u001b[0m\u001b[2m \u001b[0m│  12.91  │  7884.78%   │  16.17   ┃\n",
       "┗━━━━━━━━━┷━━━━━━━━━┷━━━━━━━━━━━━━┷━━━━━━━━━━┛\n"
      ]
     },
     "metadata": {},
     "output_type": "display_data"
    }
   ],
   "source": [
    "x_train, x_test, y_train, y_test = train_test_split(\n",
    "    X_scaled, y_scaled, test_size=0.1, random_state=42\n",
    ")\n",
    "\n",
    "_model = DecisionTreeRegressor(criterion=\"absolute_error\").fit(x_train, y_train)\n",
    "calculate_metrics(\n",
    "    scaler_y.inverse_transform(_model.predict(scaler_x.transform(x_test))),\n",
    "    y_test,\n",
    "    print_metrics=True,\n",
    ")"
   ]
  },
  {
   "cell_type": "markdown",
   "metadata": {},
   "source": [
    "保存模型"
   ]
  },
  {
   "cell_type": "code",
   "execution_count": null,
   "metadata": {},
   "outputs": [],
   "source": [
    "# xgb.save_model(\"path\")"
   ]
  },
  {
   "cell_type": "code",
   "execution_count": null,
   "metadata": {},
   "outputs": [
    {
     "data": {
      "text/html": [
       "<pre style=\"white-space:pre;overflow-x:auto;line-height:normal;font-family:Menlo,'DejaVu Sans Mono',consolas,'Courier New',monospace\"><span style=\"font-style: italic\">                         CCP Predictive Modeling Results                          </span>\n",
       "┏━━━━━━━━━━━━━━┳━━━━━━━━━━┳━━━━━━━━━━┳━━━━━━━━━━┳━━━━━━━━━━┳━━━━━━━━━━┳━━━━━━━━━━┓\n",
       "┃<span style=\"color: #c0c0c0; text-decoration-color: #c0c0c0; background-color: #000080; font-weight: bold\"> Metric       </span>┃<span style=\"color: #c0c0c0; text-decoration-color: #c0c0c0; background-color: #000080; font-weight: bold\"> Mean     </span>┃<span style=\"color: #c0c0c0; text-decoration-color: #c0c0c0; background-color: #000080; font-weight: bold\"> Fold 1   </span>┃<span style=\"color: #c0c0c0; text-decoration-color: #c0c0c0; background-color: #000080; font-weight: bold\"> Fold 2   </span>┃<span style=\"color: #c0c0c0; text-decoration-color: #c0c0c0; background-color: #000080; font-weight: bold\"> Fold 3   </span>┃<span style=\"color: #c0c0c0; text-decoration-color: #c0c0c0; background-color: #000080; font-weight: bold\"> Fold 4   </span>┃<span style=\"color: #c0c0c0; text-decoration-color: #c0c0c0; background-color: #000080; font-weight: bold\"> Fold 5   </span>┃\n",
       "┡━━━━━━━━━━━━━━╇━━━━━━━━━━╇━━━━━━━━━━╇━━━━━━━━━━╇━━━━━━━━━━╇━━━━━━━━━━╇━━━━━━━━━━┩\n",
       "│ score        │ -2286.04 │ -1982.89 │ -3081.41 │ -1547.35 │ -2115.60 │ -2224.41 │\n",
       "│ airflow_mae  │ -133.76  │ -130.37  │ -152.37  │ -117.56  │ -119.97  │ -135.81  │\n",
       "│ airflow_rmse │ -197.91  │ -188.74  │ -233.16  │ -164.24  │ -179.45  │ -195.30  │\n",
       "│ pres_mae     │ -12.09   │ -11.95   │ -11.78   │ -11.35   │ -12.71   │ -12.87   │\n",
       "│ pres_rmse    │ -17.38   │ -17.34   │ -17.01   │ -15.66   │ -18.67   │ -18.19   │\n",
       "└──────────────┴──────────┴──────────┴──────────┴──────────┴──────────┴──────────┘\n",
       "</pre>\n"
      ],
      "text/plain": [
       "\u001b[3m                         CCP Predictive Modeling Results                          \u001b[0m\n",
       "┏━━━━━━━━━━━━━━┳━━━━━━━━━━┳━━━━━━━━━━┳━━━━━━━━━━┳━━━━━━━━━━┳━━━━━━━━━━┳━━━━━━━━━━┓\n",
       "┃\u001b[1;37;44m \u001b[0m\u001b[1;37;44mMetric      \u001b[0m\u001b[1;37;44m \u001b[0m┃\u001b[1;37;44m \u001b[0m\u001b[1;37;44mMean    \u001b[0m\u001b[1;37;44m \u001b[0m┃\u001b[1;37;44m \u001b[0m\u001b[1;37;44mFold 1  \u001b[0m\u001b[1;37;44m \u001b[0m┃\u001b[1;37;44m \u001b[0m\u001b[1;37;44mFold 2  \u001b[0m\u001b[1;37;44m \u001b[0m┃\u001b[1;37;44m \u001b[0m\u001b[1;37;44mFold 3  \u001b[0m\u001b[1;37;44m \u001b[0m┃\u001b[1;37;44m \u001b[0m\u001b[1;37;44mFold 4  \u001b[0m\u001b[1;37;44m \u001b[0m┃\u001b[1;37;44m \u001b[0m\u001b[1;37;44mFold 5  \u001b[0m\u001b[1;37;44m \u001b[0m┃\n",
       "┡━━━━━━━━━━━━━━╇━━━━━━━━━━╇━━━━━━━━━━╇━━━━━━━━━━╇━━━━━━━━━━╇━━━━━━━━━━╇━━━━━━━━━━┩\n",
       "│ score        │ -2286.04 │ -1982.89 │ -3081.41 │ -1547.35 │ -2115.60 │ -2224.41 │\n",
       "│ airflow_mae  │ -133.76  │ -130.37  │ -152.37  │ -117.56  │ -119.97  │ -135.81  │\n",
       "│ airflow_rmse │ -197.91  │ -188.74  │ -233.16  │ -164.24  │ -179.45  │ -195.30  │\n",
       "│ pres_mae     │ -12.09   │ -11.95   │ -11.78   │ -11.35   │ -12.71   │ -12.87   │\n",
       "│ pres_rmse    │ -17.38   │ -17.34   │ -17.01   │ -15.66   │ -18.67   │ -18.19   │\n",
       "└──────────────┴──────────┴──────────┴──────────┴──────────┴──────────┴──────────┘\n"
      ]
     },
     "metadata": {},
     "output_type": "display_data"
    }
   ],
   "source": [
    "_model = DecisionTreeRegressor()\n",
    "\n",
    "cv_mthd = RepeatedKFold(n_splits=5, n_repeats=3, random_state=44)\n",
    "ccp_scoring = get_ccp_scoring()\n",
    "results = cross_validate(_model, X=x_train, y=y_train, cv=cv_mthd, scoring=ccp_scoring)\n",
    "print_results_table(results, ccp_scoring)"
   ]
  },
  {
   "cell_type": "markdown",
   "metadata": {},
   "source": [
    "## Grid Search"
   ]
  },
  {
   "cell_type": "markdown",
   "metadata": {},
   "source": [
    "1. criterion"
   ]
  },
  {
   "cell_type": "code",
   "execution_count": null,
   "metadata": {},
   "outputs": [
    {
     "name": "stdout",
     "output_type": "stream",
     "text": [
      "Fitting 10 folds for each of 3 candidates, totalling 30 fits\n"
     ]
    },
    {
     "data": {
      "text/html": [
       "<pre style=\"white-space:pre;overflow-x:auto;line-height:normal;font-family:Menlo,'DejaVu Sans Mono',consolas,'Courier New',monospace\"><span style=\"font-style: italic\">               DT_criterion               </span>\n",
       "┏━━━━━━━━━┯━━━━━━━━━┯━━━━━━━━━┯━━━━━━━━━━┓\n",
       "┃<span style=\"font-weight: bold\"> Feature </span>│<span style=\"font-weight: bold\"> MAE(Pa) </span>│<span style=\"font-weight: bold\">  MAPE   </span>│<span style=\"font-weight: bold\"> RMSE(Pa) </span>┃\n",
       "┠─────────┼─────────┼─────────┼──────────┨\n",
       "┃<span style=\"color: #7f7f7f; text-decoration-color: #7f7f7f\"> Airflow </span>│ 166.90  │ 12.81%  │  257.60  ┃\n",
       "┃<span style=\"color: #7f7f7f; text-decoration-color: #7f7f7f\"> Pres    </span>│  13.71  │ 332.93% │  19.98   ┃\n",
       "┗━━━━━━━━━┷━━━━━━━━━┷━━━━━━━━━┷━━━━━━━━━━┛\n",
       "</pre>\n"
      ],
      "text/plain": [
       "\u001b[3m               DT_criterion               \u001b[0m\n",
       "┏━━━━━━━━━┯━━━━━━━━━┯━━━━━━━━━┯━━━━━━━━━━┓\n",
       "┃\u001b[1m \u001b[0m\u001b[1mFeature\u001b[0m\u001b[1m \u001b[0m│\u001b[1m \u001b[0m\u001b[1mMAE(Pa)\u001b[0m\u001b[1m \u001b[0m│\u001b[1m \u001b[0m\u001b[1m MAPE  \u001b[0m\u001b[1m \u001b[0m│\u001b[1m \u001b[0m\u001b[1mRMSE(Pa)\u001b[0m\u001b[1m \u001b[0m┃\n",
       "┠─────────┼─────────┼─────────┼──────────┨\n",
       "┃\u001b[2m \u001b[0m\u001b[2mAirflow\u001b[0m\u001b[2m \u001b[0m│ 166.90  │ 12.81%  │  257.60  ┃\n",
       "┃\u001b[2m \u001b[0m\u001b[2mPres   \u001b[0m\u001b[2m \u001b[0m│  13.71  │ 332.93% │  19.98   ┃\n",
       "┗━━━━━━━━━┷━━━━━━━━━┷━━━━━━━━━┷━━━━━━━━━━┛\n"
      ]
     },
     "metadata": {},
     "output_type": "display_data"
    },
    {
     "name": "stdout",
     "output_type": "stream",
     "text": [
      "Best Parameters for DT_criterion : {'criterion': 'absolute_error'}\n",
      "Best Score for DT_criterion : -16.54290973444536\n"
     ]
    }
   ],
   "source": [
    "model_name = \"DT_criterion\"\n",
    "x_train, x_test, y_train, y_test = load_and_split_data(data_path, test_size=0.1)\n",
    "grid_search = GridSearchCV(\n",
    "    DecisionTreeRegressor(),\n",
    "    param_grid=[\n",
    "        {\n",
    "            \"criterion\": [\"squared_error\", \"friedman_mse\", \"absolute_error\"],\n",
    "        },\n",
    "    ],\n",
    "    scoring=get_ccp_scoring(),\n",
    "    refit=\"pres_rmse\",\n",
    "    cv=KFold(n_splits=10, shuffle=True, random_state=42),\n",
    "    verbose=1,\n",
    "    n_jobs=-1,\n",
    ")\n",
    "grid_search.fit(x_train, y_train)\n",
    "calculate_metrics(\n",
    "    grid_search.best_estimator_.predict(x_test),\n",
    "    y_test,\n",
    "    print_metrics=True,\n",
    "    title=model_name,\n",
    ")\n",
    "print(\"Best Parameters for\", model_name, \":\", grid_search.best_params_)\n",
    "print(\"Best Score for\", model_name, \":\", grid_search.best_score_)"
   ]
  },
  {
   "cell_type": "markdown",
   "metadata": {},
   "source": [
    "2. max_depth"
   ]
  },
  {
   "cell_type": "markdown",
   "metadata": {},
   "source": [
    "粗粒度"
   ]
  },
  {
   "cell_type": "code",
   "execution_count": null,
   "metadata": {},
   "outputs": [
    {
     "name": "stdout",
     "output_type": "stream",
     "text": [
      "最优参数以及最高得分: [    6.         -1820.71325575]\n"
     ]
    },
    {
     "data": {
      "image/png": "[encoded data removed]",
      "text/plain": [
       "<Figure size 2000x500 with 1 Axes>"
      ]
     },
     "metadata": {},
     "output_type": "display_data"
    }
   ],
   "source": [
    "###在大范围内画出max_depth这个参数变化曲线\n",
    "ScoreAll = []\n",
    "for i in range(1, 20):\n",
    "    _DT_max_depth = DecisionTreeRegressor(max_depth=i, random_state=42)\n",
    "    score = cross_validate(\n",
    "        _DT_max_depth, x_train, y_train, scoring=get_ccp_scoring(), n_jobs=-1, cv=10\n",
    "    )[\"test_score\"].mean()\n",
    "    ScoreAll.append([i, score])\n",
    "ScoreAll = np.array(ScoreAll)\n",
    "# 找出最高得分对应的索引\n",
    "best_score = np.where(ScoreAll == np.max(ScoreAll[:, 1]))[0][0]\n",
    "print(\"最优参数以及最高得分:\", ScoreAll[best_score])\n",
    "\n",
    "# print(ScoreAll[,0])\n",
    "plt.figure(figsize=[20, 5])\n",
    "plt.plot(ScoreAll[:, 0], ScoreAll[:, 1])\n",
    "plt.show()"
   ]
  },
  {
   "cell_type": "markdown",
   "metadata": {},
   "source": [
    "细粒度"
   ]
  },
  {
   "cell_type": "code",
   "execution_count": null,
   "metadata": {},
   "outputs": [
    {
     "name": "stdout",
     "output_type": "stream",
     "text": [
      "最优参数以及最高得分: [    6.         -1820.71325575]\n"
     ]
    },
    {
     "data": {
      "image/png": "[encoded data removed]",
      "text/plain": [
       "<Figure size 2000x500 with 1 Axes>"
      ]
     },
     "metadata": {},
     "output_type": "display_data"
    }
   ],
   "source": [
    "###进一步缩小max_depth这个参数的范围\n",
    "ScoreAll = []\n",
    "for i in range(1, 15):\n",
    "    _DT_max_depth = DecisionTreeRegressor(max_depth=i, random_state=42)\n",
    "    score = cross_validate(\n",
    "        _DT_max_depth, x_train, y_train, scoring=get_ccp_scoring(), n_jobs=-1, cv=10\n",
    "    )[\"test_score\"].mean()\n",
    "    ScoreAll.append([i, score])\n",
    "ScoreAll = np.array(ScoreAll)\n",
    "# 找出最高得分对应的索引\n",
    "best_score = np.where(ScoreAll == np.max(ScoreAll[:, 1]))[0][0]\n",
    "print(\"最优参数以及最高得分:\", ScoreAll[best_score])\n",
    "\n",
    "# print(ScoreAll[,0])\n",
    "plt.figure(figsize=[20, 5])\n",
    "plt.plot(ScoreAll[:, 0], ScoreAll[:, 1])\n",
    "plt.show()"
   ]
  },
  {
   "cell_type": "markdown",
   "metadata": {},
   "source": [
    "3. min_samples_split"
   ]
  },
  {
   "cell_type": "code",
   "execution_count": null,
   "metadata": {},
   "outputs": [
    {
     "name": "stdout",
     "output_type": "stream",
     "text": [
      "最优参数以及最高得分: [   19.         -1815.06877005]\n"
     ]
    },
    {
     "data": {
      "image/png": "[encoded data removed]",
      "text/plain": [
       "<Figure size 2000x500 with 1 Axes>"
      ]
     },
     "metadata": {},
     "output_type": "display_data"
    }
   ],
   "source": [
    "ScoreAll = []\n",
    "for i in range(10, 30):\n",
    "    _DT_max_depth = DecisionTreeRegressor(\n",
    "        max_depth=6, min_samples_split=i, random_state=42\n",
    "    )\n",
    "    score = cross_validate(\n",
    "        _DT_max_depth, x_train, y_train, scoring=get_ccp_scoring(), n_jobs=-1, cv=10\n",
    "    )[\"test_score\"].mean()\n",
    "    ScoreAll.append([i, score])\n",
    "ScoreAll = np.array(ScoreAll)\n",
    "# 找出最高得分对应的索引\n",
    "best_score = np.where(ScoreAll == np.max(ScoreAll[:, 1]))[0][0]\n",
    "print(\"最优参数以及最高得分:\", ScoreAll[best_score])\n",
    "\n",
    "# print(ScoreAll[,0])\n",
    "plt.figure(figsize=[20, 5])\n",
    "plt.plot(ScoreAll[:, 0], ScoreAll[:, 1])\n",
    "plt.show()"
   ]
  },
  {
   "cell_type": "markdown",
   "metadata": {},
   "source": [
    "Gird"
   ]
  },
  {
   "cell_type": "code",
   "execution_count": null,
   "metadata": {},
   "outputs": [
    {
     "name": "stdout",
     "output_type": "stream",
     "text": [
      "Fitting 10 folds for each of 200 candidates, totalling 2000 fits\n"
     ]
    },
    {
     "data": {
      "text/html": [
       "<pre style=\"white-space:pre;overflow-x:auto;line-height:normal;font-family:Menlo,'DejaVu Sans Mono',consolas,'Courier New',monospace\"><span style=\"font-style: italic\">                    DT                    </span>\n",
       "┏━━━━━━━━━┯━━━━━━━━━┯━━━━━━━━━┯━━━━━━━━━━┓\n",
       "┃<span style=\"font-weight: bold\"> Feature </span>│<span style=\"font-weight: bold\"> MAE(Pa) </span>│<span style=\"font-weight: bold\">  MAPE   </span>│<span style=\"font-weight: bold\"> RMSE(Pa) </span>┃\n",
       "┠─────────┼─────────┼─────────┼──────────┨\n",
       "┃<span style=\"color: #7f7f7f; text-decoration-color: #7f7f7f\"> Airflow </span>│ 141.96  │  9.94%  │  221.16  ┃\n",
       "┃<span style=\"color: #7f7f7f; text-decoration-color: #7f7f7f\"> Pres    </span>│  11.95  │ 347.54% │  18.13   ┃\n",
       "┗━━━━━━━━━┷━━━━━━━━━┷━━━━━━━━━┷━━━━━━━━━━┛\n",
       "</pre>\n"
      ],
      "text/plain": [
       "\u001b[3m                    DT                    \u001b[0m\n",
       "┏━━━━━━━━━┯━━━━━━━━━┯━━━━━━━━━┯━━━━━━━━━━┓\n",
       "┃\u001b[1m \u001b[0m\u001b[1mFeature\u001b[0m\u001b[1m \u001b[0m│\u001b[1m \u001b[0m\u001b[1mMAE(Pa)\u001b[0m\u001b[1m \u001b[0m│\u001b[1m \u001b[0m\u001b[1m MAPE  \u001b[0m\u001b[1m \u001b[0m│\u001b[1m \u001b[0m\u001b[1mRMSE(Pa)\u001b[0m\u001b[1m \u001b[0m┃\n",
       "┠─────────┼─────────┼─────────┼──────────┨\n",
       "┃\u001b[2m \u001b[0m\u001b[2mAirflow\u001b[0m\u001b[2m \u001b[0m│ 141.96  │  9.94%  │  221.16  ┃\n",
       "┃\u001b[2m \u001b[0m\u001b[2mPres   \u001b[0m\u001b[2m \u001b[0m│  11.95  │ 347.54% │  18.13   ┃\n",
       "┗━━━━━━━━━┷━━━━━━━━━┷━━━━━━━━━┷━━━━━━━━━━┛\n"
      ]
     },
     "metadata": {},
     "output_type": "display_data"
    },
    {
     "name": "stdout",
     "output_type": "stream",
     "text": [
      "Best Parameters for DT : {'criterion': 'squared_error', 'max_depth': 10, 'min_samples_split': 7, 'splitter': 'random'}\n",
      "Best Score for DT : -14.412142689278975\n"
     ]
    }
   ],
   "source": [
    "model_name = \"DT\"\n",
    "x_train, x_test, y_train, y_test = load_and_split_data(data_path, test_size=0.1)\n",
    "grid_search = GridSearchCV(\n",
    "    DecisionTreeRegressor(),\n",
    "    param_grid=[\n",
    "        {\n",
    "            \"criterion\": [\"squared_error\"],\n",
    "            \"splitter\": [\"best\", \"random\"],\n",
    "            \"max_depth\": range(5, 15),\n",
    "            \"min_samples_split\": range(5, 15),\n",
    "        },\n",
    "    ],\n",
    "    scoring=get_ccp_scoring(),\n",
    "    refit=\"pres_rmse\",\n",
    "    cv=KFold(n_splits=10, shuffle=True, random_state=42),\n",
    "    verbose=1,\n",
    "    n_jobs=-1,\n",
    ")\n",
    "grid_search.fit(x_train, y_train)\n",
    "calculate_metrics(\n",
    "    grid_search.best_estimator_.predict(x_test),\n",
    "    y_test,\n",
    "    print_metrics=True,\n",
    "    title=model_name,\n",
    ")\n",
    "print(\"Best Parameters for\", model_name, \":\", grid_search.best_params_)\n",
    "print(\"Best Score for\", model_name, \":\", grid_search.best_score_)"
   ]
  },
  {
   "cell_type": "markdown",
   "metadata": {},
   "source": [
    "保存模型"
   ]
  },
  {
   "cell_type": "code",
   "execution_count": 7,
   "metadata": {},
   "outputs": [],
   "source": [
    "# xgb.save_model(\"path\")"
   ]
  },
  {
   "cell_type": "code",
   "execution_count": 13,
   "metadata": {},
   "outputs": [
    {
     "data": {
      "text/html": [
       "<pre style=\"white-space:pre;overflow-x:auto;line-height:normal;font-family:Menlo,'DejaVu Sans Mono',consolas,'Courier New',monospace\"><span style=\"font-style: italic\">                         CCP Predictive Modeling Results                          </span>\n",
       "┏━━━━━━━━━━━━━━┳━━━━━━━━━━┳━━━━━━━━━━┳━━━━━━━━━━┳━━━━━━━━━━┳━━━━━━━━━━┳━━━━━━━━━━┓\n",
       "┃<span style=\"color: #c0c0c0; text-decoration-color: #c0c0c0; background-color: #000080; font-weight: bold\"> Metric       </span>┃<span style=\"color: #c0c0c0; text-decoration-color: #c0c0c0; background-color: #000080; font-weight: bold\"> Mean     </span>┃<span style=\"color: #c0c0c0; text-decoration-color: #c0c0c0; background-color: #000080; font-weight: bold\"> Fold 1   </span>┃<span style=\"color: #c0c0c0; text-decoration-color: #c0c0c0; background-color: #000080; font-weight: bold\"> Fold 2   </span>┃<span style=\"color: #c0c0c0; text-decoration-color: #c0c0c0; background-color: #000080; font-weight: bold\"> Fold 3   </span>┃<span style=\"color: #c0c0c0; text-decoration-color: #c0c0c0; background-color: #000080; font-weight: bold\"> Fold 4   </span>┃<span style=\"color: #c0c0c0; text-decoration-color: #c0c0c0; background-color: #000080; font-weight: bold\"> Fold 5   </span>┃\n",
       "┡━━━━━━━━━━━━━━╇━━━━━━━━━━╇━━━━━━━━━━╇━━━━━━━━━━╇━━━━━━━━━━╇━━━━━━━━━━╇━━━━━━━━━━┩\n",
       "│ score        │ -2286.04 │ -1982.89 │ -3081.41 │ -1547.35 │ -2115.60 │ -2224.41 │\n",
       "│ airflow_mae  │ -133.76  │ -130.37  │ -152.37  │ -117.56  │ -119.97  │ -135.81  │\n",
       "│ airflow_rmse │ -197.91  │ -188.74  │ -233.16  │ -164.24  │ -179.45  │ -195.30  │\n",
       "│ pres_mae     │ -12.09   │ -11.95   │ -11.78   │ -11.35   │ -12.71   │ -12.87   │\n",
       "│ pres_rmse    │ -17.38   │ -17.34   │ -17.01   │ -15.66   │ -18.67   │ -18.19   │\n",
       "└──────────────┴──────────┴──────────┴──────────┴──────────┴──────────┴──────────┘\n",
       "</pre>\n"
      ],
      "text/plain": [
       "\u001b[3m                         CCP Predictive Modeling Results                          \u001b[0m\n",
       "┏━━━━━━━━━━━━━━┳━━━━━━━━━━┳━━━━━━━━━━┳━━━━━━━━━━┳━━━━━━━━━━┳━━━━━━━━━━┳━━━━━━━━━━┓\n",
       "┃\u001b[1;37;44m \u001b[0m\u001b[1;37;44mMetric      \u001b[0m\u001b[1;37;44m \u001b[0m┃\u001b[1;37;44m \u001b[0m\u001b[1;37;44mMean    \u001b[0m\u001b[1;37;44m \u001b[0m┃\u001b[1;37;44m \u001b[0m\u001b[1;37;44mFold 1  \u001b[0m\u001b[1;37;44m \u001b[0m┃\u001b[1;37;44m \u001b[0m\u001b[1;37;44mFold 2  \u001b[0m\u001b[1;37;44m \u001b[0m┃\u001b[1;37;44m \u001b[0m\u001b[1;37;44mFold 3  \u001b[0m\u001b[1;37;44m \u001b[0m┃\u001b[1;37;44m \u001b[0m\u001b[1;37;44mFold 4  \u001b[0m\u001b[1;37;44m \u001b[0m┃\u001b[1;37;44m \u001b[0m\u001b[1;37;44mFold 5  \u001b[0m\u001b[1;37;44m \u001b[0m┃\n",
       "┡━━━━━━━━━━━━━━╇━━━━━━━━━━╇━━━━━━━━━━╇━━━━━━━━━━╇━━━━━━━━━━╇━━━━━━━━━━╇━━━━━━━━━━┩\n",
       "│ score        │ -2286.04 │ -1982.89 │ -3081.41 │ -1547.35 │ -2115.60 │ -2224.41 │\n",
       "│ airflow_mae  │ -133.76  │ -130.37  │ -152.37  │ -117.56  │ -119.97  │ -135.81  │\n",
       "│ airflow_rmse │ -197.91  │ -188.74  │ -233.16  │ -164.24  │ -179.45  │ -195.30  │\n",
       "│ pres_mae     │ -12.09   │ -11.95   │ -11.78   │ -11.35   │ -12.71   │ -12.87   │\n",
       "│ pres_rmse    │ -17.38   │ -17.34   │ -17.01   │ -15.66   │ -18.67   │ -18.19   │\n",
       "└──────────────┴──────────┴──────────┴──────────┴──────────┴──────────┴──────────┘\n"
      ]
     },
     "metadata": {},
     "output_type": "display_data"
    }
   ],
   "source": [
    "_model = DecisionTreeRegressor()\n",
    "\n",
    "cv_mthd = RepeatedKFold(n_splits=5, n_repeats=3, random_state=44)\n",
    "ccp_scoring = get_ccp_scoring()\n",
    "results = cross_validate(_model, X=x_train, y=y_train, cv=cv_mthd, scoring=ccp_scoring)\n",
    "print_results_table(results, ccp_scoring)"
   ]
  },
  {
   "cell_type": "markdown",
   "metadata": {},
   "source": [
    "# Grid Search(scaled)"
   ]
  },
  {
   "cell_type": "code",
   "execution_count": 30,
   "metadata": {},
   "outputs": [
    {
     "name": "stdout",
     "output_type": "stream",
     "text": [
      "Fitting 10 folds for each of 900 candidates, totalling 9000 fits\n"
     ]
    },
    {
     "data": {
      "text/html": [
       "<pre style=\"white-space:pre;overflow-x:auto;line-height:normal;font-family:Menlo,'DejaVu Sans Mono',consolas,'Courier New',monospace\"><span style=\"font-style: italic\">                    DT                    </span>\n",
       "┏━━━━━━━━━┯━━━━━━━━━┯━━━━━━━━━┯━━━━━━━━━━┓\n",
       "┃<span style=\"font-weight: bold\"> Feature </span>│<span style=\"font-weight: bold\"> MAE(Pa) </span>│<span style=\"font-weight: bold\">  MAPE   </span>│<span style=\"font-weight: bold\"> RMSE(Pa) </span>┃\n",
       "┠─────────┼─────────┼─────────┼──────────┨\n",
       "┃<span style=\"color: #7f7f7f; text-decoration-color: #7f7f7f\"> Airflow </span>│ 139.69  │  9.32%  │  209.34  ┃\n",
       "┃<span style=\"color: #7f7f7f; text-decoration-color: #7f7f7f\"> Pres    </span>│  10.43  │ 790.67% │  15.30   ┃\n",
       "┗━━━━━━━━━┷━━━━━━━━━┷━━━━━━━━━┷━━━━━━━━━━┛\n",
       "</pre>\n"
      ],
      "text/plain": [
       "\u001b[3m                    DT                    \u001b[0m\n",
       "┏━━━━━━━━━┯━━━━━━━━━┯━━━━━━━━━┯━━━━━━━━━━┓\n",
       "┃\u001b[1m \u001b[0m\u001b[1mFeature\u001b[0m\u001b[1m \u001b[0m│\u001b[1m \u001b[0m\u001b[1mMAE(Pa)\u001b[0m\u001b[1m \u001b[0m│\u001b[1m \u001b[0m\u001b[1m MAPE  \u001b[0m\u001b[1m \u001b[0m│\u001b[1m \u001b[0m\u001b[1mRMSE(Pa)\u001b[0m\u001b[1m \u001b[0m┃\n",
       "┠─────────┼─────────┼─────────┼──────────┨\n",
       "┃\u001b[2m \u001b[0m\u001b[2mAirflow\u001b[0m\u001b[2m \u001b[0m│ 139.69  │  9.32%  │  209.34  ┃\n",
       "┃\u001b[2m \u001b[0m\u001b[2mPres   \u001b[0m\u001b[2m \u001b[0m│  10.43  │ 790.67% │  15.30   ┃\n",
       "┗━━━━━━━━━┷━━━━━━━━━┷━━━━━━━━━┷━━━━━━━━━━┛\n"
      ]
     },
     "metadata": {},
     "output_type": "display_data"
    },
    {
     "name": "stdout",
     "output_type": "stream",
     "text": [
      "Best Parameters for DT : {'criterion': 'squared_error', 'max_depth': 18, 'min_samples_split': 8, 'splitter': 'best'}\n",
      "Best Score for DT : -0.32911974026784085\n"
     ]
    }
   ],
   "source": [
    "model_name = \"DT\"\n",
    "x_train, x_test, y_train, y_test = train_test_split(\n",
    "    X_scaled, y_scaled, test_size=0.1, random_state=42\n",
    ")\n",
    "grid_search = GridSearchCV(\n",
    "    DecisionTreeRegressor(),\n",
    "    param_grid=[\n",
    "        {\n",
    "            \"criterion\": [\"squared_error\", \"friedman_mse\", \"absolute_error\"],\n",
    "            \"splitter\": [\"best\", \"random\"],\n",
    "            \"max_depth\": range(5, 20),\n",
    "            \"min_samples_split\": range(5, 15),\n",
    "        },\n",
    "    ],\n",
    "    scoring=\"neg_mean_absolute_error\",\n",
    "\n",
    "    cv=KFold(n_splits=10, shuffle=True, random_state=42),\n",
    "    verbose=1,\n",
    "    n_jobs=-1,\n",
    ")\n",
    "grid_search.fit(x_train, y_train)\n",
    "calculate_metrics(\n",
    "    scaler_y.inverse_transform(grid_search.best_estimator_.predict(x_test)),\n",
    "    scaler_y.inverse_transform(y_test),\n",
    "    print_metrics=True,\n",
    "    title=model_name,\n",
    ")\n",
    "print(\"Best Parameters for\", model_name, \":\", grid_search.best_params_)\n",
    "print(\"Best Score for\", model_name, \":\", grid_search.best_score_)"
   ]
  }
 ],
 "metadata": {
  "kernelspec": {
   "display_name": "Python 3 (ipykernel)",
   "language": "python",
   "name": "python3"
  },
  "language_info": {
   "codemirror_mode": {
    "name": "ipython",
    "version": 3
   },
   "file_extension": ".py",
   "mimetype": "text/x-python",
   "name": "python",
   "nbconvert_exporter": "python",
   "pygments_lexer": "ipython3",
   "version": "3.10.11"
  },
  "toc-autonumbering": true,
  "toc-showcode": false,
  "toc-showtags": false
 },
 "nbformat": 4,
 "nbformat_minor": 4
}
