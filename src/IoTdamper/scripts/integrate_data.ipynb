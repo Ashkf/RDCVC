{
 "cells": [
  {
   "cell_type": "code",
   "execution_count": 1,
   "metadata": {},
   "outputs": [],
   "source": [
    "import os\n",
    "import pandas as pd"
   ]
  },
  {
   "cell_type": "markdown",
   "metadata": {},
   "source": [
    "# 读取所有数据"
   ]
  },
  {
   "cell_type": "code",
   "execution_count": 2,
   "metadata": {},
   "outputs": [],
   "source": [
    "def read_excel_files(directory, num_skiprows):\n",
    "    all_data = []\n",
    "    for filename in os.listdir(directory):\n",
    "        if filename.endswith(\".xlsx\") or filename.endswith(\".xls\"):\n",
    "            file_path = os.path.join(directory, filename)\n",
    "            df = pd.read_excel(file_path, skiprows=num_skiprows)\n",
    "            all_data.append(df)\n",
    "    return all_data\n",
    "\n",
    "\n",
    "# 指定目录路径\n",
    "directory_path = \"../data/IoTDamper_v5/第五版物联网风阀320×250/\"\n",
    "# 调用函数读取目录下的所有Excel文件\n",
    "dfs = read_excel_files(directory_path, num_skiprows=4)"
   ]
  },
  {
   "cell_type": "code",
   "execution_count": 3,
   "metadata": {},
   "outputs": [
    {
     "data": {
      "text/html": [
       "<div>\n",
       "<style scoped>\n",
       "    .dataframe tbody tr th:only-of-type {\n",
       "        vertical-align: middle;\n",
       "    }\n",
       "\n",
       "    .dataframe tbody tr th {\n",
       "        vertical-align: top;\n",
       "    }\n",
       "\n",
       "    .dataframe thead th {\n",
       "        text-align: right;\n",
       "    }\n",
       "</style>\n",
       "<table border=\"1\" class=\"dataframe\">\n",
       "  <thead>\n",
       "    <tr style=\"text-align: right;\">\n",
       "      <th></th>\n",
       "      <th>前阀片组开度</th>\n",
       "      <th>后阀片开度</th>\n",
       "      <th>风量罩风量（m3/h）</th>\n",
       "      <th>风阀+连接件前后压差（Pa）</th>\n",
       "      <th>风阀读取压差（Pa）</th>\n",
       "    </tr>\n",
       "  </thead>\n",
       "  <tbody>\n",
       "    <tr>\n",
       "      <th>0</th>\n",
       "      <td>90</td>\n",
       "      <td>90</td>\n",
       "      <td>131</td>\n",
       "      <td>0.0</td>\n",
       "      <td>1.5</td>\n",
       "    </tr>\n",
       "    <tr>\n",
       "      <th>1</th>\n",
       "      <td>90</td>\n",
       "      <td>75</td>\n",
       "      <td>130</td>\n",
       "      <td>0.0</td>\n",
       "      <td>1.5</td>\n",
       "    </tr>\n",
       "    <tr>\n",
       "      <th>2</th>\n",
       "      <td>90</td>\n",
       "      <td>60</td>\n",
       "      <td>129</td>\n",
       "      <td>0.0</td>\n",
       "      <td>1.6</td>\n",
       "    </tr>\n",
       "    <tr>\n",
       "      <th>3</th>\n",
       "      <td>90</td>\n",
       "      <td>45</td>\n",
       "      <td>129</td>\n",
       "      <td>0.0</td>\n",
       "      <td>1.6</td>\n",
       "    </tr>\n",
       "    <tr>\n",
       "      <th>4</th>\n",
       "      <td>90</td>\n",
       "      <td>30</td>\n",
       "      <td>127</td>\n",
       "      <td>0.0</td>\n",
       "      <td>2.4</td>\n",
       "    </tr>\n",
       "  </tbody>\n",
       "</table>\n",
       "</div>"
      ],
      "text/plain": [
       "   前阀片组开度  后阀片开度  风量罩风量（m3/h）  风阀+连接件前后压差（Pa）  风阀读取压差（Pa）\n",
       "0      90     90          131             0.0         1.5\n",
       "1      90     75          130             0.0         1.5\n",
       "2      90     60          129             0.0         1.6\n",
       "3      90     45          129             0.0         1.6\n",
       "4      90     30          127             0.0         2.4"
      ]
     },
     "execution_count": 3,
     "metadata": {},
     "output_type": "execute_result"
    }
   ],
   "source": [
    "# 查看读取的一个 df\n",
    "df = dfs[0]\n",
    "df.head()"
   ]
  },
  {
   "cell_type": "markdown",
   "metadata": {},
   "source": [
    "# 划分数据集"
   ]
  },
  {
   "cell_type": "code",
   "execution_count": 4,
   "metadata": {},
   "outputs": [
    {
     "data": {
      "text/plain": [
       "[3, 9, 15, 17, 24, 26, 31, 38]"
      ]
     },
     "execution_count": 4,
     "metadata": {},
     "output_type": "execute_result"
    }
   ],
   "source": [
    "val_indexs = [9, 15, 21, 23, 30, 32, 37, 44]\n",
    "val_indexs = [ids - 6 for ids in val_indexs]  # 每个 df 中作为验证数据的索引\n",
    "# val_index = df.index.isin(val_indexs)\n",
    "val_indexs"
   ]
  },
  {
   "cell_type": "code",
   "execution_count": 5,
   "metadata": {},
   "outputs": [],
   "source": [
    "df_val = pd.DataFrame()\n",
    "df_train = pd.DataFrame()\n",
    "\n",
    "for df in dfs:\n",
    "    val_rows = df[df.index.isin(val_indexs)]   # 提取索引行\n",
    "    train_rows = df[~df.index.isin(val_indexs)]   # 提取剩余行\n",
    "\n",
    "    df_val = pd.concat([df_val, val_rows])   # 将索引行添加到 df_val\n",
    "    df_train = pd.concat([df_train, train_rows])   # 将剩余行添加到 df_train\n"
   ]
  },
  {
   "cell_type": "code",
   "execution_count": 6,
   "metadata": {},
   "outputs": [
    {
     "data": {
      "text/html": [
       "<div>\n",
       "<style scoped>\n",
       "    .dataframe tbody tr th:only-of-type {\n",
       "        vertical-align: middle;\n",
       "    }\n",
       "\n",
       "    .dataframe tbody tr th {\n",
       "        vertical-align: top;\n",
       "    }\n",
       "\n",
       "    .dataframe thead th {\n",
       "        text-align: right;\n",
       "    }\n",
       "</style>\n",
       "<table border=\"1\" class=\"dataframe\">\n",
       "  <thead>\n",
       "    <tr style=\"text-align: right;\">\n",
       "      <th></th>\n",
       "      <th>前阀片组开度</th>\n",
       "      <th>后阀片开度</th>\n",
       "      <th>风量罩风量（m3/h）</th>\n",
       "      <th>风阀+连接件前后压差（Pa）</th>\n",
       "      <th>风阀读取压差（Pa）</th>\n",
       "    </tr>\n",
       "  </thead>\n",
       "  <tbody>\n",
       "    <tr>\n",
       "      <th>3</th>\n",
       "      <td>90</td>\n",
       "      <td>45</td>\n",
       "      <td>129</td>\n",
       "      <td>0.0</td>\n",
       "      <td>1.6</td>\n",
       "    </tr>\n",
       "    <tr>\n",
       "      <th>9</th>\n",
       "      <td>75</td>\n",
       "      <td>60</td>\n",
       "      <td>130</td>\n",
       "      <td>0.0</td>\n",
       "      <td>1.6</td>\n",
       "    </tr>\n",
       "    <tr>\n",
       "      <th>15</th>\n",
       "      <td>60</td>\n",
       "      <td>75</td>\n",
       "      <td>130</td>\n",
       "      <td>0.0</td>\n",
       "      <td>1.5</td>\n",
       "    </tr>\n",
       "    <tr>\n",
       "      <th>17</th>\n",
       "      <td>60</td>\n",
       "      <td>45</td>\n",
       "      <td>129</td>\n",
       "      <td>0.0</td>\n",
       "      <td>1.6</td>\n",
       "    </tr>\n",
       "    <tr>\n",
       "      <th>24</th>\n",
       "      <td>45</td>\n",
       "      <td>45</td>\n",
       "      <td>125</td>\n",
       "      <td>3.6</td>\n",
       "      <td>1.6</td>\n",
       "    </tr>\n",
       "    <tr>\n",
       "      <th>...</th>\n",
       "      <td>...</td>\n",
       "      <td>...</td>\n",
       "      <td>...</td>\n",
       "      <td>...</td>\n",
       "      <td>...</td>\n",
       "    </tr>\n",
       "    <tr>\n",
       "      <th>17</th>\n",
       "      <td>60</td>\n",
       "      <td>45</td>\n",
       "      <td>1796</td>\n",
       "      <td>254.9</td>\n",
       "      <td>290.0</td>\n",
       "    </tr>\n",
       "    <tr>\n",
       "      <th>24</th>\n",
       "      <td>45</td>\n",
       "      <td>45</td>\n",
       "      <td>1670</td>\n",
       "      <td>308.7</td>\n",
       "      <td>337.6</td>\n",
       "    </tr>\n",
       "    <tr>\n",
       "      <th>26</th>\n",
       "      <td>45</td>\n",
       "      <td>15</td>\n",
       "      <td>1131</td>\n",
       "      <td>474.7</td>\n",
       "      <td>557.5</td>\n",
       "    </tr>\n",
       "    <tr>\n",
       "      <th>31</th>\n",
       "      <td>30</td>\n",
       "      <td>45</td>\n",
       "      <td>1390</td>\n",
       "      <td>409.0</td>\n",
       "      <td>425.4</td>\n",
       "    </tr>\n",
       "    <tr>\n",
       "      <th>38</th>\n",
       "      <td>15</td>\n",
       "      <td>45</td>\n",
       "      <td>924</td>\n",
       "      <td>524.4</td>\n",
       "      <td>543.8</td>\n",
       "    </tr>\n",
       "  </tbody>\n",
       "</table>\n",
       "<p>64 rows × 5 columns</p>\n",
       "</div>"
      ],
      "text/plain": [
       "    前阀片组开度  后阀片开度  风量罩风量（m3/h）  风阀+连接件前后压差（Pa）  风阀读取压差（Pa）\n",
       "3       90     45          129             0.0         1.6\n",
       "9       75     60          130             0.0         1.6\n",
       "15      60     75          130             0.0         1.5\n",
       "17      60     45          129             0.0         1.6\n",
       "24      45     45          125             3.6         1.6\n",
       "..     ...    ...          ...             ...         ...\n",
       "17      60     45         1796           254.9       290.0\n",
       "24      45     45         1670           308.7       337.6\n",
       "26      45     15         1131           474.7       557.5\n",
       "31      30     45         1390           409.0       425.4\n",
       "38      15     45          924           524.4       543.8\n",
       "\n",
       "[64 rows x 5 columns]"
      ]
     },
     "execution_count": 6,
     "metadata": {},
     "output_type": "execute_result"
    }
   ],
   "source": [
    "df_val"
   ]
  },
  {
   "cell_type": "markdown",
   "metadata": {},
   "source": [
    "# 储存数据"
   ]
  },
  {
   "cell_type": "code",
   "execution_count": 7,
   "metadata": {},
   "outputs": [],
   "source": [
    "# 创建 ExcelWriter 对象，并指定文件名\n",
    "writer = pd.ExcelWriter('../data/integrated.xlsx', engine='xlsxwriter')\n",
    "\n",
    "# 将 df_train 存储到 \"train\" 工作表中\n",
    "df_train.to_excel(writer, sheet_name='train', index=False)\n",
    "# 将 df_val 存储到 \"val\" 工作表中\n",
    "df_val.to_excel(writer, sheet_name='val', index=False)\n",
    "\n",
    "# 保存并关闭 ExcelWriter\n",
    "writer.close()"
   ]
  }
 ],
 "metadata": {
  "kernelspec": {
   "display_name": "ml-research",
   "language": "python",
   "name": "python3"
  },
  "language_info": {
   "codemirror_mode": {
    "name": "ipython",
    "version": 3
   },
   "file_extension": ".py",
   "mimetype": "text/x-python",
   "name": "python",
   "nbconvert_exporter": "python",
   "pygments_lexer": "ipython3",
   "version": "3.10.11"
  },
  "orig_nbformat": 4
 },
 "nbformat": 4,
 "nbformat_minor": 2
}
