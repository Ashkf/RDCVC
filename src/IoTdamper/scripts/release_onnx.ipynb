{
 "cells": [
  {
   "cell_type": "code",
   "execution_count": 2,
   "metadata": {},
   "outputs": [],
   "source": [
    "import torch"
   ]
  },
  {
   "cell_type": "code",
   "execution_count": 3,
   "metadata": {},
   "outputs": [],
   "source": [
    "from NNcore.models.base.mlp import  MLPL12DsPTV\n",
    "\n",
    "model = MLPL12DsPTV()"
   ]
  },
  {
   "cell_type": "code",
   "execution_count": 4,
   "metadata": {},
   "outputs": [
    {
     "data": {
      "text/plain": [
       "<All keys matched successfully>"
      ]
     },
     "execution_count": 4,
     "metadata": {},
     "output_type": "execute_result"
    }
   ],
   "source": [
    "model.load_state_dict(\n",
    "    torch.load(\n",
    "        r\"D:\\OneDrive\\01 WORK\\# DampersClusterControl\\03 IoT damper fitting\\checkpoints\\mlp-l12-dpTv_BS36_LR0.001_EP500_2023-08-20T21-10-53\\ckps\\ckp_E0490-B0000.pth\"\n",
    "    )[\"model_state_dict\"]\n",
    ")"
   ]
  },
  {
   "cell_type": "code",
   "execution_count": 10,
   "metadata": {},
   "outputs": [
    {
     "name": "stdout",
     "output_type": "stream",
     "text": [
      "================ Diagnostic Run torch.onnx.export version 2.0.0 ================\n",
      "verbose: False, log level: Level.ERROR\n",
      "======================= 0 NONE 0 NOTE 0 WARNING 0 ERROR ========================\n",
      "\n"
     ]
    }
   ],
   "source": [
    "model.eval()\n",
    "batch_size = 1  # 批处理大小\n",
    "input_shape = 3  # 输入数据\n",
    "x = torch.randn(batch_size, input_shape)  # 生成张量\n",
    "export_onnx_file = \"final.onnx\"  # 目的ONNX文件名\n",
    "torch.onnx.export(\n",
    "    model,\n",
    "    x,\n",
    "    export_onnx_file,\n",
    "    opset_version=10,\n",
    "    do_constant_folding=True,  # 是否执行常量折叠优化\n",
    "    input_names=[\"input\"],  # 输入名\n",
    "    output_names=[\"output\"],  # 输出名\n",
    "    dynamic_axes={\"input\": {0: \"batch_size\"}, \"output\": {0: \"batch_size\"}},  # 批处理变量\n",
    ")"
   ]
  },
  {
   "cell_type": "code",
   "execution_count": 6,
   "metadata": {},
   "outputs": [],
   "source": [
    "model.eval()\n",
    "torch.save(model,\"final_model.pth\")"
   ]
  }
 ],
 "metadata": {
  "kernelspec": {
   "display_name": "ml-research",
   "language": "python",
   "name": "python3"
  },
  "language_info": {
   "codemirror_mode": {
    "name": "ipython",
    "version": 3
   },
   "file_extension": ".py",
   "mimetype": "text/x-python",
   "name": "python",
   "nbconvert_exporter": "python",
   "pygments_lexer": "ipython3",
   "version": "3.10.11"
  },
  "orig_nbformat": 4
 },
 "nbformat": 4,
 "nbformat_minor": 2
}
